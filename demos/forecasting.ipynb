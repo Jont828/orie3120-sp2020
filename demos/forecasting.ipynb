{
 "cells": [
  {
   "cell_type": "code",
   "execution_count": null,
   "metadata": {},
   "outputs": [],
   "source": [
    "import numpy as np\n",
    "from numpy.random import randn\n",
    "\n",
    "import matplotlib.pyplot as plt\n",
    "import pandas as pd\n",
    "\n",
    "from statsmodels.tsa.api import ExponentialSmoothing, SimpleExpSmoothing, Holt\n",
    "import statsmodels.api as sm"
   ]
  },
  {
   "cell_type": "code",
   "execution_count": null,
   "metadata": {},
   "outputs": [],
   "source": [
    "# Generate synthetic data\n",
    "np.random.seed(0)\n",
    "n = 100\n",
    "a  = np.zeros(n) # create an array of 0's of length n\n",
    "s = 1 # controls how fast true mean moves\n",
    "a[0] = 100\n",
    "for i in range(1,n):\n",
    "    a[i] = a[i-1] + s*randn()\n",
    "noise_std = 0.8\n",
    "x = a + noise_std*randn(n)\n",
    "\n",
    "plt.scatter(range(n), x, marker='.', color='black')\n",
    "p = plt.plot(a)"
   ]
  },
  {
   "cell_type": "code",
   "execution_count": null,
   "metadata": {},
   "outputs": [],
   "source": [
    "# fit = SimpleExpSmoothing(x).fit(smoothing_level=0.1,optimized=False) # choose smoothing level explicitly\n",
    "fit = SimpleExpSmoothing(x).fit() # choose smoothing level to best fit data\n",
    "xhat = fit.fittedvalues\n",
    "plt.scatter(range(n), x, marker='.', color='black')\n",
    "p = plt.plot(a)\n",
    "plt.plot(range(n), xhat, color='red')"
   ]
  },
  {
   "cell_type": "markdown",
   "metadata": {},
   "source": [
    "* Change noise std and s and see how it affects x.\n",
    "* Change the alpha parameter to see how it affects the red line, and to make the red line track x.\n",
    "* Remove the arguments to fit() to let SimpleExpSmoothing fit alpha for you.\n",
    "* How does the optimal value of alpha change as you change noise std and s?"
   ]
  },
  {
   "cell_type": "code",
   "execution_count": null,
   "metadata": {},
   "outputs": [],
   "source": [
    "# fit.params shows the chosen values for all parameters \n",
    "fit.params"
   ]
  },
  {
   "cell_type": "code",
   "execution_count": null,
   "metadata": {},
   "outputs": [],
   "source": [
    "# forecast, too!\n",
    "xhat = fit.fittedvalues\n",
    "l = 10\n",
    "forecast = fit.forecast(l)\n",
    "\n",
    "# plot with forecast\n",
    "plt.scatter(range(n), x, marker='.', color='black')\n",
    "p = plt.plot(a)\n",
    "plt.plot(range(n), xhat, color='red')\n",
    "plt.plot(range(n,n+l), forecast, color='red')"
   ]
  },
  {
   "cell_type": "markdown",
   "metadata": {},
   "source": [
    "# Holt's method: add a trend"
   ]
  },
  {
   "cell_type": "code",
   "execution_count": null,
   "metadata": {},
   "outputs": [],
   "source": [
    "np.random.seed(0)\n",
    "n = 100\n",
    "a = np.zeros(n)\n",
    "b = np.zeros(n)\n",
    "a[0] = 100 # initial level\n",
    "b[0] = 1 # initial trend\n",
    "\n",
    "for i in range(1,n):\n",
    "    b[i] = b[i-1] + 0.2*randn()      # trend changes slowly\n",
    "    a[i] = a[i-1] + b[i-1] + randn() # level moves with the trend + extra random movement\n",
    "\n",
    "# We observe the level + extra noise\n",
    "x = a + .9*randn(n) \n",
    "\n",
    "# fit the model\n",
    "fit = Holt(x).fit(smoothing_level=0.2,smoothing_slope=.5,optimized=False)\n",
    "# fit = Holt(x).fit()\n",
    "xhat = fit.fittedvalues\n",
    "\n",
    "# plot\n",
    "plt.scatter(range(n), x, marker='.', color='black')\n",
    "p = plt.plot(a)\n",
    "plt.plot(range(n), xhat, color='red')"
   ]
  },
  {
   "cell_type": "markdown",
   "metadata": {},
   "source": [
    "Suppose I change the code to set initial value of trend b[0] = -1. What will happen?\n",
    "* (up) The blue line will trend downward\n",
    "* (down) The blue line will trend upward more quickly\n",
    "* (yes) The blue line will stay at 0\n",
    "* (no) The blue line will bounce around more\n",
    "* (coffee) The black dots will be further away from the black line."
   ]
  },
  {
   "cell_type": "markdown",
   "metadata": {},
   "source": [
    "Suppose I change 0.8 to 5 in defining the observations `x = a + 0.8*randn(n)`. What will happen?\n",
    "* (up) The blue line will trend downward\n",
    "* (down) The blue line will trend upward more quickly\n",
    "* (yes) The blue line will stay at 0\n",
    "* (no) The blue line will bounce around more\n",
    "* (coffee) The black dots will be further away from the black line."
   ]
  },
  {
   "cell_type": "markdown",
   "metadata": {},
   "source": [
    "Suppose I multiply `randn()` by 3 in defining the level `a[i] = a[i-1] + b[i-1] + randn()`. What will happen?\n",
    "* (up) The blue line will trend downward\n",
    "* (down) The blue line will trend upward more quickly\n",
    "* (yes) The blue line will stay at 0\n",
    "* (no) The blue line will bounce around more\n",
    "* (coffee) The black dots will be further away from the black line."
   ]
  },
  {
   "cell_type": "code",
   "execution_count": null,
   "metadata": {},
   "outputs": [],
   "source": [
    "# fit \n",
    "fit = Holt(x).fit()\n",
    "xhat = fit.fittedvalues\n",
    "\n",
    "# forecast, too!\n",
    "xhat = fit.fittedvalues\n",
    "l = 10 # how far out to forecast\n",
    "forecast = fit.forecast(l)\n",
    "\n",
    "# plot with forecast\n",
    "plt.scatter(range(n), x, marker='.', color='black')\n",
    "p = plt.plot(a)\n",
    "plt.plot(range(n), xhat, color='red')\n",
    "plt.plot(range(n,n+l), forecast, color='red')"
   ]
  },
  {
   "cell_type": "markdown",
   "metadata": {},
   "source": [
    "# Holt-Winters: Add seasonality, too!\n",
    "\n",
    "Let's show how to use the `ExponentialSmoothing` class to control how we fit the level, slope, and seasonality."
   ]
  },
  {
   "cell_type": "code",
   "execution_count": null,
   "metadata": {},
   "outputs": [],
   "source": [
    "ExponentialSmoothing?"
   ]
  },
  {
   "cell_type": "code",
   "execution_count": null,
   "metadata": {},
   "outputs": [],
   "source": [
    "# call method with just a timeseries \n",
    "# -> fits a model with just a level (no slope or seasonality) \n",
    "# -> learns the smoothing_level parameter\n",
    "model = ExponentialSmoothing(x).fit()\n",
    "model.params"
   ]
  },
  {
   "cell_type": "code",
   "execution_count": null,
   "metadata": {},
   "outputs": [],
   "source": [
    "# you can control the smoothing_level parameter yourself if you prefer\n",
    "model = ExponentialSmoothing(x).fit(smoothing_level=0.2)\n",
    "model.params"
   ]
  },
  {
   "cell_type": "code",
   "execution_count": null,
   "metadata": {},
   "outputs": [],
   "source": [
    "# can also add an (additive or multiplicative) trend \n",
    "model = ExponentialSmoothing(x, trend='add').fit()\n",
    "model.params"
   ]
  },
  {
   "cell_type": "code",
   "execution_count": null,
   "metadata": {},
   "outputs": [],
   "source": [
    "# you can control the smoothing_level and smoothing_slope parameters yourself if you prefer\n",
    "model = ExponentialSmoothing(x).fit(smoothing_level=0.2,smoothing_slope=.5) \n",
    "model.params"
   ]
  },
  {
   "cell_type": "code",
   "execution_count": null,
   "metadata": {},
   "outputs": [],
   "source": [
    "# can add a trend and seasonality\n",
    "model = ExponentialSmoothing(x, trend='add', seasonal='mul', seasonal_periods=12).fit()\n",
    "model.params"
   ]
  },
  {
   "cell_type": "code",
   "execution_count": null,
   "metadata": {},
   "outputs": [],
   "source": [
    "# can control parameters explicitly\n",
    "# -> can control some parameters and optimize over others\n",
    "model = ExponentialSmoothing(x, trend='add', seasonal='mul', seasonal_periods=12)\n",
    "model.fit(smoothing_seasonal=.5)\n",
    "model.params"
   ]
  },
  {
   "cell_type": "markdown",
   "metadata": {},
   "source": [
    "# Application: predicting co2 levels"
   ]
  },
  {
   "cell_type": "code",
   "execution_count": null,
   "metadata": {},
   "outputs": [],
   "source": [
    "from sklearn import datasets"
   ]
  },
  {
   "cell_type": "code",
   "execution_count": null,
   "metadata": {},
   "outputs": [],
   "source": [
    "co2 = sm.datasets.co2.load()"
   ]
  },
  {
   "cell_type": "code",
   "execution_count": null,
   "metadata": {},
   "outputs": [],
   "source": [
    "co2 = pd.DataFrame(co2.data)\n",
    "co2.head()"
   ]
  },
  {
   "cell_type": "code",
   "execution_count": null,
   "metadata": {},
   "outputs": [],
   "source": [
    "dates = [pd.to_datetime(int(d), format = '%Y%m%d') for d in co2['date']]\n",
    "co2['date'] = dates\n",
    "co2.head()"
   ]
  },
  {
   "cell_type": "markdown",
   "metadata": {},
   "source": [
    "# Application: predicting sales"
   ]
  },
  {
   "cell_type": "code",
   "execution_count": null,
   "metadata": {},
   "outputs": [],
   "source": [
    "pd.read_csv(\"SalesAndForecastsTimeSeries.csv\")"
   ]
  }
 ],
 "metadata": {
  "kernelspec": {
   "display_name": "Python 3",
   "language": "python",
   "name": "python3"
  },
  "language_info": {
   "codemirror_mode": {
    "name": "ipython",
    "version": 3
   },
   "file_extension": ".py",
   "mimetype": "text/x-python",
   "name": "python",
   "nbconvert_exporter": "python",
   "pygments_lexer": "ipython3",
   "version": "3.7.1"
  }
 },
 "nbformat": 4,
 "nbformat_minor": 2
}
