{
 "cells": [
  {
   "cell_type": "markdown",
   "metadata": {},
   "source": [
    "# Linear regression demo"
   ]
  },
  {
   "cell_type": "markdown",
   "metadata": {},
   "source": [
    "Load packages we will use"
   ]
  },
  {
   "cell_type": "code",
   "execution_count": 2,
   "metadata": {},
   "outputs": [],
   "source": [
    "# math \n",
    "import numpy as np\n",
    "\n",
    "# dataframes\n",
    "import pandas as pd\n",
    "\n",
    "# plotting\n",
    "import matplotlib.pyplot as plt\n",
    "import seaborn\n",
    "\n",
    "# linear regression two ways\n",
    "import statsmodels.api as sm\n",
    "from sklearn.linear_model import LinearRegression\n",
    "\n",
    "# for choosing covariates to include in model\n",
    "from patsy import dmatrices "
   ]
  },
  {
   "cell_type": "markdown",
   "metadata": {},
   "source": [
    "# Basic python"
   ]
  },
  {
   "cell_type": "code",
   "execution_count": 3,
   "metadata": {},
   "outputs": [
    {
     "data": {
      "text/plain": [
       "21"
      ]
     },
     "execution_count": 3,
     "metadata": {},
     "output_type": "execute_result"
    }
   ],
   "source": [
    "# basic math \n",
    "2+2+17"
   ]
  },
  {
   "cell_type": "code",
   "execution_count": 4,
   "metadata": {},
   "outputs": [
    {
     "ename": "NameError",
     "evalue": "name 'pi' is not defined",
     "output_type": "error",
     "traceback": [
      "\u001b[0;31m---------------------------------------------------------------------------\u001b[0m",
      "\u001b[0;31mNameError\u001b[0m                                 Traceback (most recent call last)",
      "\u001b[0;32m<ipython-input-4-a47d20d835e9>\u001b[0m in \u001b[0;36m<module>\u001b[0;34m\u001b[0m\n\u001b[0;32m----> 1\u001b[0;31m \u001b[0;36m2\u001b[0m\u001b[0;34m*\u001b[0m\u001b[0mpi\u001b[0m\u001b[0;34m\u001b[0m\u001b[0;34m\u001b[0m\u001b[0m\n\u001b[0m",
      "\u001b[0;31mNameError\u001b[0m: name 'pi' is not defined"
     ]
    }
   ],
   "source": [
    "2*pi"
   ]
  },
  {
   "cell_type": "code",
   "execution_count": 5,
   "metadata": {},
   "outputs": [
    {
     "data": {
      "text/plain": [
       "6.283185307179586"
      ]
     },
     "execution_count": 5,
     "metadata": {},
     "output_type": "execute_result"
    }
   ],
   "source": [
    "2 * np.pi"
   ]
  },
  {
   "cell_type": "code",
   "execution_count": 6,
   "metadata": {},
   "outputs": [
    {
     "data": {
      "text/plain": [
       "[1, 2, 3]"
      ]
     },
     "execution_count": 6,
     "metadata": {},
     "output_type": "execute_result"
    }
   ],
   "source": [
    "# lists\n",
    "a = [1, 2, 3]\n",
    "a"
   ]
  },
  {
   "cell_type": "code",
   "execution_count": 7,
   "metadata": {},
   "outputs": [
    {
     "data": {
      "text/plain": [
       "[1, 2, 3, 17]"
      ]
     },
     "execution_count": 7,
     "metadata": {},
     "output_type": "execute_result"
    }
   ],
   "source": [
    "a.append(17)\n",
    "a"
   ]
  },
  {
   "cell_type": "code",
   "execution_count": 8,
   "metadata": {},
   "outputs": [
    {
     "data": {
      "text/plain": [
       "1"
      ]
     },
     "execution_count": 8,
     "metadata": {},
     "output_type": "execute_result"
    }
   ],
   "source": [
    "# python uses 0-based indexing \n",
    "a[0]"
   ]
  },
  {
   "cell_type": "code",
   "execution_count": 9,
   "metadata": {},
   "outputs": [
    {
     "data": {
      "text/plain": [
       "{'a': 1, 'b': 2, 'c': 3}"
      ]
     },
     "execution_count": 9,
     "metadata": {},
     "output_type": "execute_result"
    }
   ],
   "source": [
    "# dictionaries \n",
    "d = {'a': 1, 'b': 2, 'c': 3}\n",
    "d"
   ]
  },
  {
   "cell_type": "code",
   "execution_count": 10,
   "metadata": {},
   "outputs": [
    {
     "data": {
      "text/plain": [
       "2"
      ]
     },
     "execution_count": 10,
     "metadata": {},
     "output_type": "execute_result"
    }
   ],
   "source": [
    "d['b']"
   ]
  },
  {
   "cell_type": "code",
   "execution_count": 11,
   "metadata": {},
   "outputs": [
    {
     "ename": "KeyError",
     "evalue": "'d'",
     "output_type": "error",
     "traceback": [
      "\u001b[0;31m---------------------------------------------------------------------------\u001b[0m",
      "\u001b[0;31mKeyError\u001b[0m                                  Traceback (most recent call last)",
      "\u001b[0;32m<ipython-input-11-0d700facf69e>\u001b[0m in \u001b[0;36m<module>\u001b[0;34m\u001b[0m\n\u001b[0;32m----> 1\u001b[0;31m \u001b[0md\u001b[0m\u001b[0;34m[\u001b[0m\u001b[0;34m'd'\u001b[0m\u001b[0;34m]\u001b[0m\u001b[0;34m\u001b[0m\u001b[0;34m\u001b[0m\u001b[0m\n\u001b[0m",
      "\u001b[0;31mKeyError\u001b[0m: 'd'"
     ]
    }
   ],
   "source": [
    "d['d']"
   ]
  },
  {
   "cell_type": "code",
   "execution_count": 12,
   "metadata": {},
   "outputs": [
    {
     "data": {
      "text/plain": [
       "4"
      ]
     },
     "execution_count": 12,
     "metadata": {},
     "output_type": "execute_result"
    }
   ],
   "source": [
    "d['d'] = 4\n",
    "d['d']"
   ]
  },
  {
   "cell_type": "code",
   "execution_count": 13,
   "metadata": {},
   "outputs": [
    {
     "name": "stdout",
     "output_type": "stream",
     "text": [
      "hello 0\n",
      "hello 0\n",
      "hello 1\n",
      "hello 1\n",
      "hello 2\n",
      "hello 2\n",
      "hello 3\n",
      "hello 3\n",
      "hello 4\n",
      "hello 4\n",
      "hello 5\n",
      "hello 5\n",
      "hello 6\n",
      "hello 6\n",
      "hello 7\n",
      "hello 7\n",
      "hello 8\n",
      "hello 8\n",
      "hello 9\n",
      "hello 9\n"
     ]
    }
   ],
   "source": [
    "# for loops\n",
    "for i in range(10):\n",
    "    print(\"hello\", i)\n",
    "    print(\"hello\", i)"
   ]
  },
  {
   "cell_type": "code",
   "execution_count": 51,
   "metadata": {},
   "outputs": [
    {
     "data": {
      "text/plain": [
       "120"
      ]
     },
     "execution_count": 51,
     "metadata": {},
     "output_type": "execute_result"
    }
   ],
   "source": [
    "# functions, if statements\n",
    "def fibonacci(n=5):\n",
    "    if n==0:\n",
    "        return 1\n",
    "    else:\n",
    "        return n*fibonacci(n-1)\n",
    "    \n",
    "fibonacci()"
   ]
  },
  {
   "cell_type": "markdown",
   "metadata": {},
   "source": [
    "# Jupyter workflow tips\n",
    "\n",
    "* run a cell with Shift-Enter\n",
    "* Jupyter displays value of last expression in cell \n",
    "* open a new cell below the current one (Alt-Enter) to see values of variables, test assumptions\n",
    "* you can reorder cells using the arrows in the toolbar, or by copy-pasting cells up or down"
   ]
  },
  {
   "cell_type": "markdown",
   "metadata": {},
   "source": [
    "# Electricity usage example"
   ]
  },
  {
   "cell_type": "code",
   "execution_count": 55,
   "metadata": {},
   "outputs": [
    {
     "data": {
      "text/html": [
       "<div>\n",
       "<style scoped>\n",
       "    .dataframe tbody tr th:only-of-type {\n",
       "        vertical-align: middle;\n",
       "    }\n",
       "\n",
       "    .dataframe tbody tr th {\n",
       "        vertical-align: top;\n",
       "    }\n",
       "\n",
       "    .dataframe thead th {\n",
       "        text-align: right;\n",
       "    }\n",
       "</style>\n",
       "<table border=\"1\" class=\"dataframe\">\n",
       "  <thead>\n",
       "    <tr style=\"text-align: right;\">\n",
       "      <th></th>\n",
       "      <th>month</th>\n",
       "      <th>year</th>\n",
       "      <th>usage</th>\n",
       "      <th>temperature</th>\n",
       "    </tr>\n",
       "  </thead>\n",
       "  <tbody>\n",
       "    <tr>\n",
       "      <th>0</th>\n",
       "      <td>8</td>\n",
       "      <td>1989</td>\n",
       "      <td>24.828</td>\n",
       "      <td>73</td>\n",
       "    </tr>\n",
       "    <tr>\n",
       "      <th>1</th>\n",
       "      <td>9</td>\n",
       "      <td>1989</td>\n",
       "      <td>24.688</td>\n",
       "      <td>67</td>\n",
       "    </tr>\n",
       "    <tr>\n",
       "      <th>2</th>\n",
       "      <td>10</td>\n",
       "      <td>1989</td>\n",
       "      <td>19.310</td>\n",
       "      <td>57</td>\n",
       "    </tr>\n",
       "    <tr>\n",
       "      <th>3</th>\n",
       "      <td>11</td>\n",
       "      <td>1989</td>\n",
       "      <td>59.706</td>\n",
       "      <td>43</td>\n",
       "    </tr>\n",
       "    <tr>\n",
       "      <th>4</th>\n",
       "      <td>12</td>\n",
       "      <td>1989</td>\n",
       "      <td>99.667</td>\n",
       "      <td>26</td>\n",
       "    </tr>\n",
       "  </tbody>\n",
       "</table>\n",
       "</div>"
      ],
      "text/plain": [
       "   month  year   usage  temperature\n",
       "0      8  1989  24.828           73\n",
       "1      9  1989  24.688           67\n",
       "2     10  1989  19.310           57\n",
       "3     11  1989  59.706           43\n",
       "4     12  1989  99.667           26"
      ]
     },
     "execution_count": 55,
     "metadata": {},
     "output_type": "execute_result"
    }
   ],
   "source": [
    "usage = pd.read_csv('elec_usage.txt')\n",
    "usage.head()"
   ]
  },
  {
   "cell_type": "code",
   "execution_count": 56,
   "metadata": {},
   "outputs": [
    {
     "data": {
      "text/plain": [
       "array([[<matplotlib.axes._subplots.AxesSubplot object at 0x104580940>,\n",
       "        <matplotlib.axes._subplots.AxesSubplot object at 0x1045c3f98>],\n",
       "       [<matplotlib.axes._subplots.AxesSubplot object at 0x104605240>,\n",
       "        <matplotlib.axes._subplots.AxesSubplot object at 0x10462d4a8>]],\n",
       "      dtype=object)"
      ]
     },
     "execution_count": 56,
     "metadata": {},
     "output_type": "execute_result"
    },
    {
     "data": {
      "image/png": "[encoded data removed]",
      "text/plain": [
       "<Figure size 432x288 with 4 Axes>"
      ]
     },
     "metadata": {
      "needs_background": "light"
     },
     "output_type": "display_data"
    }
   ],
   "source": [
    "usage.hist()"
   ]
  },
  {
   "cell_type": "code",
   "execution_count": 60,
   "metadata": {},
   "outputs": [
    {
     "data": {
      "text/plain": [
       "(array([0.09917355, 0.09917355, 0.07933884, 0.07933884, 0.07933884,\n",
       "        0.07933884, 0.07933884, 0.09917355, 0.09917355, 0.09917355,\n",
       "        0.09917355, 0.09917355]),\n",
       " array([ 1.        ,  1.91666667,  2.83333333,  3.75      ,  4.66666667,\n",
       "         5.58333333,  6.5       ,  7.41666667,  8.33333333,  9.25      ,\n",
       "        10.16666667, 11.08333333, 12.        ]),\n",
       " <a list of 12 Patch objects>)"
      ]
     },
     "execution_count": 60,
     "metadata": {},
     "output_type": "execute_result"
    },
    {
     "data": {
      "image/png": "[encoded data removed]",
      "text/plain": [
       "<Figure size 432x288 with 1 Axes>"
      ]
     },
     "metadata": {
      "needs_background": "light"
     },
     "output_type": "display_data"
    }
   ],
   "source": [
    "plt.hist(usage['month'], bins=12, density=True)"
   ]
  },
  {
   "cell_type": "code",
   "execution_count": 63,
   "metadata": {},
   "outputs": [
    {
     "data": {
      "text/plain": [
       "<matplotlib.axes._subplots.AxesSubplot at 0x1c1a7becf8>"
      ]
     },
     "execution_count": 63,
     "metadata": {},
     "output_type": "execute_result"
    },
    {
     "data": {
      "image/png": "[encoded data removed]",
      "text/plain": [
       "<Figure size 432x288 with 1 Axes>"
      ]
     },
     "metadata": {
      "needs_background": "light"
     },
     "output_type": "display_data"
    }
   ],
   "source": [
    "usage.plot.scatter(x='temperature', y='usage')"
   ]
  },
  {
   "cell_type": "code",
   "execution_count": 64,
   "metadata": {},
   "outputs": [
    {
     "data": {
      "text/plain": [
       "<seaborn.axisgrid.PairGrid at 0x1c1a7ffe10>"
      ]
     },
     "execution_count": 64,
     "metadata": {},
     "output_type": "execute_result"
    },
    {
     "data": {
      "image/png": "[encoded data removed]",
      "text/plain": [
       "<Figure size 720x720 with 20 Axes>"
      ]
     },
     "metadata": {
      "needs_background": "light"
     },
     "output_type": "display_data"
    }
   ],
   "source": [
    "seaborn.pairplot(usage)"
   ]
  },
  {
   "cell_type": "code",
   "execution_count": 65,
   "metadata": {},
   "outputs": [
    {
     "data": {
      "text/html": [
       "<div>\n",
       "<style scoped>\n",
       "    .dataframe tbody tr th:only-of-type {\n",
       "        vertical-align: middle;\n",
       "    }\n",
       "\n",
       "    .dataframe tbody tr th {\n",
       "        vertical-align: top;\n",
       "    }\n",
       "\n",
       "    .dataframe thead th {\n",
       "        text-align: right;\n",
       "    }\n",
       "</style>\n",
       "<table border=\"1\" class=\"dataframe\">\n",
       "  <thead>\n",
       "    <tr style=\"text-align: right;\">\n",
       "      <th></th>\n",
       "      <th>month</th>\n",
       "      <th>year</th>\n",
       "      <th>usage</th>\n",
       "      <th>temperature</th>\n",
       "      <th>tempsqr</th>\n",
       "      <th>yearcts</th>\n",
       "    </tr>\n",
       "  </thead>\n",
       "  <tbody>\n",
       "    <tr>\n",
       "      <th>0</th>\n",
       "      <td>8</td>\n",
       "      <td>1989</td>\n",
       "      <td>24.828</td>\n",
       "      <td>73</td>\n",
       "      <td>5329</td>\n",
       "      <td>1989.583333</td>\n",
       "    </tr>\n",
       "    <tr>\n",
       "      <th>1</th>\n",
       "      <td>9</td>\n",
       "      <td>1989</td>\n",
       "      <td>24.688</td>\n",
       "      <td>67</td>\n",
       "      <td>4489</td>\n",
       "      <td>1989.666667</td>\n",
       "    </tr>\n",
       "    <tr>\n",
       "      <th>2</th>\n",
       "      <td>10</td>\n",
       "      <td>1989</td>\n",
       "      <td>19.310</td>\n",
       "      <td>57</td>\n",
       "      <td>3249</td>\n",
       "      <td>1989.750000</td>\n",
       "    </tr>\n",
       "    <tr>\n",
       "      <th>3</th>\n",
       "      <td>11</td>\n",
       "      <td>1989</td>\n",
       "      <td>59.706</td>\n",
       "      <td>43</td>\n",
       "      <td>1849</td>\n",
       "      <td>1989.833333</td>\n",
       "    </tr>\n",
       "    <tr>\n",
       "      <th>4</th>\n",
       "      <td>12</td>\n",
       "      <td>1989</td>\n",
       "      <td>99.667</td>\n",
       "      <td>26</td>\n",
       "      <td>676</td>\n",
       "      <td>1989.916667</td>\n",
       "    </tr>\n",
       "  </tbody>\n",
       "</table>\n",
       "</div>"
      ],
      "text/plain": [
       "   month  year   usage  temperature  tempsqr      yearcts\n",
       "0      8  1989  24.828           73     5329  1989.583333\n",
       "1      9  1989  24.688           67     4489  1989.666667\n",
       "2     10  1989  19.310           57     3249  1989.750000\n",
       "3     11  1989  59.706           43     1849  1989.833333\n",
       "4     12  1989  99.667           26      676  1989.916667"
      ]
     },
     "execution_count": 65,
     "metadata": {},
     "output_type": "execute_result"
    }
   ],
   "source": [
    "# add two more predictors: nonlinear functions of original variables\n",
    "usage['tempsqr'] = usage['temperature']**2\n",
    "usage['yearcts'] = usage['year'] + (usage['month']-1)/12\n",
    "usage.head()"
   ]
  },
  {
   "cell_type": "code",
   "execution_count": 66,
   "metadata": {},
   "outputs": [
    {
     "data": {
      "text/plain": [
       "['month', 'year', 'usage', 'temperature', 'tempsqr', 'yearcts']"
      ]
     },
     "execution_count": 66,
     "metadata": {},
     "output_type": "execute_result"
    }
   ],
   "source": [
    "variables = list(usage.columns)\n",
    "variables"
   ]
  },
  {
   "cell_type": "code",
   "execution_count": 21,
   "metadata": {},
   "outputs": [
    {
     "data": {
      "text/plain": [
       "['month', 'year', 'temperature', 'tempsqr', 'yearcts']"
      ]
     },
     "execution_count": 21,
     "metadata": {},
     "output_type": "execute_result"
    }
   ],
   "source": [
    "features = variables[0:2] + variables[3:]\n",
    "features"
   ]
  },
  {
   "cell_type": "code",
   "execution_count": 22,
   "metadata": {},
   "outputs": [
    {
     "data": {
      "text/plain": [
       "'usage'"
      ]
     },
     "execution_count": 22,
     "metadata": {},
     "output_type": "execute_result"
    }
   ],
   "source": [
    "target = variables[2]\n",
    "target"
   ]
  },
  {
   "cell_type": "code",
   "execution_count": 73,
   "metadata": {},
   "outputs": [
    {
     "data": {
      "text/html": [
       "<div>\n",
       "<style scoped>\n",
       "    .dataframe tbody tr th:only-of-type {\n",
       "        vertical-align: middle;\n",
       "    }\n",
       "\n",
       "    .dataframe tbody tr th {\n",
       "        vertical-align: top;\n",
       "    }\n",
       "\n",
       "    .dataframe thead th {\n",
       "        text-align: right;\n",
       "    }\n",
       "</style>\n",
       "<table border=\"1\" class=\"dataframe\">\n",
       "  <thead>\n",
       "    <tr style=\"text-align: right;\">\n",
       "      <th></th>\n",
       "      <th>month</th>\n",
       "      <th>year</th>\n",
       "      <th>temperature</th>\n",
       "      <th>tempsqr</th>\n",
       "      <th>yearcts</th>\n",
       "    </tr>\n",
       "  </thead>\n",
       "  <tbody>\n",
       "    <tr>\n",
       "      <th>0</th>\n",
       "      <td>8</td>\n",
       "      <td>1989</td>\n",
       "      <td>73</td>\n",
       "      <td>5329</td>\n",
       "      <td>1989.583333</td>\n",
       "    </tr>\n",
       "    <tr>\n",
       "      <th>1</th>\n",
       "      <td>9</td>\n",
       "      <td>1989</td>\n",
       "      <td>67</td>\n",
       "      <td>4489</td>\n",
       "      <td>1989.666667</td>\n",
       "    </tr>\n",
       "    <tr>\n",
       "      <th>2</th>\n",
       "      <td>10</td>\n",
       "      <td>1989</td>\n",
       "      <td>57</td>\n",
       "      <td>3249</td>\n",
       "      <td>1989.750000</td>\n",
       "    </tr>\n",
       "    <tr>\n",
       "      <th>3</th>\n",
       "      <td>11</td>\n",
       "      <td>1989</td>\n",
       "      <td>43</td>\n",
       "      <td>1849</td>\n",
       "      <td>1989.833333</td>\n",
       "    </tr>\n",
       "    <tr>\n",
       "      <th>4</th>\n",
       "      <td>12</td>\n",
       "      <td>1989</td>\n",
       "      <td>26</td>\n",
       "      <td>676</td>\n",
       "      <td>1989.916667</td>\n",
       "    </tr>\n",
       "  </tbody>\n",
       "</table>\n",
       "</div>"
      ],
      "text/plain": [
       "   month  year  temperature  tempsqr      yearcts\n",
       "0      8  1989           73     5329  1989.583333\n",
       "1      9  1989           67     4489  1989.666667\n",
       "2     10  1989           57     3249  1989.750000\n",
       "3     11  1989           43     1849  1989.833333\n",
       "4     12  1989           26      676  1989.916667"
      ]
     },
     "execution_count": 73,
     "metadata": {},
     "output_type": "execute_result"
    }
   ],
   "source": [
    "X = usage[features] # the design matrix\n",
    "Y = usage[target]   # the target vector\n",
    "X.head() "
   ]
  },
  {
   "cell_type": "code",
   "execution_count": 87,
   "metadata": {},
   "outputs": [
    {
     "data": {
      "text/html": [
       "<div>\n",
       "<style scoped>\n",
       "    .dataframe tbody tr th:only-of-type {\n",
       "        vertical-align: middle;\n",
       "    }\n",
       "\n",
       "    .dataframe tbody tr th {\n",
       "        vertical-align: top;\n",
       "    }\n",
       "\n",
       "    .dataframe thead th {\n",
       "        text-align: right;\n",
       "    }\n",
       "</style>\n",
       "<table border=\"1\" class=\"dataframe\">\n",
       "  <thead>\n",
       "    <tr style=\"text-align: right;\">\n",
       "      <th></th>\n",
       "      <th>Intercept</th>\n",
       "      <th>temperature</th>\n",
       "      <th>np.power(temperature, 2)</th>\n",
       "    </tr>\n",
       "  </thead>\n",
       "  <tbody>\n",
       "    <tr>\n",
       "      <th>0</th>\n",
       "      <td>1.0</td>\n",
       "      <td>73.0</td>\n",
       "      <td>5329.0</td>\n",
       "    </tr>\n",
       "    <tr>\n",
       "      <th>1</th>\n",
       "      <td>1.0</td>\n",
       "      <td>67.0</td>\n",
       "      <td>4489.0</td>\n",
       "    </tr>\n",
       "    <tr>\n",
       "      <th>2</th>\n",
       "      <td>1.0</td>\n",
       "      <td>57.0</td>\n",
       "      <td>3249.0</td>\n",
       "    </tr>\n",
       "    <tr>\n",
       "      <th>3</th>\n",
       "      <td>1.0</td>\n",
       "      <td>43.0</td>\n",
       "      <td>1849.0</td>\n",
       "    </tr>\n",
       "    <tr>\n",
       "      <th>4</th>\n",
       "      <td>1.0</td>\n",
       "      <td>26.0</td>\n",
       "      <td>676.0</td>\n",
       "    </tr>\n",
       "  </tbody>\n",
       "</table>\n",
       "</div>"
      ],
      "text/plain": [
       "   Intercept  temperature  np.power(temperature, 2)\n",
       "0        1.0         73.0                    5329.0\n",
       "1        1.0         67.0                    4489.0\n",
       "2        1.0         57.0                    3249.0\n",
       "3        1.0         43.0                    1849.0\n",
       "4        1.0         26.0                     676.0"
      ]
     },
     "execution_count": 87,
     "metadata": {},
     "output_type": "execute_result"
    }
   ],
   "source": [
    "# more concise way of collecting data\n",
    "Y, X = dmatrices('usage ~ 1 + temperature + np.power(temperature, 2)', data=usage, return_type='dataframe')\n",
    "X.head()"
   ]
  },
  {
   "cell_type": "markdown",
   "metadata": {},
   "source": [
    "modifications:\n",
    "    * add an intercept to the model\n",
    "    * add other nonlinear terms"
   ]
  },
  {
   "cell_type": "code",
   "execution_count": 88,
   "metadata": {},
   "outputs": [],
   "source": [
    "# fit a least squares model\n",
    "model = sm.OLS(Y, X).fit()\n",
    "Yhat = model.predict(X) # make the predictions by the model"
   ]
  },
  {
   "cell_type": "code",
   "execution_count": 90,
   "metadata": {},
   "outputs": [
    {
     "data": {
      "image/png": "[encoded data removed]",
      "text/plain": [
       "<Figure size 432x288 with 1 Axes>"
      ]
     },
     "metadata": {
      "needs_background": "light"
     },
     "output_type": "display_data"
    }
   ],
   "source": [
    "# Plot outputs\n",
    "plt.scatter(Y, Yhat,  color='black')\n",
    "plt.xlabel(\"true outcome Y\")\n",
    "plt.ylabel(\"predicted outcome Yhat\")\n",
    "\n",
    "plt.show()"
   ]
  },
  {
   "cell_type": "code",
   "execution_count": 91,
   "metadata": {},
   "outputs": [
    {
     "data": {
      "text/html": [
       "<table class=\"simpletable\">\n",
       "<caption>OLS Regression Results</caption>\n",
       "<tr>\n",
       "  <th>Dep. Variable:</th>          <td>usage</td>      <th>  R-squared:         </th> <td>   0.847</td>\n",
       "</tr>\n",
       "<tr>\n",
       "  <th>Model:</th>                   <td>OLS</td>       <th>  Adj. R-squared:    </th> <td>   0.841</td>\n",
       "</tr>\n",
       "<tr>\n",
       "  <th>Method:</th>             <td>Least Squares</td>  <th>  F-statistic:       </th> <td>   143.8</td>\n",
       "</tr>\n",
       "<tr>\n",
       "  <th>Date:</th>             <td>Thu, 09 Apr 2020</td> <th>  Prob (F-statistic):</th> <td>6.47e-22</td>\n",
       "</tr>\n",
       "<tr>\n",
       "  <th>Time:</th>                 <td>10:55:43</td>     <th>  Log-Likelihood:    </th> <td> -200.75</td>\n",
       "</tr>\n",
       "<tr>\n",
       "  <th>No. Observations:</th>      <td>    55</td>      <th>  AIC:               </th> <td>   407.5</td>\n",
       "</tr>\n",
       "<tr>\n",
       "  <th>Df Residuals:</th>          <td>    52</td>      <th>  BIC:               </th> <td>   413.5</td>\n",
       "</tr>\n",
       "<tr>\n",
       "  <th>Df Model:</th>              <td>     2</td>      <th>                     </th>     <td> </td>   \n",
       "</tr>\n",
       "<tr>\n",
       "  <th>Covariance Type:</th>      <td>nonrobust</td>    <th>                     </th>     <td> </td>   \n",
       "</tr>\n",
       "</table>\n",
       "<table class=\"simpletable\">\n",
       "<tr>\n",
       "              <td></td>                <th>coef</th>     <th>std err</th>      <th>t</th>      <th>P>|t|</th>  <th>[0.025</th>    <th>0.975]</th>  \n",
       "</tr>\n",
       "<tr>\n",
       "  <th>Intercept</th>                <td>  196.7153</td> <td>   17.488</td> <td>   11.249</td> <td> 0.000</td> <td>  161.624</td> <td>  231.807</td>\n",
       "</tr>\n",
       "<tr>\n",
       "  <th>temperature</th>              <td>   -4.6405</td> <td>    0.695</td> <td>   -6.678</td> <td> 0.000</td> <td>   -6.035</td> <td>   -3.246</td>\n",
       "</tr>\n",
       "<tr>\n",
       "  <th>np.power(temperature, 2)</th> <td>    0.0307</td> <td>    0.006</td> <td>    4.749</td> <td> 0.000</td> <td>    0.018</td> <td>    0.044</td>\n",
       "</tr>\n",
       "</table>\n",
       "<table class=\"simpletable\">\n",
       "<tr>\n",
       "  <th>Omnibus:</th>       <td> 1.155</td> <th>  Durbin-Watson:     </th> <td>   1.166</td>\n",
       "</tr>\n",
       "<tr>\n",
       "  <th>Prob(Omnibus):</th> <td> 0.561</td> <th>  Jarque-Bera (JB):  </th> <td>   0.888</td>\n",
       "</tr>\n",
       "<tr>\n",
       "  <th>Skew:</th>          <td> 0.310</td> <th>  Prob(JB):          </th> <td>   0.642</td>\n",
       "</tr>\n",
       "<tr>\n",
       "  <th>Kurtosis:</th>      <td> 2.955</td> <th>  Cond. No.          </th> <td>4.80e+04</td>\n",
       "</tr>\n",
       "</table><br/><br/>Warnings:<br/>[1] Standard Errors assume that the covariance matrix of the errors is correctly specified.<br/>[2] The condition number is large, 4.8e+04. This might indicate that there are<br/>strong multicollinearity or other numerical problems."
      ],
      "text/plain": [
       "<class 'statsmodels.iolib.summary.Summary'>\n",
       "\"\"\"\n",
       "                            OLS Regression Results                            \n",
       "==============================================================================\n",
       "Dep. Variable:                  usage   R-squared:                       0.847\n",
       "Model:                            OLS   Adj. R-squared:                  0.841\n",
       "Method:                 Least Squares   F-statistic:                     143.8\n",
       "Date:                Thu, 09 Apr 2020   Prob (F-statistic):           6.47e-22\n",
       "Time:                        10:55:43   Log-Likelihood:                -200.75\n",
       "No. Observations:                  55   AIC:                             407.5\n",
       "Df Residuals:                      52   BIC:                             413.5\n",
       "Df Model:                           2                                         \n",
       "Covariance Type:            nonrobust                                         \n",
       "============================================================================================\n",
       "                               coef    std err          t      P>|t|      [0.025      0.975]\n",
       "--------------------------------------------------------------------------------------------\n",
       "Intercept                  196.7153     17.488     11.249      0.000     161.624     231.807\n",
       "temperature                 -4.6405      0.695     -6.678      0.000      -6.035      -3.246\n",
       "np.power(temperature, 2)     0.0307      0.006      4.749      0.000       0.018       0.044\n",
       "==============================================================================\n",
       "Omnibus:                        1.155   Durbin-Watson:                   1.166\n",
       "Prob(Omnibus):                  0.561   Jarque-Bera (JB):                0.888\n",
       "Skew:                           0.310   Prob(JB):                        0.642\n",
       "Kurtosis:                       2.955   Cond. No.                     4.80e+04\n",
       "==============================================================================\n",
       "\n",
       "Warnings:\n",
       "[1] Standard Errors assume that the covariance matrix of the errors is correctly specified.\n",
       "[2] The condition number is large, 4.8e+04. This might indicate that there are\n",
       "strong multicollinearity or other numerical problems.\n",
       "\"\"\""
      ]
     },
     "execution_count": 91,
     "metadata": {},
     "output_type": "execute_result"
    }
   ],
   "source": [
    "# Print out the statistics\n",
    "model.summary()"
   ]
  },
  {
   "cell_type": "code",
   "execution_count": 27,
   "metadata": {},
   "outputs": [
    {
     "data": {
      "text/plain": [
       "<matplotlib.legend.Legend at 0x1c19ff42b0>"
      ]
     },
     "execution_count": 27,
     "metadata": {},
     "output_type": "execute_result"
    },
    {
     "data": {
      "image/png": "[encoded data removed]",
      "text/plain": [
       "<Figure size 432x288 with 1 Axes>"
      ]
     },
     "metadata": {
      "needs_background": "light"
     },
     "output_type": "display_data"
    }
   ],
   "source": [
    "# plot observed vs predicted usage as a function of temperature\n",
    "p = usage.plot.scatter(x='temperature', y='usage', label='observed')\n",
    "p.scatter(x=usage['temperature'], y=Yhat, color='r', marker=\"+\", label='predicted')\n",
    "plt.legend()"
   ]
  },
  {
   "cell_type": "code",
   "execution_count": 28,
   "metadata": {},
   "outputs": [
    {
     "data": {
      "image/png": "[encoded data removed]",
      "text/plain": [
       "<Figure size 432x288 with 1 Axes>"
      ]
     },
     "metadata": {
      "needs_background": "light"
     },
     "output_type": "display_data"
    }
   ],
   "source": [
    "# let's make a function to plot predictions against truth\n",
    "def plot_fit(Y, Yhat):\n",
    "    plt.scatter(Y, Yhat,  color='black')\n",
    "    plt.xlabel(\"true outcome Y\")\n",
    "    plt.ylabel(\"predicted outcome Yhat\")\n",
    "    plt.show()\n",
    "    \n",
    "plot_fit(Y, Yhat)"
   ]
  },
  {
   "cell_type": "code",
   "execution_count": 141,
   "metadata": {},
   "outputs": [
    {
     "data": {
      "image/png": "[encoded data removed]",
      "text/plain": [
       "<Figure size 432x288 with 1 Axes>"
      ]
     },
     "metadata": {
      "needs_background": "light"
     },
     "output_type": "display_data"
    },
    {
     "data": {
      "text/html": [
       "<table class=\"simpletable\">\n",
       "<caption>OLS Regression Results</caption>\n",
       "<tr>\n",
       "  <th>Dep. Variable:</th>          <td>usage</td>      <th>  R-squared:         </th> <td>   0.847</td>\n",
       "</tr>\n",
       "<tr>\n",
       "  <th>Model:</th>                   <td>OLS</td>       <th>  Adj. R-squared:    </th> <td>   0.838</td>\n",
       "</tr>\n",
       "<tr>\n",
       "  <th>Method:</th>             <td>Least Squares</td>  <th>  F-statistic:       </th> <td>   94.24</td>\n",
       "</tr>\n",
       "<tr>\n",
       "  <th>Date:</th>             <td>Thu, 16 Apr 2020</td> <th>  Prob (F-statistic):</th> <td>8.40e-21</td>\n",
       "</tr>\n",
       "<tr>\n",
       "  <th>Time:</th>                 <td>10:34:12</td>     <th>  Log-Likelihood:    </th> <td> -200.69</td>\n",
       "</tr>\n",
       "<tr>\n",
       "  <th>No. Observations:</th>      <td>    55</td>      <th>  AIC:               </th> <td>   409.4</td>\n",
       "</tr>\n",
       "<tr>\n",
       "  <th>Df Residuals:</th>          <td>    51</td>      <th>  BIC:               </th> <td>   417.4</td>\n",
       "</tr>\n",
       "<tr>\n",
       "  <th>Df Model:</th>              <td>     3</td>      <th>                     </th>     <td> </td>   \n",
       "</tr>\n",
       "<tr>\n",
       "  <th>Covariance Type:</th>      <td>nonrobust</td>    <th>                     </th>     <td> </td>   \n",
       "</tr>\n",
       "</table>\n",
       "<table class=\"simpletable\">\n",
       "<tr>\n",
       "              <td></td>                <th>coef</th>     <th>std err</th>      <th>t</th>      <th>P>|t|</th>  <th>[0.025</th>    <th>0.975]</th>  \n",
       "</tr>\n",
       "<tr>\n",
       "  <th>Intercept</th>                <td>  212.9949</td> <td>   54.111</td> <td>    3.936</td> <td> 0.000</td> <td>  104.363</td> <td>  321.626</td>\n",
       "</tr>\n",
       "<tr>\n",
       "  <th>temperature</th>              <td>   -5.6893</td> <td>    3.369</td> <td>   -1.688</td> <td> 0.097</td> <td>  -12.454</td> <td>    1.075</td>\n",
       "</tr>\n",
       "<tr>\n",
       "  <th>np.power(temperature, 2)</th> <td>    0.0520</td> <td>    0.067</td> <td>    0.775</td> <td> 0.442</td> <td>   -0.083</td> <td>    0.187</td>\n",
       "</tr>\n",
       "<tr>\n",
       "  <th>np.power(temperature, 3)</th> <td>   -0.0001</td> <td>    0.000</td> <td>   -0.318</td> <td> 0.752</td> <td>   -0.001</td> <td>    0.001</td>\n",
       "</tr>\n",
       "</table>\n",
       "<table class=\"simpletable\">\n",
       "<tr>\n",
       "  <th>Omnibus:</th>       <td> 1.438</td> <th>  Durbin-Watson:     </th> <td>   1.181</td>\n",
       "</tr>\n",
       "<tr>\n",
       "  <th>Prob(Omnibus):</th> <td> 0.487</td> <th>  Jarque-Bera (JB):  </th> <td>   1.122</td>\n",
       "</tr>\n",
       "<tr>\n",
       "  <th>Skew:</th>          <td> 0.349</td> <th>  Prob(JB):          </th> <td>   0.571</td>\n",
       "</tr>\n",
       "<tr>\n",
       "  <th>Kurtosis:</th>      <td> 2.967</td> <th>  Cond. No.          </th> <td>9.98e+06</td>\n",
       "</tr>\n",
       "</table><br/><br/>Warnings:<br/>[1] Standard Errors assume that the covariance matrix of the errors is correctly specified.<br/>[2] The condition number is large, 9.98e+06. This might indicate that there are<br/>strong multicollinearity or other numerical problems."
      ],
      "text/plain": [
       "<class 'statsmodels.iolib.summary.Summary'>\n",
       "\"\"\"\n",
       "                            OLS Regression Results                            \n",
       "==============================================================================\n",
       "Dep. Variable:                  usage   R-squared:                       0.847\n",
       "Model:                            OLS   Adj. R-squared:                  0.838\n",
       "Method:                 Least Squares   F-statistic:                     94.24\n",
       "Date:                Thu, 16 Apr 2020   Prob (F-statistic):           8.40e-21\n",
       "Time:                        10:34:12   Log-Likelihood:                -200.69\n",
       "No. Observations:                  55   AIC:                             409.4\n",
       "Df Residuals:                      51   BIC:                             417.4\n",
       "Df Model:                           3                                         \n",
       "Covariance Type:            nonrobust                                         \n",
       "============================================================================================\n",
       "                               coef    std err          t      P>|t|      [0.025      0.975]\n",
       "--------------------------------------------------------------------------------------------\n",
       "Intercept                  212.9949     54.111      3.936      0.000     104.363     321.626\n",
       "temperature                 -5.6893      3.369     -1.688      0.097     -12.454       1.075\n",
       "np.power(temperature, 2)     0.0520      0.067      0.775      0.442      -0.083       0.187\n",
       "np.power(temperature, 3)    -0.0001      0.000     -0.318      0.752      -0.001       0.001\n",
       "==============================================================================\n",
       "Omnibus:                        1.438   Durbin-Watson:                   1.181\n",
       "Prob(Omnibus):                  0.487   Jarque-Bera (JB):                1.122\n",
       "Skew:                           0.349   Prob(JB):                        0.571\n",
       "Kurtosis:                       2.967   Cond. No.                     9.98e+06\n",
       "==============================================================================\n",
       "\n",
       "Warnings:\n",
       "[1] Standard Errors assume that the covariance matrix of the errors is correctly specified.\n",
       "[2] The condition number is large, 9.98e+06. This might indicate that there are\n",
       "strong multicollinearity or other numerical problems.\n",
       "\"\"\""
      ]
     },
     "execution_count": 141,
     "metadata": {},
     "output_type": "execute_result"
    }
   ],
   "source": [
    "# we could even make a function to help us visually search for a good model \n",
    "\n",
    "def assess_model_quality(data, formula):\n",
    "    Y, X = dmatrices(formula, data=data, return_type='dataframe')\n",
    "    model = sm.OLS(Y, X).fit()\n",
    "    Yhat = model.predict(X)\n",
    "    plot_fit(Y, Yhat)\n",
    "    return model.summary()\n",
    "    \n",
    "assess_model_quality(usage, 'usage ~ 1 + temperature + np.power(temperature, 2) + np.power(temperature, 3)')"
   ]
  },
  {
   "cell_type": "markdown",
   "metadata": {},
   "source": [
    "# What do p-values mean?"
   ]
  },
  {
   "cell_type": "code",
   "execution_count": 128,
   "metadata": {},
   "outputs": [],
   "source": [
    "n = 20\n",
    "x = np.random.randn(n)\n",
    "eps = np.random.randn(n)\n",
    "y = eps\n",
    "model = sm.OLS(y, x).fit()"
   ]
  },
  {
   "cell_type": "code",
   "execution_count": 129,
   "metadata": {},
   "outputs": [
    {
     "data": {
      "text/plain": [
       "array([0.565452])"
      ]
     },
     "execution_count": 129,
     "metadata": {},
     "output_type": "execute_result"
    }
   ],
   "source": [
    "model.pvalues"
   ]
  },
  {
   "cell_type": "code",
   "execution_count": 130,
   "metadata": {},
   "outputs": [],
   "source": [
    "pvalues = []\n",
    "for i in range(1000):\n",
    "    n = 20\n",
    "    y = np.random.randn(n)\n",
    "    x = np.random.randn(n)\n",
    "    model = sm.OLS(y, x).fit()\n",
    "    pvalues.append(model.pvalues[0])"
   ]
  },
  {
   "cell_type": "code",
   "execution_count": 131,
   "metadata": {},
   "outputs": [
    {
     "data": {
      "text/plain": [
       "(array([50., 47., 38., 29., 51., 50., 54., 45., 46., 52., 52., 50., 68.,\n",
       "        46., 49., 64., 46., 55., 51., 57.]),\n",
       " array([7.98365445e-04, 5.07405263e-02, 1.00682687e-01, 1.50624848e-01,\n",
       "        2.00567009e-01, 2.50509170e-01, 3.00451331e-01, 3.50393492e-01,\n",
       "        4.00335653e-01, 4.50277813e-01, 5.00219974e-01, 5.50162135e-01,\n",
       "        6.00104296e-01, 6.50046457e-01, 6.99988618e-01, 7.49930779e-01,\n",
       "        7.99872940e-01, 8.49815101e-01, 8.99757261e-01, 9.49699422e-01,\n",
       "        9.99641583e-01]),\n",
       " <a list of 20 Patch objects>)"
      ]
     },
     "execution_count": 131,
     "metadata": {},
     "output_type": "execute_result"
    },
    {
     "data": {
      "image/png": "[encoded data removed]",
      "text/plain": [
       "<Figure size 432x288 with 1 Axes>"
      ]
     },
     "metadata": {
      "needs_background": "light"
     },
     "output_type": "display_data"
    }
   ],
   "source": [
    "plt.hist(pvalues, bins=20)"
   ]
  },
  {
   "cell_type": "code",
   "execution_count": 34,
   "metadata": {},
   "outputs": [
    {
     "data": {
      "text/plain": [
       "0.055"
      ]
     },
     "execution_count": 34,
     "metadata": {},
     "output_type": "execute_result"
    }
   ],
   "source": [
    "# around 5% of the pvalues are <.05, just by random chance \n",
    "sum(np.array(pvalues) <= .05) / len(pvalues)"
   ]
  },
  {
   "cell_type": "markdown",
   "metadata": {},
   "source": [
    "# Model selection and p values: be careful!"
   ]
  },
  {
   "cell_type": "code",
   "execution_count": 133,
   "metadata": {},
   "outputs": [
    {
     "data": {
      "text/html": [
       "<div>\n",
       "<style scoped>\n",
       "    .dataframe tbody tr th:only-of-type {\n",
       "        vertical-align: middle;\n",
       "    }\n",
       "\n",
       "    .dataframe tbody tr th {\n",
       "        vertical-align: top;\n",
       "    }\n",
       "\n",
       "    .dataframe thead th {\n",
       "        text-align: right;\n",
       "    }\n",
       "</style>\n",
       "<table border=\"1\" class=\"dataframe\">\n",
       "  <thead>\n",
       "    <tr style=\"text-align: right;\">\n",
       "      <th></th>\n",
       "      <th>x0</th>\n",
       "      <th>x1</th>\n",
       "      <th>x2</th>\n",
       "      <th>x3</th>\n",
       "      <th>x4</th>\n",
       "      <th>x5</th>\n",
       "      <th>x6</th>\n",
       "      <th>x7</th>\n",
       "      <th>x8</th>\n",
       "      <th>x9</th>\n",
       "      <th>...</th>\n",
       "      <th>x90</th>\n",
       "      <th>x91</th>\n",
       "      <th>x92</th>\n",
       "      <th>x93</th>\n",
       "      <th>x94</th>\n",
       "      <th>x95</th>\n",
       "      <th>x96</th>\n",
       "      <th>x97</th>\n",
       "      <th>x98</th>\n",
       "      <th>x99</th>\n",
       "    </tr>\n",
       "  </thead>\n",
       "  <tbody>\n",
       "    <tr>\n",
       "      <th>0</th>\n",
       "      <td>0.852720</td>\n",
       "      <td>0.160294</td>\n",
       "      <td>0.268895</td>\n",
       "      <td>-0.764978</td>\n",
       "      <td>-2.764368</td>\n",
       "      <td>-0.386737</td>\n",
       "      <td>1.403361</td>\n",
       "      <td>0.610256</td>\n",
       "      <td>1.655574</td>\n",
       "      <td>-1.171468</td>\n",
       "      <td>...</td>\n",
       "      <td>-0.259652</td>\n",
       "      <td>-0.800270</td>\n",
       "      <td>0.256292</td>\n",
       "      <td>-0.693428</td>\n",
       "      <td>0.138535</td>\n",
       "      <td>-1.171310</td>\n",
       "      <td>-0.112256</td>\n",
       "      <td>-0.290605</td>\n",
       "      <td>-0.493361</td>\n",
       "      <td>0.584487</td>\n",
       "    </tr>\n",
       "    <tr>\n",
       "      <th>1</th>\n",
       "      <td>-0.629885</td>\n",
       "      <td>1.317998</td>\n",
       "      <td>0.308008</td>\n",
       "      <td>0.156976</td>\n",
       "      <td>-0.051215</td>\n",
       "      <td>-0.254895</td>\n",
       "      <td>0.275517</td>\n",
       "      <td>-1.523374</td>\n",
       "      <td>-0.881778</td>\n",
       "      <td>-0.584091</td>\n",
       "      <td>...</td>\n",
       "      <td>0.112415</td>\n",
       "      <td>1.171262</td>\n",
       "      <td>-0.025317</td>\n",
       "      <td>0.456414</td>\n",
       "      <td>1.072955</td>\n",
       "      <td>1.225253</td>\n",
       "      <td>0.312644</td>\n",
       "      <td>-0.286500</td>\n",
       "      <td>0.914087</td>\n",
       "      <td>-0.837512</td>\n",
       "    </tr>\n",
       "    <tr>\n",
       "      <th>2</th>\n",
       "      <td>0.450558</td>\n",
       "      <td>1.208782</td>\n",
       "      <td>0.377491</td>\n",
       "      <td>1.751419</td>\n",
       "      <td>-1.127858</td>\n",
       "      <td>-0.263190</td>\n",
       "      <td>0.742419</td>\n",
       "      <td>-0.168445</td>\n",
       "      <td>-1.091177</td>\n",
       "      <td>0.317916</td>\n",
       "      <td>...</td>\n",
       "      <td>-0.068101</td>\n",
       "      <td>0.854074</td>\n",
       "      <td>1.097030</td>\n",
       "      <td>-0.639169</td>\n",
       "      <td>-0.757836</td>\n",
       "      <td>0.550062</td>\n",
       "      <td>-0.970695</td>\n",
       "      <td>-1.249099</td>\n",
       "      <td>0.663378</td>\n",
       "      <td>-2.128267</td>\n",
       "    </tr>\n",
       "    <tr>\n",
       "      <th>3</th>\n",
       "      <td>1.242560</td>\n",
       "      <td>0.249750</td>\n",
       "      <td>-0.873520</td>\n",
       "      <td>-0.182595</td>\n",
       "      <td>0.322330</td>\n",
       "      <td>0.401512</td>\n",
       "      <td>-0.631421</td>\n",
       "      <td>0.815741</td>\n",
       "      <td>-0.768486</td>\n",
       "      <td>-0.387734</td>\n",
       "      <td>...</td>\n",
       "      <td>0.624224</td>\n",
       "      <td>0.375177</td>\n",
       "      <td>0.460816</td>\n",
       "      <td>-1.391764</td>\n",
       "      <td>0.325096</td>\n",
       "      <td>0.038317</td>\n",
       "      <td>0.417085</td>\n",
       "      <td>0.164465</td>\n",
       "      <td>0.484351</td>\n",
       "      <td>-0.873041</td>\n",
       "    </tr>\n",
       "    <tr>\n",
       "      <th>4</th>\n",
       "      <td>1.053466</td>\n",
       "      <td>0.652287</td>\n",
       "      <td>0.314540</td>\n",
       "      <td>-0.719666</td>\n",
       "      <td>-2.849607</td>\n",
       "      <td>0.763892</td>\n",
       "      <td>-0.290469</td>\n",
       "      <td>2.245973</td>\n",
       "      <td>-1.616283</td>\n",
       "      <td>0.912843</td>\n",
       "      <td>...</td>\n",
       "      <td>-1.659795</td>\n",
       "      <td>-0.646724</td>\n",
       "      <td>-1.695989</td>\n",
       "      <td>-0.325921</td>\n",
       "      <td>-0.262890</td>\n",
       "      <td>-0.200539</td>\n",
       "      <td>0.160625</td>\n",
       "      <td>-1.443161</td>\n",
       "      <td>-1.096072</td>\n",
       "      <td>0.547300</td>\n",
       "    </tr>\n",
       "  </tbody>\n",
       "</table>\n",
       "<p>5 rows × 100 columns</p>\n",
       "</div>"
      ],
      "text/plain": [
       "         x0        x1        x2        x3        x4        x5        x6  \\\n",
       "0  0.852720  0.160294  0.268895 -0.764978 -2.764368 -0.386737  1.403361   \n",
       "1 -0.629885  1.317998  0.308008  0.156976 -0.051215 -0.254895  0.275517   \n",
       "2  0.450558  1.208782  0.377491  1.751419 -1.127858 -0.263190  0.742419   \n",
       "3  1.242560  0.249750 -0.873520 -0.182595  0.322330  0.401512 -0.631421   \n",
       "4  1.053466  0.652287  0.314540 -0.719666 -2.849607  0.763892 -0.290469   \n",
       "\n",
       "         x7        x8        x9    ...          x90       x91       x92  \\\n",
       "0  0.610256  1.655574 -1.171468    ...    -0.259652 -0.800270  0.256292   \n",
       "1 -1.523374 -0.881778 -0.584091    ...     0.112415  1.171262 -0.025317   \n",
       "2 -0.168445 -1.091177  0.317916    ...    -0.068101  0.854074  1.097030   \n",
       "3  0.815741 -0.768486 -0.387734    ...     0.624224  0.375177  0.460816   \n",
       "4  2.245973 -1.616283  0.912843    ...    -1.659795 -0.646724 -1.695989   \n",
       "\n",
       "        x93       x94       x95       x96       x97       x98       x99  \n",
       "0 -0.693428  0.138535 -1.171310 -0.112256 -0.290605 -0.493361  0.584487  \n",
       "1  0.456414  1.072955  1.225253  0.312644 -0.286500  0.914087 -0.837512  \n",
       "2 -0.639169 -0.757836  0.550062 -0.970695 -1.249099  0.663378 -2.128267  \n",
       "3 -1.391764  0.325096  0.038317  0.417085  0.164465  0.484351 -0.873041  \n",
       "4 -0.325921 -0.262890 -0.200539  0.160625 -1.443161 -1.096072  0.547300  \n",
       "\n",
       "[5 rows x 100 columns]"
      ]
     },
     "execution_count": 133,
     "metadata": {},
     "output_type": "execute_result"
    }
   ],
   "source": [
    "df = pd.DataFrame()\n",
    "n = 500\n",
    "p = 100\n",
    "for j in range(p):\n",
    "    xp = 'x'+str(j)\n",
    "    df[xp] = np.random.randn(n)\n",
    "y = np.random.randn(n)\n",
    "df.head()"
   ]
  },
  {
   "cell_type": "code",
   "execution_count": 134,
   "metadata": {},
   "outputs": [
    {
     "data": {
      "text/html": [
       "<table class=\"simpletable\">\n",
       "<caption>OLS Regression Results</caption>\n",
       "<tr>\n",
       "  <th>Dep. Variable:</th>            <td>y</td>        <th>  R-squared:         </th> <td>   0.195</td>\n",
       "</tr>\n",
       "<tr>\n",
       "  <th>Model:</th>                   <td>OLS</td>       <th>  Adj. R-squared:    </th> <td>  -0.006</td>\n",
       "</tr>\n",
       "<tr>\n",
       "  <th>Method:</th>             <td>Least Squares</td>  <th>  F-statistic:       </th> <td>  0.9695</td>\n",
       "</tr>\n",
       "<tr>\n",
       "  <th>Date:</th>             <td>Tue, 14 Apr 2020</td> <th>  Prob (F-statistic):</th>  <td> 0.565</td> \n",
       "</tr>\n",
       "<tr>\n",
       "  <th>Time:</th>                 <td>10:26:49</td>     <th>  Log-Likelihood:    </th> <td> -681.39</td>\n",
       "</tr>\n",
       "<tr>\n",
       "  <th>No. Observations:</th>      <td>   500</td>      <th>  AIC:               </th> <td>   1563.</td>\n",
       "</tr>\n",
       "<tr>\n",
       "  <th>Df Residuals:</th>          <td>   400</td>      <th>  BIC:               </th> <td>   1984.</td>\n",
       "</tr>\n",
       "<tr>\n",
       "  <th>Df Model:</th>              <td>   100</td>      <th>                     </th>     <td> </td>   \n",
       "</tr>\n",
       "<tr>\n",
       "  <th>Covariance Type:</th>      <td>nonrobust</td>    <th>                     </th>     <td> </td>   \n",
       "</tr>\n",
       "</table>\n",
       "<table class=\"simpletable\">\n",
       "<tr>\n",
       "   <td></td>      <th>coef</th>     <th>std err</th>      <th>t</th>      <th>P>|t|</th>  <th>[0.025</th>    <th>0.975]</th>  \n",
       "</tr>\n",
       "<tr>\n",
       "  <th>x0</th>  <td>    0.0322</td> <td>    0.054</td> <td>    0.593</td> <td> 0.553</td> <td>   -0.075</td> <td>    0.139</td>\n",
       "</tr>\n",
       "<tr>\n",
       "  <th>x1</th>  <td>   -0.0006</td> <td>    0.054</td> <td>   -0.011</td> <td> 0.991</td> <td>   -0.107</td> <td>    0.105</td>\n",
       "</tr>\n",
       "<tr>\n",
       "  <th>x2</th>  <td>    0.0102</td> <td>    0.051</td> <td>    0.202</td> <td> 0.840</td> <td>   -0.089</td> <td>    0.110</td>\n",
       "</tr>\n",
       "<tr>\n",
       "  <th>x3</th>  <td>   -0.0597</td> <td>    0.053</td> <td>   -1.134</td> <td> 0.257</td> <td>   -0.163</td> <td>    0.044</td>\n",
       "</tr>\n",
       "<tr>\n",
       "  <th>x4</th>  <td>   -0.0360</td> <td>    0.054</td> <td>   -0.661</td> <td> 0.509</td> <td>   -0.143</td> <td>    0.071</td>\n",
       "</tr>\n",
       "<tr>\n",
       "  <th>x5</th>  <td>   -0.0205</td> <td>    0.048</td> <td>   -0.423</td> <td> 0.673</td> <td>   -0.116</td> <td>    0.075</td>\n",
       "</tr>\n",
       "<tr>\n",
       "  <th>x6</th>  <td>   -0.0149</td> <td>    0.051</td> <td>   -0.290</td> <td> 0.772</td> <td>   -0.116</td> <td>    0.086</td>\n",
       "</tr>\n",
       "<tr>\n",
       "  <th>x7</th>  <td>   -0.0420</td> <td>    0.052</td> <td>   -0.804</td> <td> 0.422</td> <td>   -0.145</td> <td>    0.061</td>\n",
       "</tr>\n",
       "<tr>\n",
       "  <th>x8</th>  <td>   -0.0211</td> <td>    0.055</td> <td>   -0.382</td> <td> 0.703</td> <td>   -0.130</td> <td>    0.088</td>\n",
       "</tr>\n",
       "<tr>\n",
       "  <th>x9</th>  <td>    0.1668</td> <td>    0.053</td> <td>    3.173</td> <td> 0.002</td> <td>    0.063</td> <td>    0.270</td>\n",
       "</tr>\n",
       "<tr>\n",
       "  <th>x10</th> <td>   -0.0228</td> <td>    0.051</td> <td>   -0.451</td> <td> 0.652</td> <td>   -0.122</td> <td>    0.077</td>\n",
       "</tr>\n",
       "<tr>\n",
       "  <th>x11</th> <td>   -0.0392</td> <td>    0.051</td> <td>   -0.765</td> <td> 0.445</td> <td>   -0.140</td> <td>    0.062</td>\n",
       "</tr>\n",
       "<tr>\n",
       "  <th>x12</th> <td>   -0.0169</td> <td>    0.051</td> <td>   -0.333</td> <td> 0.740</td> <td>   -0.117</td> <td>    0.083</td>\n",
       "</tr>\n",
       "<tr>\n",
       "  <th>x13</th> <td>    0.0458</td> <td>    0.054</td> <td>    0.851</td> <td> 0.395</td> <td>   -0.060</td> <td>    0.151</td>\n",
       "</tr>\n",
       "<tr>\n",
       "  <th>x14</th> <td>   -0.0051</td> <td>    0.052</td> <td>   -0.098</td> <td> 0.922</td> <td>   -0.107</td> <td>    0.097</td>\n",
       "</tr>\n",
       "<tr>\n",
       "  <th>x15</th> <td>   -0.0406</td> <td>    0.056</td> <td>   -0.722</td> <td> 0.471</td> <td>   -0.151</td> <td>    0.070</td>\n",
       "</tr>\n",
       "<tr>\n",
       "  <th>x16</th> <td>    0.0278</td> <td>    0.054</td> <td>    0.513</td> <td> 0.609</td> <td>   -0.079</td> <td>    0.134</td>\n",
       "</tr>\n",
       "<tr>\n",
       "  <th>x17</th> <td>   -0.0063</td> <td>    0.054</td> <td>   -0.116</td> <td> 0.907</td> <td>   -0.113</td> <td>    0.100</td>\n",
       "</tr>\n",
       "<tr>\n",
       "  <th>x18</th> <td>    0.0679</td> <td>    0.052</td> <td>    1.296</td> <td> 0.196</td> <td>   -0.035</td> <td>    0.171</td>\n",
       "</tr>\n",
       "<tr>\n",
       "  <th>x19</th> <td>   -0.0299</td> <td>    0.051</td> <td>   -0.588</td> <td> 0.557</td> <td>   -0.130</td> <td>    0.070</td>\n",
       "</tr>\n",
       "<tr>\n",
       "  <th>x20</th> <td>   -0.0435</td> <td>    0.054</td> <td>   -0.802</td> <td> 0.423</td> <td>   -0.150</td> <td>    0.063</td>\n",
       "</tr>\n",
       "<tr>\n",
       "  <th>x21</th> <td>    0.1209</td> <td>    0.056</td> <td>    2.155</td> <td> 0.032</td> <td>    0.011</td> <td>    0.231</td>\n",
       "</tr>\n",
       "<tr>\n",
       "  <th>x22</th> <td>   -0.0487</td> <td>    0.056</td> <td>   -0.870</td> <td> 0.385</td> <td>   -0.159</td> <td>    0.061</td>\n",
       "</tr>\n",
       "<tr>\n",
       "  <th>x23</th> <td>   -0.0248</td> <td>    0.051</td> <td>   -0.489</td> <td> 0.625</td> <td>   -0.125</td> <td>    0.075</td>\n",
       "</tr>\n",
       "<tr>\n",
       "  <th>x24</th> <td>    0.0018</td> <td>    0.054</td> <td>    0.034</td> <td> 0.973</td> <td>   -0.105</td> <td>    0.109</td>\n",
       "</tr>\n",
       "<tr>\n",
       "  <th>x25</th> <td>   -0.0414</td> <td>    0.050</td> <td>   -0.829</td> <td> 0.407</td> <td>   -0.140</td> <td>    0.057</td>\n",
       "</tr>\n",
       "<tr>\n",
       "  <th>x26</th> <td>    0.0721</td> <td>    0.053</td> <td>    1.370</td> <td> 0.172</td> <td>   -0.031</td> <td>    0.176</td>\n",
       "</tr>\n",
       "<tr>\n",
       "  <th>x27</th> <td>    0.0486</td> <td>    0.056</td> <td>    0.863</td> <td> 0.389</td> <td>   -0.062</td> <td>    0.159</td>\n",
       "</tr>\n",
       "<tr>\n",
       "  <th>x28</th> <td>    0.0388</td> <td>    0.055</td> <td>    0.702</td> <td> 0.483</td> <td>   -0.070</td> <td>    0.148</td>\n",
       "</tr>\n",
       "<tr>\n",
       "  <th>x29</th> <td>    0.0559</td> <td>    0.054</td> <td>    1.044</td> <td> 0.297</td> <td>   -0.049</td> <td>    0.161</td>\n",
       "</tr>\n",
       "<tr>\n",
       "  <th>x30</th> <td>   -0.0097</td> <td>    0.050</td> <td>   -0.195</td> <td> 0.846</td> <td>   -0.107</td> <td>    0.088</td>\n",
       "</tr>\n",
       "<tr>\n",
       "  <th>x31</th> <td>    0.0966</td> <td>    0.053</td> <td>    1.834</td> <td> 0.067</td> <td>   -0.007</td> <td>    0.200</td>\n",
       "</tr>\n",
       "<tr>\n",
       "  <th>x32</th> <td>   -0.0471</td> <td>    0.053</td> <td>   -0.893</td> <td> 0.373</td> <td>   -0.151</td> <td>    0.057</td>\n",
       "</tr>\n",
       "<tr>\n",
       "  <th>x33</th> <td>   -0.0388</td> <td>    0.054</td> <td>   -0.721</td> <td> 0.471</td> <td>   -0.144</td> <td>    0.067</td>\n",
       "</tr>\n",
       "<tr>\n",
       "  <th>x34</th> <td>   -0.0238</td> <td>    0.050</td> <td>   -0.475</td> <td> 0.635</td> <td>   -0.122</td> <td>    0.075</td>\n",
       "</tr>\n",
       "<tr>\n",
       "  <th>x35</th> <td>   -0.0215</td> <td>    0.054</td> <td>   -0.398</td> <td> 0.691</td> <td>   -0.128</td> <td>    0.085</td>\n",
       "</tr>\n",
       "<tr>\n",
       "  <th>x36</th> <td>   -0.0656</td> <td>    0.055</td> <td>   -1.182</td> <td> 0.238</td> <td>   -0.175</td> <td>    0.043</td>\n",
       "</tr>\n",
       "<tr>\n",
       "  <th>x37</th> <td>   -0.0417</td> <td>    0.050</td> <td>   -0.833</td> <td> 0.405</td> <td>   -0.140</td> <td>    0.057</td>\n",
       "</tr>\n",
       "<tr>\n",
       "  <th>x38</th> <td>    0.0068</td> <td>    0.051</td> <td>    0.132</td> <td> 0.895</td> <td>   -0.094</td> <td>    0.107</td>\n",
       "</tr>\n",
       "<tr>\n",
       "  <th>x39</th> <td>    0.0349</td> <td>    0.054</td> <td>    0.644</td> <td> 0.520</td> <td>   -0.072</td> <td>    0.141</td>\n",
       "</tr>\n",
       "<tr>\n",
       "  <th>x40</th> <td>   -0.0137</td> <td>    0.051</td> <td>   -0.271</td> <td> 0.787</td> <td>   -0.113</td> <td>    0.086</td>\n",
       "</tr>\n",
       "<tr>\n",
       "  <th>x41</th> <td>   -0.0461</td> <td>    0.056</td> <td>   -0.821</td> <td> 0.412</td> <td>   -0.157</td> <td>    0.064</td>\n",
       "</tr>\n",
       "<tr>\n",
       "  <th>x42</th> <td>    0.0381</td> <td>    0.052</td> <td>    0.733</td> <td> 0.464</td> <td>   -0.064</td> <td>    0.140</td>\n",
       "</tr>\n",
       "<tr>\n",
       "  <th>x43</th> <td>    0.0695</td> <td>    0.052</td> <td>    1.333</td> <td> 0.183</td> <td>   -0.033</td> <td>    0.172</td>\n",
       "</tr>\n",
       "<tr>\n",
       "  <th>x44</th> <td>    0.0751</td> <td>    0.055</td> <td>    1.356</td> <td> 0.176</td> <td>   -0.034</td> <td>    0.184</td>\n",
       "</tr>\n",
       "<tr>\n",
       "  <th>x45</th> <td>    0.0502</td> <td>    0.054</td> <td>    0.938</td> <td> 0.349</td> <td>   -0.055</td> <td>    0.155</td>\n",
       "</tr>\n",
       "<tr>\n",
       "  <th>x46</th> <td>    0.0103</td> <td>    0.053</td> <td>    0.195</td> <td> 0.845</td> <td>   -0.094</td> <td>    0.114</td>\n",
       "</tr>\n",
       "<tr>\n",
       "  <th>x47</th> <td>    0.0639</td> <td>    0.049</td> <td>    1.300</td> <td> 0.194</td> <td>   -0.033</td> <td>    0.160</td>\n",
       "</tr>\n",
       "<tr>\n",
       "  <th>x48</th> <td>   -0.0956</td> <td>    0.054</td> <td>   -1.770</td> <td> 0.077</td> <td>   -0.202</td> <td>    0.011</td>\n",
       "</tr>\n",
       "<tr>\n",
       "  <th>x49</th> <td>   -0.0227</td> <td>    0.052</td> <td>   -0.436</td> <td> 0.663</td> <td>   -0.125</td> <td>    0.080</td>\n",
       "</tr>\n",
       "<tr>\n",
       "  <th>x50</th> <td>    0.0506</td> <td>    0.054</td> <td>    0.939</td> <td> 0.348</td> <td>   -0.055</td> <td>    0.157</td>\n",
       "</tr>\n",
       "<tr>\n",
       "  <th>x51</th> <td>   -0.0370</td> <td>    0.052</td> <td>   -0.711</td> <td> 0.478</td> <td>   -0.139</td> <td>    0.065</td>\n",
       "</tr>\n",
       "<tr>\n",
       "  <th>x52</th> <td>    0.0290</td> <td>    0.054</td> <td>    0.543</td> <td> 0.588</td> <td>   -0.076</td> <td>    0.134</td>\n",
       "</tr>\n",
       "<tr>\n",
       "  <th>x53</th> <td>   -0.0129</td> <td>    0.057</td> <td>   -0.227</td> <td> 0.821</td> <td>   -0.125</td> <td>    0.099</td>\n",
       "</tr>\n",
       "<tr>\n",
       "  <th>x54</th> <td>   -0.0522</td> <td>    0.052</td> <td>   -1.006</td> <td> 0.315</td> <td>   -0.154</td> <td>    0.050</td>\n",
       "</tr>\n",
       "<tr>\n",
       "  <th>x55</th> <td>   -0.0676</td> <td>    0.054</td> <td>   -1.256</td> <td> 0.210</td> <td>   -0.173</td> <td>    0.038</td>\n",
       "</tr>\n",
       "<tr>\n",
       "  <th>x56</th> <td>    0.0264</td> <td>    0.051</td> <td>    0.523</td> <td> 0.601</td> <td>   -0.073</td> <td>    0.126</td>\n",
       "</tr>\n",
       "<tr>\n",
       "  <th>x57</th> <td>   -0.0284</td> <td>    0.055</td> <td>   -0.513</td> <td> 0.608</td> <td>   -0.138</td> <td>    0.081</td>\n",
       "</tr>\n",
       "<tr>\n",
       "  <th>x58</th> <td>   -0.0142</td> <td>    0.051</td> <td>   -0.277</td> <td> 0.782</td> <td>   -0.115</td> <td>    0.087</td>\n",
       "</tr>\n",
       "<tr>\n",
       "  <th>x59</th> <td>   -0.0927</td> <td>    0.054</td> <td>   -1.705</td> <td> 0.089</td> <td>   -0.200</td> <td>    0.014</td>\n",
       "</tr>\n",
       "<tr>\n",
       "  <th>x60</th> <td>   -0.0615</td> <td>    0.049</td> <td>   -1.261</td> <td> 0.208</td> <td>   -0.157</td> <td>    0.034</td>\n",
       "</tr>\n",
       "<tr>\n",
       "  <th>x61</th> <td>    0.1557</td> <td>    0.052</td> <td>    2.990</td> <td> 0.003</td> <td>    0.053</td> <td>    0.258</td>\n",
       "</tr>\n",
       "<tr>\n",
       "  <th>x62</th> <td>    0.0464</td> <td>    0.052</td> <td>    0.884</td> <td> 0.377</td> <td>   -0.057</td> <td>    0.149</td>\n",
       "</tr>\n",
       "<tr>\n",
       "  <th>x63</th> <td>    0.0764</td> <td>    0.051</td> <td>    1.505</td> <td> 0.133</td> <td>   -0.023</td> <td>    0.176</td>\n",
       "</tr>\n",
       "<tr>\n",
       "  <th>x64</th> <td>    0.0409</td> <td>    0.053</td> <td>    0.775</td> <td> 0.439</td> <td>   -0.063</td> <td>    0.145</td>\n",
       "</tr>\n",
       "<tr>\n",
       "  <th>x65</th> <td>    0.0261</td> <td>    0.053</td> <td>    0.489</td> <td> 0.625</td> <td>   -0.079</td> <td>    0.131</td>\n",
       "</tr>\n",
       "<tr>\n",
       "  <th>x66</th> <td>   -0.0141</td> <td>    0.054</td> <td>   -0.260</td> <td> 0.795</td> <td>   -0.121</td> <td>    0.093</td>\n",
       "</tr>\n",
       "<tr>\n",
       "  <th>x67</th> <td>   -0.0333</td> <td>    0.052</td> <td>   -0.646</td> <td> 0.519</td> <td>   -0.135</td> <td>    0.068</td>\n",
       "</tr>\n",
       "<tr>\n",
       "  <th>x68</th> <td>   -0.0029</td> <td>    0.054</td> <td>   -0.054</td> <td> 0.957</td> <td>   -0.110</td> <td>    0.104</td>\n",
       "</tr>\n",
       "<tr>\n",
       "  <th>x69</th> <td>    0.0087</td> <td>    0.050</td> <td>    0.173</td> <td> 0.863</td> <td>   -0.090</td> <td>    0.108</td>\n",
       "</tr>\n",
       "<tr>\n",
       "  <th>x70</th> <td>    0.0771</td> <td>    0.053</td> <td>    1.463</td> <td> 0.144</td> <td>   -0.027</td> <td>    0.181</td>\n",
       "</tr>\n",
       "<tr>\n",
       "  <th>x71</th> <td>   -0.0025</td> <td>    0.052</td> <td>   -0.048</td> <td> 0.962</td> <td>   -0.105</td> <td>    0.100</td>\n",
       "</tr>\n",
       "<tr>\n",
       "  <th>x72</th> <td>    0.0255</td> <td>    0.051</td> <td>    0.502</td> <td> 0.616</td> <td>   -0.074</td> <td>    0.125</td>\n",
       "</tr>\n",
       "<tr>\n",
       "  <th>x73</th> <td>   -0.0190</td> <td>    0.052</td> <td>   -0.363</td> <td> 0.717</td> <td>   -0.122</td> <td>    0.084</td>\n",
       "</tr>\n",
       "<tr>\n",
       "  <th>x74</th> <td>   -0.0756</td> <td>    0.054</td> <td>   -1.393</td> <td> 0.164</td> <td>   -0.182</td> <td>    0.031</td>\n",
       "</tr>\n",
       "<tr>\n",
       "  <th>x75</th> <td>   -0.0737</td> <td>    0.049</td> <td>   -1.501</td> <td> 0.134</td> <td>   -0.170</td> <td>    0.023</td>\n",
       "</tr>\n",
       "<tr>\n",
       "  <th>x76</th> <td>    0.0455</td> <td>    0.052</td> <td>    0.875</td> <td> 0.382</td> <td>   -0.057</td> <td>    0.148</td>\n",
       "</tr>\n",
       "<tr>\n",
       "  <th>x77</th> <td>    0.0017</td> <td>    0.053</td> <td>    0.031</td> <td> 0.975</td> <td>   -0.103</td> <td>    0.107</td>\n",
       "</tr>\n",
       "<tr>\n",
       "  <th>x78</th> <td>   -0.0162</td> <td>    0.056</td> <td>   -0.288</td> <td> 0.774</td> <td>   -0.127</td> <td>    0.095</td>\n",
       "</tr>\n",
       "<tr>\n",
       "  <th>x79</th> <td>    0.0761</td> <td>    0.053</td> <td>    1.446</td> <td> 0.149</td> <td>   -0.027</td> <td>    0.180</td>\n",
       "</tr>\n",
       "<tr>\n",
       "  <th>x80</th> <td>   -0.0086</td> <td>    0.054</td> <td>   -0.158</td> <td> 0.875</td> <td>   -0.115</td> <td>    0.098</td>\n",
       "</tr>\n",
       "<tr>\n",
       "  <th>x81</th> <td>    0.0393</td> <td>    0.054</td> <td>    0.728</td> <td> 0.467</td> <td>   -0.067</td> <td>    0.145</td>\n",
       "</tr>\n",
       "<tr>\n",
       "  <th>x82</th> <td>   -0.0401</td> <td>    0.051</td> <td>   -0.785</td> <td> 0.433</td> <td>   -0.140</td> <td>    0.060</td>\n",
       "</tr>\n",
       "<tr>\n",
       "  <th>x83</th> <td>    0.0644</td> <td>    0.054</td> <td>    1.190</td> <td> 0.235</td> <td>   -0.042</td> <td>    0.171</td>\n",
       "</tr>\n",
       "<tr>\n",
       "  <th>x84</th> <td>   -0.0858</td> <td>    0.056</td> <td>   -1.539</td> <td> 0.125</td> <td>   -0.195</td> <td>    0.024</td>\n",
       "</tr>\n",
       "<tr>\n",
       "  <th>x85</th> <td>   -0.0768</td> <td>    0.050</td> <td>   -1.547</td> <td> 0.123</td> <td>   -0.174</td> <td>    0.021</td>\n",
       "</tr>\n",
       "<tr>\n",
       "  <th>x86</th> <td>   -0.0441</td> <td>    0.053</td> <td>   -0.833</td> <td> 0.406</td> <td>   -0.148</td> <td>    0.060</td>\n",
       "</tr>\n",
       "<tr>\n",
       "  <th>x87</th> <td>   -0.0420</td> <td>    0.053</td> <td>   -0.792</td> <td> 0.429</td> <td>   -0.146</td> <td>    0.062</td>\n",
       "</tr>\n",
       "<tr>\n",
       "  <th>x88</th> <td>    0.0192</td> <td>    0.053</td> <td>    0.359</td> <td> 0.720</td> <td>   -0.086</td> <td>    0.124</td>\n",
       "</tr>\n",
       "<tr>\n",
       "  <th>x89</th> <td>    0.0166</td> <td>    0.054</td> <td>    0.309</td> <td> 0.757</td> <td>   -0.089</td> <td>    0.122</td>\n",
       "</tr>\n",
       "<tr>\n",
       "  <th>x90</th> <td>    0.0584</td> <td>    0.053</td> <td>    1.093</td> <td> 0.275</td> <td>   -0.047</td> <td>    0.163</td>\n",
       "</tr>\n",
       "<tr>\n",
       "  <th>x91</th> <td>    0.0340</td> <td>    0.053</td> <td>    0.639</td> <td> 0.523</td> <td>   -0.070</td> <td>    0.138</td>\n",
       "</tr>\n",
       "<tr>\n",
       "  <th>x92</th> <td>   -0.0285</td> <td>    0.053</td> <td>   -0.543</td> <td> 0.588</td> <td>   -0.132</td> <td>    0.075</td>\n",
       "</tr>\n",
       "<tr>\n",
       "  <th>x93</th> <td>    0.0242</td> <td>    0.052</td> <td>    0.469</td> <td> 0.639</td> <td>   -0.077</td> <td>    0.126</td>\n",
       "</tr>\n",
       "<tr>\n",
       "  <th>x94</th> <td>    0.0261</td> <td>    0.054</td> <td>    0.484</td> <td> 0.628</td> <td>   -0.080</td> <td>    0.132</td>\n",
       "</tr>\n",
       "<tr>\n",
       "  <th>x95</th> <td>   -0.0411</td> <td>    0.054</td> <td>   -0.763</td> <td> 0.446</td> <td>   -0.147</td> <td>    0.065</td>\n",
       "</tr>\n",
       "<tr>\n",
       "  <th>x96</th> <td>    0.0198</td> <td>    0.054</td> <td>    0.370</td> <td> 0.712</td> <td>   -0.085</td> <td>    0.125</td>\n",
       "</tr>\n",
       "<tr>\n",
       "  <th>x97</th> <td>    0.0304</td> <td>    0.051</td> <td>    0.597</td> <td> 0.551</td> <td>   -0.070</td> <td>    0.130</td>\n",
       "</tr>\n",
       "<tr>\n",
       "  <th>x98</th> <td>    0.0805</td> <td>    0.056</td> <td>    1.444</td> <td> 0.150</td> <td>   -0.029</td> <td>    0.190</td>\n",
       "</tr>\n",
       "<tr>\n",
       "  <th>x99</th> <td>    0.0443</td> <td>    0.051</td> <td>    0.872</td> <td> 0.384</td> <td>   -0.056</td> <td>    0.144</td>\n",
       "</tr>\n",
       "</table>\n",
       "<table class=\"simpletable\">\n",
       "<tr>\n",
       "  <th>Omnibus:</th>       <td> 3.216</td> <th>  Durbin-Watson:     </th> <td>   1.990</td>\n",
       "</tr>\n",
       "<tr>\n",
       "  <th>Prob(Omnibus):</th> <td> 0.200</td> <th>  Jarque-Bera (JB):  </th> <td>   3.520</td>\n",
       "</tr>\n",
       "<tr>\n",
       "  <th>Skew:</th>          <td>-0.059</td> <th>  Prob(JB):          </th> <td>   0.172</td>\n",
       "</tr>\n",
       "<tr>\n",
       "  <th>Kurtosis:</th>      <td> 3.394</td> <th>  Cond. No.          </th> <td>    2.47</td>\n",
       "</tr>\n",
       "</table><br/><br/>Warnings:<br/>[1] Standard Errors assume that the covariance matrix of the errors is correctly specified."
      ],
      "text/plain": [
       "<class 'statsmodels.iolib.summary.Summary'>\n",
       "\"\"\"\n",
       "                            OLS Regression Results                            \n",
       "==============================================================================\n",
       "Dep. Variable:                      y   R-squared:                       0.195\n",
       "Model:                            OLS   Adj. R-squared:                 -0.006\n",
       "Method:                 Least Squares   F-statistic:                    0.9695\n",
       "Date:                Tue, 14 Apr 2020   Prob (F-statistic):              0.565\n",
       "Time:                        10:26:49   Log-Likelihood:                -681.39\n",
       "No. Observations:                 500   AIC:                             1563.\n",
       "Df Residuals:                     400   BIC:                             1984.\n",
       "Df Model:                         100                                         \n",
       "Covariance Type:            nonrobust                                         \n",
       "==============================================================================\n",
       "                 coef    std err          t      P>|t|      [0.025      0.975]\n",
       "------------------------------------------------------------------------------\n",
       "x0             0.0322      0.054      0.593      0.553      -0.075       0.139\n",
       "x1            -0.0006      0.054     -0.011      0.991      -0.107       0.105\n",
       "x2             0.0102      0.051      0.202      0.840      -0.089       0.110\n",
       "x3            -0.0597      0.053     -1.134      0.257      -0.163       0.044\n",
       "x4            -0.0360      0.054     -0.661      0.509      -0.143       0.071\n",
       "x5            -0.0205      0.048     -0.423      0.673      -0.116       0.075\n",
       "x6            -0.0149      0.051     -0.290      0.772      -0.116       0.086\n",
       "x7            -0.0420      0.052     -0.804      0.422      -0.145       0.061\n",
       "x8            -0.0211      0.055     -0.382      0.703      -0.130       0.088\n",
       "x9             0.1668      0.053      3.173      0.002       0.063       0.270\n",
       "x10           -0.0228      0.051     -0.451      0.652      -0.122       0.077\n",
       "x11           -0.0392      0.051     -0.765      0.445      -0.140       0.062\n",
       "x12           -0.0169      0.051     -0.333      0.740      -0.117       0.083\n",
       "x13            0.0458      0.054      0.851      0.395      -0.060       0.151\n",
       "x14           -0.0051      0.052     -0.098      0.922      -0.107       0.097\n",
       "x15           -0.0406      0.056     -0.722      0.471      -0.151       0.070\n",
       "x16            0.0278      0.054      0.513      0.609      -0.079       0.134\n",
       "x17           -0.0063      0.054     -0.116      0.907      -0.113       0.100\n",
       "x18            0.0679      0.052      1.296      0.196      -0.035       0.171\n",
       "x19           -0.0299      0.051     -0.588      0.557      -0.130       0.070\n",
       "x20           -0.0435      0.054     -0.802      0.423      -0.150       0.063\n",
       "x21            0.1209      0.056      2.155      0.032       0.011       0.231\n",
       "x22           -0.0487      0.056     -0.870      0.385      -0.159       0.061\n",
       "x23           -0.0248      0.051     -0.489      0.625      -0.125       0.075\n",
       "x24            0.0018      0.054      0.034      0.973      -0.105       0.109\n",
       "x25           -0.0414      0.050     -0.829      0.407      -0.140       0.057\n",
       "x26            0.0721      0.053      1.370      0.172      -0.031       0.176\n",
       "x27            0.0486      0.056      0.863      0.389      -0.062       0.159\n",
       "x28            0.0388      0.055      0.702      0.483      -0.070       0.148\n",
       "x29            0.0559      0.054      1.044      0.297      -0.049       0.161\n",
       "x30           -0.0097      0.050     -0.195      0.846      -0.107       0.088\n",
       "x31            0.0966      0.053      1.834      0.067      -0.007       0.200\n",
       "x32           -0.0471      0.053     -0.893      0.373      -0.151       0.057\n",
       "x33           -0.0388      0.054     -0.721      0.471      -0.144       0.067\n",
       "x34           -0.0238      0.050     -0.475      0.635      -0.122       0.075\n",
       "x35           -0.0215      0.054     -0.398      0.691      -0.128       0.085\n",
       "x36           -0.0656      0.055     -1.182      0.238      -0.175       0.043\n",
       "x37           -0.0417      0.050     -0.833      0.405      -0.140       0.057\n",
       "x38            0.0068      0.051      0.132      0.895      -0.094       0.107\n",
       "x39            0.0349      0.054      0.644      0.520      -0.072       0.141\n",
       "x40           -0.0137      0.051     -0.271      0.787      -0.113       0.086\n",
       "x41           -0.0461      0.056     -0.821      0.412      -0.157       0.064\n",
       "x42            0.0381      0.052      0.733      0.464      -0.064       0.140\n",
       "x43            0.0695      0.052      1.333      0.183      -0.033       0.172\n",
       "x44            0.0751      0.055      1.356      0.176      -0.034       0.184\n",
       "x45            0.0502      0.054      0.938      0.349      -0.055       0.155\n",
       "x46            0.0103      0.053      0.195      0.845      -0.094       0.114\n",
       "x47            0.0639      0.049      1.300      0.194      -0.033       0.160\n",
       "x48           -0.0956      0.054     -1.770      0.077      -0.202       0.011\n",
       "x49           -0.0227      0.052     -0.436      0.663      -0.125       0.080\n",
       "x50            0.0506      0.054      0.939      0.348      -0.055       0.157\n",
       "x51           -0.0370      0.052     -0.711      0.478      -0.139       0.065\n",
       "x52            0.0290      0.054      0.543      0.588      -0.076       0.134\n",
       "x53           -0.0129      0.057     -0.227      0.821      -0.125       0.099\n",
       "x54           -0.0522      0.052     -1.006      0.315      -0.154       0.050\n",
       "x55           -0.0676      0.054     -1.256      0.210      -0.173       0.038\n",
       "x56            0.0264      0.051      0.523      0.601      -0.073       0.126\n",
       "x57           -0.0284      0.055     -0.513      0.608      -0.138       0.081\n",
       "x58           -0.0142      0.051     -0.277      0.782      -0.115       0.087\n",
       "x59           -0.0927      0.054     -1.705      0.089      -0.200       0.014\n",
       "x60           -0.0615      0.049     -1.261      0.208      -0.157       0.034\n",
       "x61            0.1557      0.052      2.990      0.003       0.053       0.258\n",
       "x62            0.0464      0.052      0.884      0.377      -0.057       0.149\n",
       "x63            0.0764      0.051      1.505      0.133      -0.023       0.176\n",
       "x64            0.0409      0.053      0.775      0.439      -0.063       0.145\n",
       "x65            0.0261      0.053      0.489      0.625      -0.079       0.131\n",
       "x66           -0.0141      0.054     -0.260      0.795      -0.121       0.093\n",
       "x67           -0.0333      0.052     -0.646      0.519      -0.135       0.068\n",
       "x68           -0.0029      0.054     -0.054      0.957      -0.110       0.104\n",
       "x69            0.0087      0.050      0.173      0.863      -0.090       0.108\n",
       "x70            0.0771      0.053      1.463      0.144      -0.027       0.181\n",
       "x71           -0.0025      0.052     -0.048      0.962      -0.105       0.100\n",
       "x72            0.0255      0.051      0.502      0.616      -0.074       0.125\n",
       "x73           -0.0190      0.052     -0.363      0.717      -0.122       0.084\n",
       "x74           -0.0756      0.054     -1.393      0.164      -0.182       0.031\n",
       "x75           -0.0737      0.049     -1.501      0.134      -0.170       0.023\n",
       "x76            0.0455      0.052      0.875      0.382      -0.057       0.148\n",
       "x77            0.0017      0.053      0.031      0.975      -0.103       0.107\n",
       "x78           -0.0162      0.056     -0.288      0.774      -0.127       0.095\n",
       "x79            0.0761      0.053      1.446      0.149      -0.027       0.180\n",
       "x80           -0.0086      0.054     -0.158      0.875      -0.115       0.098\n",
       "x81            0.0393      0.054      0.728      0.467      -0.067       0.145\n",
       "x82           -0.0401      0.051     -0.785      0.433      -0.140       0.060\n",
       "x83            0.0644      0.054      1.190      0.235      -0.042       0.171\n",
       "x84           -0.0858      0.056     -1.539      0.125      -0.195       0.024\n",
       "x85           -0.0768      0.050     -1.547      0.123      -0.174       0.021\n",
       "x86           -0.0441      0.053     -0.833      0.406      -0.148       0.060\n",
       "x87           -0.0420      0.053     -0.792      0.429      -0.146       0.062\n",
       "x88            0.0192      0.053      0.359      0.720      -0.086       0.124\n",
       "x89            0.0166      0.054      0.309      0.757      -0.089       0.122\n",
       "x90            0.0584      0.053      1.093      0.275      -0.047       0.163\n",
       "x91            0.0340      0.053      0.639      0.523      -0.070       0.138\n",
       "x92           -0.0285      0.053     -0.543      0.588      -0.132       0.075\n",
       "x93            0.0242      0.052      0.469      0.639      -0.077       0.126\n",
       "x94            0.0261      0.054      0.484      0.628      -0.080       0.132\n",
       "x95           -0.0411      0.054     -0.763      0.446      -0.147       0.065\n",
       "x96            0.0198      0.054      0.370      0.712      -0.085       0.125\n",
       "x97            0.0304      0.051      0.597      0.551      -0.070       0.130\n",
       "x98            0.0805      0.056      1.444      0.150      -0.029       0.190\n",
       "x99            0.0443      0.051      0.872      0.384      -0.056       0.144\n",
       "==============================================================================\n",
       "Omnibus:                        3.216   Durbin-Watson:                   1.990\n",
       "Prob(Omnibus):                  0.200   Jarque-Bera (JB):                3.520\n",
       "Skew:                          -0.059   Prob(JB):                        0.172\n",
       "Kurtosis:                       3.394   Cond. No.                         2.47\n",
       "==============================================================================\n",
       "\n",
       "Warnings:\n",
       "[1] Standard Errors assume that the covariance matrix of the errors is correctly specified.\n",
       "\"\"\""
      ]
     },
     "execution_count": 134,
     "metadata": {},
     "output_type": "execute_result"
    }
   ],
   "source": [
    "variables = df.columns\n",
    "model = sm.OLS(y,df[variables]).fit()\n",
    "model.summary()"
   ]
  },
  {
   "cell_type": "code",
   "execution_count": 135,
   "metadata": {},
   "outputs": [
    {
     "data": {
      "text/html": [
       "<table class=\"simpletable\">\n",
       "<caption>OLS Regression Results</caption>\n",
       "<tr>\n",
       "  <th>Dep. Variable:</th>            <td>y</td>        <th>  R-squared:         </th> <td>   0.039</td>\n",
       "</tr>\n",
       "<tr>\n",
       "  <th>Model:</th>                   <td>OLS</td>       <th>  Adj. R-squared:    </th> <td>   0.033</td>\n",
       "</tr>\n",
       "<tr>\n",
       "  <th>Method:</th>             <td>Least Squares</td>  <th>  F-statistic:       </th> <td>   6.674</td>\n",
       "</tr>\n",
       "<tr>\n",
       "  <th>Date:</th>             <td>Tue, 14 Apr 2020</td> <th>  Prob (F-statistic):</th> <td>0.000201</td>\n",
       "</tr>\n",
       "<tr>\n",
       "  <th>Time:</th>                 <td>10:28:54</td>     <th>  Log-Likelihood:    </th> <td> -725.78</td>\n",
       "</tr>\n",
       "<tr>\n",
       "  <th>No. Observations:</th>      <td>   500</td>      <th>  AIC:               </th> <td>   1458.</td>\n",
       "</tr>\n",
       "<tr>\n",
       "  <th>Df Residuals:</th>          <td>   497</td>      <th>  BIC:               </th> <td>   1470.</td>\n",
       "</tr>\n",
       "<tr>\n",
       "  <th>Df Model:</th>              <td>     3</td>      <th>                     </th>     <td> </td>   \n",
       "</tr>\n",
       "<tr>\n",
       "  <th>Covariance Type:</th>      <td>nonrobust</td>    <th>                     </th>     <td> </td>   \n",
       "</tr>\n",
       "</table>\n",
       "<table class=\"simpletable\">\n",
       "<tr>\n",
       "   <td></td>      <th>coef</th>     <th>std err</th>      <th>t</th>      <th>P>|t|</th>  <th>[0.025</th>    <th>0.975]</th>  \n",
       "</tr>\n",
       "<tr>\n",
       "  <th>x9</th>  <td>    0.1294</td> <td>    0.046</td> <td>    2.806</td> <td> 0.005</td> <td>    0.039</td> <td>    0.220</td>\n",
       "</tr>\n",
       "<tr>\n",
       "  <th>x21</th> <td>    0.1157</td> <td>    0.048</td> <td>    2.388</td> <td> 0.017</td> <td>    0.020</td> <td>    0.211</td>\n",
       "</tr>\n",
       "<tr>\n",
       "  <th>x61</th> <td>    0.1234</td> <td>    0.045</td> <td>    2.729</td> <td> 0.007</td> <td>    0.035</td> <td>    0.212</td>\n",
       "</tr>\n",
       "</table>\n",
       "<table class=\"simpletable\">\n",
       "<tr>\n",
       "  <th>Omnibus:</th>       <td> 0.137</td> <th>  Durbin-Watson:     </th> <td>   1.956</td>\n",
       "</tr>\n",
       "<tr>\n",
       "  <th>Prob(Omnibus):</th> <td> 0.934</td> <th>  Jarque-Bera (JB):  </th> <td>   0.098</td>\n",
       "</tr>\n",
       "<tr>\n",
       "  <th>Skew:</th>          <td> 0.034</td> <th>  Prob(JB):          </th> <td>   0.952</td>\n",
       "</tr>\n",
       "<tr>\n",
       "  <th>Kurtosis:</th>      <td> 3.008</td> <th>  Cond. No.          </th> <td>    1.10</td>\n",
       "</tr>\n",
       "</table><br/><br/>Warnings:<br/>[1] Standard Errors assume that the covariance matrix of the errors is correctly specified."
      ],
      "text/plain": [
       "<class 'statsmodels.iolib.summary.Summary'>\n",
       "\"\"\"\n",
       "                            OLS Regression Results                            \n",
       "==============================================================================\n",
       "Dep. Variable:                      y   R-squared:                       0.039\n",
       "Model:                            OLS   Adj. R-squared:                  0.033\n",
       "Method:                 Least Squares   F-statistic:                     6.674\n",
       "Date:                Tue, 14 Apr 2020   Prob (F-statistic):           0.000201\n",
       "Time:                        10:28:54   Log-Likelihood:                -725.78\n",
       "No. Observations:                 500   AIC:                             1458.\n",
       "Df Residuals:                     497   BIC:                             1470.\n",
       "Df Model:                           3                                         \n",
       "Covariance Type:            nonrobust                                         \n",
       "==============================================================================\n",
       "                 coef    std err          t      P>|t|      [0.025      0.975]\n",
       "------------------------------------------------------------------------------\n",
       "x9             0.1294      0.046      2.806      0.005       0.039       0.220\n",
       "x21            0.1157      0.048      2.388      0.017       0.020       0.211\n",
       "x61            0.1234      0.045      2.729      0.007       0.035       0.212\n",
       "==============================================================================\n",
       "Omnibus:                        0.137   Durbin-Watson:                   1.956\n",
       "Prob(Omnibus):                  0.934   Jarque-Bera (JB):                0.098\n",
       "Skew:                           0.034   Prob(JB):                        0.952\n",
       "Kurtosis:                       3.008   Cond. No.                         1.10\n",
       "==============================================================================\n",
       "\n",
       "Warnings:\n",
       "[1] Standard Errors assume that the covariance matrix of the errors is correctly specified.\n",
       "\"\"\""
      ]
     },
     "execution_count": 135,
     "metadata": {},
     "output_type": "execute_result"
    }
   ],
   "source": [
    "# uncomment this line the first time you run the cell; comment it out for subsequent runs\n",
    "stat_sig_vars = variables\n",
    "stat_sig_vars = stat_sig_vars[model.pvalues <= .05]\n",
    "model = sm.OLS(y,df[stat_sig_vars]).fit()\n",
    "model.summary()"
   ]
  },
  {
   "cell_type": "markdown",
   "metadata": {},
   "source": [
    "# Now let's fit the same model, using sklearn"
   ]
  },
  {
   "cell_type": "code",
   "execution_count": 35,
   "metadata": {},
   "outputs": [
    {
     "data": {
      "text/plain": [
       "LinearRegression(copy_X=True, fit_intercept=True, n_jobs=1, normalize=False)"
      ]
     },
     "execution_count": 35,
     "metadata": {},
     "output_type": "execute_result"
    }
   ],
   "source": [
    "lm = LinearRegression()\n",
    "model = lm.fit(X,Y)\n",
    "model"
   ]
  },
  {
   "cell_type": "code",
   "execution_count": 36,
   "metadata": {},
   "outputs": [
    {
     "data": {
      "text/plain": [
       "array([[ 23.43680686],\n",
       "       [ 25.50676803],\n",
       "       [ 33.97277473],\n",
       "       [ 56.57815002],\n",
       "       [100.98360633]])"
      ]
     },
     "execution_count": 36,
     "metadata": {},
     "output_type": "execute_result"
    }
   ],
   "source": [
    "Yhat = lm.predict(X)\n",
    "Yhat[:5]"
   ]
  },
  {
   "cell_type": "code",
   "execution_count": 37,
   "metadata": {},
   "outputs": [
    {
     "data": {
      "text/plain": [
       "0.8497213568380639"
      ]
     },
     "execution_count": 37,
     "metadata": {},
     "output_type": "execute_result"
    }
   ],
   "source": [
    "# how well does the model fit? \n",
    "lm.score(X,Y) # R^2 score"
   ]
  },
  {
   "cell_type": "code",
   "execution_count": 38,
   "metadata": {},
   "outputs": [
    {
     "data": {
      "text/plain": [
       "array([[-4.82539599,  0.03226385,  0.24639928, -0.34673328, -0.32620001]])"
      ]
     },
     "execution_count": 38,
     "metadata": {},
     "output_type": "execute_result"
    }
   ],
   "source": [
    "# what about the coefficients?\n",
    "lm.coef_"
   ]
  },
  {
   "cell_type": "code",
   "execution_count": 39,
   "metadata": {},
   "outputs": [
    {
     "data": {
      "text/plain": [
       "array([1540.44007106])"
      ]
     },
     "execution_count": 39,
     "metadata": {},
     "output_type": "execute_result"
    }
   ],
   "source": [
    "# and the intercept β_0\n",
    "lm.intercept_"
   ]
  },
  {
   "cell_type": "code",
   "execution_count": 40,
   "metadata": {},
   "outputs": [
    {
     "data": {
      "image/png": "[encoded data removed]",
      "text/plain": [
       "<Figure size 432x288 with 1 Axes>"
      ]
     },
     "metadata": {
      "needs_background": "light"
     },
     "output_type": "display_data"
    }
   ],
   "source": [
    "# and visualize the fit \n",
    "plot_fit(Y, Yhat)"
   ]
  },
  {
   "cell_type": "code",
   "execution_count": null,
   "metadata": {},
   "outputs": [],
   "source": []
  },
  {
   "cell_type": "code",
   "execution_count": null,
   "metadata": {},
   "outputs": [],
   "source": []
  }
 ],
 "metadata": {
  "kernelspec": {
   "display_name": "Python 3",
   "language": "python",
   "name": "python3"
  },
  "language_info": {
   "codemirror_mode": {
    "name": "ipython",
    "version": 3
   },
   "file_extension": ".py",
   "mimetype": "text/x-python",
   "name": "python",
   "nbconvert_exporter": "python",
   "pygments_lexer": "ipython3",
   "version": "3.7.1"
  }
 },
 "nbformat": 4,
 "nbformat_minor": 2
}
