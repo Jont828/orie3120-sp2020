{
 "cells": [
  {
   "cell_type": "code",
   "execution_count": 54,
   "metadata": {},
   "outputs": [],
   "source": [
    "# math \n",
    "import numpy as np\n",
    "\n",
    "# normal cdf\n",
    "from scipy.stats import norm\n",
    "\n",
    "# dataframes\n",
    "import pandas as pd\n",
    "\n",
    "# plotting\n",
    "import matplotlib.pyplot as plt\n",
    "import seaborn\n",
    "\n",
    "# linear regression\n",
    "import statsmodels.api as sm\n",
    "from statsmodels.stats.outliers_influence import variance_inflation_factor\n",
    "\n",
    "# for choosing covariates to include in model\n",
    "from patsy import dmatrices "
   ]
  },
  {
   "cell_type": "code",
   "execution_count": 110,
   "metadata": {},
   "outputs": [
    {
     "data": {
      "text/html": [
       "<div>\n",
       "<style scoped>\n",
       "    .dataframe tbody tr th:only-of-type {\n",
       "        vertical-align: middle;\n",
       "    }\n",
       "\n",
       "    .dataframe tbody tr th {\n",
       "        vertical-align: top;\n",
       "    }\n",
       "\n",
       "    .dataframe thead th {\n",
       "        text-align: right;\n",
       "    }\n",
       "</style>\n",
       "<table border=\"1\" class=\"dataframe\">\n",
       "  <thead>\n",
       "    <tr style=\"text-align: right;\">\n",
       "      <th></th>\n",
       "      <th>month</th>\n",
       "      <th>year</th>\n",
       "      <th>usage</th>\n",
       "      <th>temperature</th>\n",
       "    </tr>\n",
       "  </thead>\n",
       "  <tbody>\n",
       "    <tr>\n",
       "      <th>0</th>\n",
       "      <td>8</td>\n",
       "      <td>1989</td>\n",
       "      <td>24.828</td>\n",
       "      <td>73</td>\n",
       "    </tr>\n",
       "    <tr>\n",
       "      <th>1</th>\n",
       "      <td>9</td>\n",
       "      <td>1989</td>\n",
       "      <td>24.688</td>\n",
       "      <td>67</td>\n",
       "    </tr>\n",
       "    <tr>\n",
       "      <th>2</th>\n",
       "      <td>10</td>\n",
       "      <td>1989</td>\n",
       "      <td>19.310</td>\n",
       "      <td>57</td>\n",
       "    </tr>\n",
       "    <tr>\n",
       "      <th>3</th>\n",
       "      <td>11</td>\n",
       "      <td>1989</td>\n",
       "      <td>59.706</td>\n",
       "      <td>43</td>\n",
       "    </tr>\n",
       "    <tr>\n",
       "      <th>4</th>\n",
       "      <td>12</td>\n",
       "      <td>1989</td>\n",
       "      <td>99.667</td>\n",
       "      <td>26</td>\n",
       "    </tr>\n",
       "  </tbody>\n",
       "</table>\n",
       "</div>"
      ],
      "text/plain": [
       "   month  year   usage  temperature\n",
       "0      8  1989  24.828           73\n",
       "1      9  1989  24.688           67\n",
       "2     10  1989  19.310           57\n",
       "3     11  1989  59.706           43\n",
       "4     12  1989  99.667           26"
      ]
     },
     "execution_count": 110,
     "metadata": {},
     "output_type": "execute_result"
    }
   ],
   "source": [
    "usage = pd.read_csv('elec_usage.txt')\n",
    "usage.head()"
   ]
  },
  {
   "cell_type": "code",
   "execution_count": 112,
   "metadata": {},
   "outputs": [],
   "source": [
    "Y, X = dmatrices('usage ~ 1 + temperature + np.power(temperature, 2)', data=usage, return_type='dataframe')\n",
    "model = sm.OLS(Y, X).fit()"
   ]
  },
  {
   "cell_type": "code",
   "execution_count": 113,
   "metadata": {},
   "outputs": [],
   "source": [
    "def plot_fit(Y, Yhat):\n",
    "    plt.scatter(Y, Yhat,  color='black')\n",
    "    plt.xlabel(\"true outcome Y\")\n",
    "    plt.ylabel(\"predicted outcome Yhat\")\n",
    "    plt.show()\n",
    "    \n",
    "def assess_model_quality(data, formula):\n",
    "    Y, X = dmatrices(formula, data=data, return_type='dataframe')\n",
    "    model = sm.OLS(Y, X).fit()\n",
    "    Yhat = model.predict(X)\n",
    "    plot_fit(Y, Yhat)\n",
    "    return model "
   ]
  },
  {
   "cell_type": "code",
   "execution_count": 114,
   "metadata": {},
   "outputs": [
    {
     "data": {
      "image/png": "[encoded data removed]",
      "text/plain": [
       "<Figure size 432x288 with 1 Axes>"
      ]
     },
     "metadata": {
      "needs_background": "light"
     },
     "output_type": "display_data"
    },
    {
     "data": {
      "text/html": [
       "<table class=\"simpletable\">\n",
       "<caption>OLS Regression Results</caption>\n",
       "<tr>\n",
       "  <th>Dep. Variable:</th>      <td>np.log(usage)</td>  <th>  R-squared:         </th> <td>   0.811</td>\n",
       "</tr>\n",
       "<tr>\n",
       "  <th>Model:</th>                   <td>OLS</td>       <th>  Adj. R-squared:    </th> <td>   0.808</td>\n",
       "</tr>\n",
       "<tr>\n",
       "  <th>Method:</th>             <td>Least Squares</td>  <th>  F-statistic:       </th> <td>   227.8</td>\n",
       "</tr>\n",
       "<tr>\n",
       "  <th>Date:</th>             <td>Thu, 23 Apr 2020</td> <th>  Prob (F-statistic):</th> <td>7.82e-21</td>\n",
       "</tr>\n",
       "<tr>\n",
       "  <th>Time:</th>                 <td>10:17:03</td>     <th>  Log-Likelihood:    </th> <td>  1.0037</td>\n",
       "</tr>\n",
       "<tr>\n",
       "  <th>No. Observations:</th>      <td>    55</td>      <th>  AIC:               </th> <td>   1.993</td>\n",
       "</tr>\n",
       "<tr>\n",
       "  <th>Df Residuals:</th>          <td>    53</td>      <th>  BIC:               </th> <td>   6.007</td>\n",
       "</tr>\n",
       "<tr>\n",
       "  <th>Df Model:</th>              <td>     1</td>      <th>                     </th>     <td> </td>   \n",
       "</tr>\n",
       "<tr>\n",
       "  <th>Covariance Type:</th>      <td>nonrobust</td>    <th>                     </th>     <td> </td>   \n",
       "</tr>\n",
       "</table>\n",
       "<table class=\"simpletable\">\n",
       "<tr>\n",
       "           <td></td>              <th>coef</th>     <th>std err</th>      <th>t</th>      <th>P>|t|</th>  <th>[0.025</th>    <th>0.975]</th>  \n",
       "</tr>\n",
       "<tr>\n",
       "  <th>Intercept</th>           <td>    9.9203</td> <td>    0.419</td> <td>   23.691</td> <td> 0.000</td> <td>    9.080</td> <td>   10.760</td>\n",
       "</tr>\n",
       "<tr>\n",
       "  <th>np.log(temperature)</th> <td>   -1.5989</td> <td>    0.106</td> <td>  -15.092</td> <td> 0.000</td> <td>   -1.811</td> <td>   -1.386</td>\n",
       "</tr>\n",
       "</table>\n",
       "<table class=\"simpletable\">\n",
       "<tr>\n",
       "  <th>Omnibus:</th>       <td> 4.773</td> <th>  Durbin-Watson:     </th> <td>   1.402</td>\n",
       "</tr>\n",
       "<tr>\n",
       "  <th>Prob(Omnibus):</th> <td> 0.092</td> <th>  Jarque-Bera (JB):  </th> <td>   3.709</td>\n",
       "</tr>\n",
       "<tr>\n",
       "  <th>Skew:</th>          <td>-0.551</td> <th>  Prob(JB):          </th> <td>   0.157</td>\n",
       "</tr>\n",
       "<tr>\n",
       "  <th>Kurtosis:</th>      <td> 3.636</td> <th>  Cond. No.          </th> <td>    53.9</td>\n",
       "</tr>\n",
       "</table><br/><br/>Warnings:<br/>[1] Standard Errors assume that the covariance matrix of the errors is correctly specified."
      ],
      "text/plain": [
       "<class 'statsmodels.iolib.summary.Summary'>\n",
       "\"\"\"\n",
       "                            OLS Regression Results                            \n",
       "==============================================================================\n",
       "Dep. Variable:          np.log(usage)   R-squared:                       0.811\n",
       "Model:                            OLS   Adj. R-squared:                  0.808\n",
       "Method:                 Least Squares   F-statistic:                     227.8\n",
       "Date:                Thu, 23 Apr 2020   Prob (F-statistic):           7.82e-21\n",
       "Time:                        10:17:03   Log-Likelihood:                 1.0037\n",
       "No. Observations:                  55   AIC:                             1.993\n",
       "Df Residuals:                      53   BIC:                             6.007\n",
       "Df Model:                           1                                         \n",
       "Covariance Type:            nonrobust                                         \n",
       "=======================================================================================\n",
       "                          coef    std err          t      P>|t|      [0.025      0.975]\n",
       "---------------------------------------------------------------------------------------\n",
       "Intercept               9.9203      0.419     23.691      0.000       9.080      10.760\n",
       "np.log(temperature)    -1.5989      0.106    -15.092      0.000      -1.811      -1.386\n",
       "==============================================================================\n",
       "Omnibus:                        4.773   Durbin-Watson:                   1.402\n",
       "Prob(Omnibus):                  0.092   Jarque-Bera (JB):                3.709\n",
       "Skew:                          -0.551   Prob(JB):                        0.157\n",
       "Kurtosis:                       3.636   Cond. No.                         53.9\n",
       "==============================================================================\n",
       "\n",
       "Warnings:\n",
       "[1] Standard Errors assume that the covariance matrix of the errors is correctly specified.\n",
       "\"\"\""
      ]
     },
     "execution_count": 114,
     "metadata": {},
     "output_type": "execute_result"
    }
   ],
   "source": [
    "# try a linear model to predict log usage from log temperature\n",
    "linear = assess_model_quality(usage, 'np.log(usage) ~ np.log(temperature)')\n",
    "linear.summary()"
   ]
  },
  {
   "cell_type": "code",
   "execution_count": 115,
   "metadata": {},
   "outputs": [
    {
     "data": {
      "text/plain": [
       "Text(0, 0.5, 'residual')"
      ]
     },
     "execution_count": 115,
     "metadata": {},
     "output_type": "execute_result"
    },
    {
     "data": {
      "image/png": "[encoded data removed]",
      "text/plain": [
       "<Figure size 432x288 with 1 Axes>"
      ]
     },
     "metadata": {
      "needs_background": "light"
     },
     "output_type": "display_data"
    }
   ],
   "source": [
    "# is there any signal left in the residuals?\n",
    "resid = model.resid\n",
    "plt.scatter(np.log(usage['temperature']), model.resid)\n",
    "plt.xlabel(\"log(temperature)\")\n",
    "plt.ylabel(\"residual\")"
   ]
  },
  {
   "cell_type": "code",
   "execution_count": 116,
   "metadata": {},
   "outputs": [
    {
     "data": {
      "image/png": "[encoded data removed]",
      "text/plain": [
       "<Figure size 432x288 with 1 Axes>"
      ]
     },
     "metadata": {
      "needs_background": "light"
     },
     "output_type": "display_data"
    },
    {
     "data": {
      "text/html": [
       "<table class=\"simpletable\">\n",
       "<caption>OLS Regression Results</caption>\n",
       "<tr>\n",
       "  <th>Dep. Variable:</th>      <td>np.log(usage)</td>  <th>  R-squared:         </th> <td>   0.814</td>\n",
       "</tr>\n",
       "<tr>\n",
       "  <th>Model:</th>                   <td>OLS</td>       <th>  Adj. R-squared:    </th> <td>   0.807</td>\n",
       "</tr>\n",
       "<tr>\n",
       "  <th>Method:</th>             <td>Least Squares</td>  <th>  F-statistic:       </th> <td>   113.6</td>\n",
       "</tr>\n",
       "<tr>\n",
       "  <th>Date:</th>             <td>Thu, 23 Apr 2020</td> <th>  Prob (F-statistic):</th> <td>1.06e-19</td>\n",
       "</tr>\n",
       "<tr>\n",
       "  <th>Time:</th>                 <td>10:17:06</td>     <th>  Log-Likelihood:    </th> <td>  1.3644</td>\n",
       "</tr>\n",
       "<tr>\n",
       "  <th>No. Observations:</th>      <td>    55</td>      <th>  AIC:               </th> <td>   3.271</td>\n",
       "</tr>\n",
       "<tr>\n",
       "  <th>Df Residuals:</th>          <td>    52</td>      <th>  BIC:               </th> <td>   9.293</td>\n",
       "</tr>\n",
       "<tr>\n",
       "  <th>Df Model:</th>              <td>     2</td>      <th>                     </th>     <td> </td>   \n",
       "</tr>\n",
       "<tr>\n",
       "  <th>Covariance Type:</th>      <td>nonrobust</td>    <th>                     </th>     <td> </td>   \n",
       "</tr>\n",
       "</table>\n",
       "<table class=\"simpletable\">\n",
       "<tr>\n",
       "                  <td></td>                    <th>coef</th>     <th>std err</th>      <th>t</th>      <th>P>|t|</th>  <th>[0.025</th>    <th>0.975]</th>  \n",
       "</tr>\n",
       "<tr>\n",
       "  <th>Intercept</th>                        <td>    5.6258</td> <td>    5.200</td> <td>    1.082</td> <td> 0.284</td> <td>   -4.809</td> <td>   16.061</td>\n",
       "</tr>\n",
       "<tr>\n",
       "  <th>np.log(temperature)</th>              <td>    0.6349</td> <td>    2.698</td> <td>    0.235</td> <td> 0.815</td> <td>   -4.779</td> <td>    6.049</td>\n",
       "</tr>\n",
       "<tr>\n",
       "  <th>np.power(np.log(temperature), 2)</th> <td>   -0.2885</td> <td>    0.348</td> <td>   -0.829</td> <td> 0.411</td> <td>   -0.987</td> <td>    0.410</td>\n",
       "</tr>\n",
       "</table>\n",
       "<table class=\"simpletable\">\n",
       "<tr>\n",
       "  <th>Omnibus:</th>       <td> 5.527</td> <th>  Durbin-Watson:     </th> <td>   1.396</td>\n",
       "</tr>\n",
       "<tr>\n",
       "  <th>Prob(Omnibus):</th> <td> 0.063</td> <th>  Jarque-Bera (JB):  </th> <td>   4.464</td>\n",
       "</tr>\n",
       "<tr>\n",
       "  <th>Skew:</th>          <td>-0.618</td> <th>  Prob(JB):          </th> <td>   0.107</td>\n",
       "</tr>\n",
       "<tr>\n",
       "  <th>Kurtosis:</th>      <td> 3.649</td> <th>  Cond. No.          </th> <td>2.93e+03</td>\n",
       "</tr>\n",
       "</table><br/><br/>Warnings:<br/>[1] Standard Errors assume that the covariance matrix of the errors is correctly specified.<br/>[2] The condition number is large, 2.93e+03. This might indicate that there are<br/>strong multicollinearity or other numerical problems."
      ],
      "text/plain": [
       "<class 'statsmodels.iolib.summary.Summary'>\n",
       "\"\"\"\n",
       "                            OLS Regression Results                            \n",
       "==============================================================================\n",
       "Dep. Variable:          np.log(usage)   R-squared:                       0.814\n",
       "Model:                            OLS   Adj. R-squared:                  0.807\n",
       "Method:                 Least Squares   F-statistic:                     113.6\n",
       "Date:                Thu, 23 Apr 2020   Prob (F-statistic):           1.06e-19\n",
       "Time:                        10:17:06   Log-Likelihood:                 1.3644\n",
       "No. Observations:                  55   AIC:                             3.271\n",
       "Df Residuals:                      52   BIC:                             9.293\n",
       "Df Model:                           2                                         \n",
       "Covariance Type:            nonrobust                                         \n",
       "====================================================================================================\n",
       "                                       coef    std err          t      P>|t|      [0.025      0.975]\n",
       "----------------------------------------------------------------------------------------------------\n",
       "Intercept                            5.6258      5.200      1.082      0.284      -4.809      16.061\n",
       "np.log(temperature)                  0.6349      2.698      0.235      0.815      -4.779       6.049\n",
       "np.power(np.log(temperature), 2)    -0.2885      0.348     -0.829      0.411      -0.987       0.410\n",
       "==============================================================================\n",
       "Omnibus:                        5.527   Durbin-Watson:                   1.396\n",
       "Prob(Omnibus):                  0.063   Jarque-Bera (JB):                4.464\n",
       "Skew:                          -0.618   Prob(JB):                        0.107\n",
       "Kurtosis:                       3.649   Cond. No.                     2.93e+03\n",
       "==============================================================================\n",
       "\n",
       "Warnings:\n",
       "[1] Standard Errors assume that the covariance matrix of the errors is correctly specified.\n",
       "[2] The condition number is large, 2.93e+03. This might indicate that there are\n",
       "strong multicollinearity or other numerical problems.\n",
       "\"\"\""
      ]
     },
     "execution_count": 116,
     "metadata": {},
     "output_type": "execute_result"
    }
   ],
   "source": [
    "# let's try adding a quadratic term \n",
    "# notice we get a warning that design matrix is ill-conditioned\n",
    "quad = assess_model_quality(usage, 'np.log(usage) ~ np.log(temperature) + np.power(np.log(temperature), 2)')\n",
    "quad.summary()"
   ]
  },
  {
   "cell_type": "code",
   "execution_count": 117,
   "metadata": {},
   "outputs": [
    {
     "data": {
      "text/plain": [
       "Intercept                           25237.650598\n",
       "np.log(temperature)                   644.758755\n",
       "np.power(np.log(temperature), 2)      644.758755\n",
       "dtype: float64"
      ]
     },
     "execution_count": 117,
     "metadata": {},
     "output_type": "execute_result"
    }
   ],
   "source": [
    "# VIF for quadratic model\n",
    "\n",
    "Y, X = dmatrices('np.log(usage) ~ np.log(temperature) + np.power(np.log(temperature), 2)', data=usage, return_type='dataframe')\n",
    "\n",
    "pd.Series([variance_inflation_factor(X.values, i) \n",
    "               for i in range(X.shape[1])], \n",
    "               index=X.columns)"
   ]
  },
  {
   "cell_type": "code",
   "execution_count": 118,
   "metadata": {},
   "outputs": [
    {
     "data": {
      "text/plain": [
       "<matplotlib.axes._subplots.AxesSubplot at 0x1c200ed4e0>"
      ]
     },
     "execution_count": 118,
     "metadata": {},
     "output_type": "execute_result"
    },
    {
     "data": {
      "image/png": "[encoded data removed]",
      "text/plain": [
       "<Figure size 432x288 with 1 Axes>"
      ]
     },
     "metadata": {
      "needs_background": "light"
     },
     "output_type": "display_data"
    }
   ],
   "source": [
    "# the problem: collinearity\n",
    "X.plot('np.log(temperature)', 'np.power(np.log(temperature), 2)')"
   ]
  },
  {
   "cell_type": "markdown",
   "metadata": {},
   "source": [
    "## specific fix: use centered covariates"
   ]
  },
  {
   "cell_type": "code",
   "execution_count": 120,
   "metadata": {},
   "outputs": [],
   "source": [
    "# instate the quadratic model \n",
    "Y, X = dmatrices('np.log(usage) ~ np.log(temperature) + np.power(np.log(temperature), 2)', data=usage)"
   ]
  },
  {
   "cell_type": "code",
   "execution_count": 121,
   "metadata": {},
   "outputs": [
    {
     "data": {
      "text/plain": [
       "0     0.349831\n",
       "1     0.264064\n",
       "2     0.102423\n",
       "3    -0.179428\n",
       "4    -0.682532\n",
       "5    -0.227056\n",
       "6    -0.303042\n",
       "7    -0.111987\n",
       "8     0.048356\n",
       "9     0.153716\n",
       "10    0.322052\n",
       "11    0.376860\n",
       "12    0.363437\n",
       "13    0.249027\n",
       "14    0.170246\n",
       "15   -0.048808\n",
       "16   -0.227056\n",
       "17   -0.385280\n",
       "18   -0.227056\n",
       "19   -0.202959\n",
       "20    0.084723\n",
       "21    0.293478\n",
       "22    0.349831\n",
       "23    0.403177\n",
       "24    0.363437\n",
       "25    0.249027\n",
       "26    0.084723\n",
       "27   -0.090481\n",
       "28   -0.303042\n",
       "29   -0.414268\n",
       "30   -0.329710\n",
       "31   -0.277067\n",
       "32   -0.008803\n",
       "33    0.153716\n",
       "34    0.307867\n",
       "35    0.349831\n",
       "36    0.322052\n",
       "37    0.249027\n",
       "38    0.048356\n",
       "39   -0.133966\n",
       "40   -0.357109\n",
       "41   -0.414268\n",
       "42   -0.474892\n",
       "43   -0.277067\n",
       "44    0.066705\n",
       "45    0.218255\n",
       "46    0.336038\n",
       "47    0.428820\n",
       "48    0.376860\n",
       "49    0.233759\n",
       "50    0.048356\n",
       "51   -0.069427\n",
       "52   -0.385280\n",
       "53   -0.762574\n",
       "54   -0.474892\n",
       "Name: temperature, dtype: float64"
      ]
     },
     "execution_count": 121,
     "metadata": {},
     "output_type": "execute_result"
    }
   ],
   "source": [
    "np.mean(X[:,1])\n",
    "np.log(usage['temperature']) - np.mean(np.log(usage['temperature']))"
   ]
  },
  {
   "cell_type": "code",
   "execution_count": 123,
   "metadata": {},
   "outputs": [
    {
     "data": {
      "text/plain": [
       "0.9969581875695092"
      ]
     },
     "execution_count": 123,
     "metadata": {},
     "output_type": "execute_result"
    }
   ],
   "source": [
    "# high correlation between mean and log temp\n",
    "np.dot(X[:,0], X[:,1]) / (np.linalg.norm(X[:,0]) * np.linalg.norm(X[:,1]))"
   ]
  },
  {
   "cell_type": "code",
   "execution_count": 124,
   "metadata": {},
   "outputs": [],
   "source": [
    "# center the data \n",
    "X[:,1] = X[:,1] - np.mean(X[:,1])\n",
    "X[:,2] = np.power(X[:,1],2)"
   ]
  },
  {
   "cell_type": "code",
   "execution_count": 125,
   "metadata": {},
   "outputs": [
    {
     "data": {
      "text/plain": [
       "-1.199040866595169e-14"
      ]
     },
     "execution_count": 125,
     "metadata": {},
     "output_type": "execute_result"
    }
   ],
   "source": [
    "# no correlation between mean and log temp\n",
    "np.dot(X[:,0], X[:,1])"
   ]
  },
  {
   "cell_type": "code",
   "execution_count": 126,
   "metadata": {},
   "outputs": [
    {
     "data": {
      "text/plain": [
       "Text(0, 0.5, 'np.power(centered np.log(temperature), 2)')"
      ]
     },
     "execution_count": 126,
     "metadata": {},
     "output_type": "execute_result"
    },
    {
     "data": {
      "image/png": "[encoded data removed]",
      "text/plain": [
       "<Figure size 432x288 with 1 Axes>"
      ]
     },
     "metadata": {
      "needs_background": "light"
     },
     "output_type": "display_data"
    }
   ],
   "source": [
    "# log temp and its square are no longer collinear\n",
    "plt.scatter(X[:,1], X[:,2])\n",
    "plt.xlabel(\"centered np.log(temperature)\")\n",
    "plt.ylabel(\"np.power(centered np.log(temperature), 2)\")"
   ]
  },
  {
   "cell_type": "code",
   "execution_count": 127,
   "metadata": {},
   "outputs": [
    {
     "data": {
      "text/plain": [
       "-0.30617049147663533"
      ]
     },
     "execution_count": 127,
     "metadata": {},
     "output_type": "execute_result"
    }
   ],
   "source": [
    "# some (negative) correlation between log temp and its square\n",
    "np.dot(X[:,1], X[:,2]) / (np.linalg.norm(X[:,1]) * np.linalg.norm(X[:,2]))"
   ]
  },
  {
   "cell_type": "code",
   "execution_count": 128,
   "metadata": {},
   "outputs": [
    {
     "data": {
      "text/plain": [
       "0.676364239688123"
      ]
     },
     "execution_count": 128,
     "metadata": {},
     "output_type": "execute_result"
    }
   ],
   "source": [
    "# strong correlation between mean and square of log temp\n",
    "np.dot(X[:,0], X[:,2]) / (np.linalg.norm(X[:,0]) * np.linalg.norm(X[:,2]))"
   ]
  },
  {
   "cell_type": "code",
   "execution_count": 129,
   "metadata": {},
   "outputs": [
    {
     "data": {
      "text/plain": [
       "0    2.019335\n",
       "1    1.208873\n",
       "2    1.208873\n",
       "dtype: float64"
      ]
     },
     "execution_count": 129,
     "metadata": {},
     "output_type": "execute_result"
    }
   ],
   "source": [
    "# check VIFs after centering data: not too bad!\n",
    "pd.Series([variance_inflation_factor(X, i) \n",
    "               for i in range(X.shape[1])])"
   ]
  },
  {
   "cell_type": "code",
   "execution_count": 130,
   "metadata": {},
   "outputs": [
    {
     "data": {
      "image/png": "[encoded data removed]",
      "text/plain": [
       "<Figure size 432x288 with 1 Axes>"
      ]
     },
     "metadata": {
      "needs_background": "light"
     },
     "output_type": "display_data"
    },
    {
     "data": {
      "text/html": [
       "<table class=\"simpletable\">\n",
       "<caption>OLS Regression Results</caption>\n",
       "<tr>\n",
       "  <th>Dep. Variable:</th>      <td>np.log(usage)</td>  <th>  R-squared:         </th> <td>   0.814</td>\n",
       "</tr>\n",
       "<tr>\n",
       "  <th>Model:</th>                   <td>OLS</td>       <th>  Adj. R-squared:    </th> <td>   0.807</td>\n",
       "</tr>\n",
       "<tr>\n",
       "  <th>Method:</th>             <td>Least Squares</td>  <th>  F-statistic:       </th> <td>   113.6</td>\n",
       "</tr>\n",
       "<tr>\n",
       "  <th>Date:</th>             <td>Thu, 23 Apr 2020</td> <th>  Prob (F-statistic):</th> <td>1.06e-19</td>\n",
       "</tr>\n",
       "<tr>\n",
       "  <th>Time:</th>                 <td>10:21:49</td>     <th>  Log-Likelihood:    </th> <td>  1.3644</td>\n",
       "</tr>\n",
       "<tr>\n",
       "  <th>No. Observations:</th>      <td>    55</td>      <th>  AIC:               </th> <td>   3.271</td>\n",
       "</tr>\n",
       "<tr>\n",
       "  <th>Df Residuals:</th>          <td>    52</td>      <th>  BIC:               </th> <td>   9.293</td>\n",
       "</tr>\n",
       "<tr>\n",
       "  <th>Df Model:</th>              <td>     2</td>      <th>                     </th>     <td> </td>   \n",
       "</tr>\n",
       "<tr>\n",
       "  <th>Covariance Type:</th>      <td>nonrobust</td>    <th>                     </th>     <td> </td>   \n",
       "</tr>\n",
       "</table>\n",
       "<table class=\"simpletable\">\n",
       "<tr>\n",
       "                  <td></td>                    <th>coef</th>     <th>std err</th>      <th>t</th>      <th>P>|t|</th>  <th>[0.025</th>    <th>0.975]</th>  \n",
       "</tr>\n",
       "<tr>\n",
       "  <th>Intercept</th>                        <td>    3.6472</td> <td>    0.047</td> <td>   78.409</td> <td> 0.000</td> <td>    3.554</td> <td>    3.741</td>\n",
       "</tr>\n",
       "<tr>\n",
       "  <th>np.log(temperature)</th>              <td>   -1.6391</td> <td>    0.117</td> <td>  -14.030</td> <td> 0.000</td> <td>   -1.874</td> <td>   -1.405</td>\n",
       "</tr>\n",
       "<tr>\n",
       "  <th>np.power(np.log(temperature), 2)</th> <td>   -0.2885</td> <td>    0.348</td> <td>   -0.829</td> <td> 0.411</td> <td>   -0.987</td> <td>    0.410</td>\n",
       "</tr>\n",
       "</table>\n",
       "<table class=\"simpletable\">\n",
       "<tr>\n",
       "  <th>Omnibus:</th>       <td> 5.527</td> <th>  Durbin-Watson:     </th> <td>   1.396</td>\n",
       "</tr>\n",
       "<tr>\n",
       "  <th>Prob(Omnibus):</th> <td> 0.063</td> <th>  Jarque-Bera (JB):  </th> <td>   4.464</td>\n",
       "</tr>\n",
       "<tr>\n",
       "  <th>Skew:</th>          <td>-0.618</td> <th>  Prob(JB):          </th> <td>   0.107</td>\n",
       "</tr>\n",
       "<tr>\n",
       "  <th>Kurtosis:</th>      <td> 3.649</td> <th>  Cond. No.          </th> <td>    10.8</td>\n",
       "</tr>\n",
       "</table><br/><br/>Warnings:<br/>[1] Standard Errors assume that the covariance matrix of the errors is correctly specified."
      ],
      "text/plain": [
       "<class 'statsmodels.iolib.summary.Summary'>\n",
       "\"\"\"\n",
       "                            OLS Regression Results                            \n",
       "==============================================================================\n",
       "Dep. Variable:          np.log(usage)   R-squared:                       0.814\n",
       "Model:                            OLS   Adj. R-squared:                  0.807\n",
       "Method:                 Least Squares   F-statistic:                     113.6\n",
       "Date:                Thu, 23 Apr 2020   Prob (F-statistic):           1.06e-19\n",
       "Time:                        10:21:49   Log-Likelihood:                 1.3644\n",
       "No. Observations:                  55   AIC:                             3.271\n",
       "Df Residuals:                      52   BIC:                             9.293\n",
       "Df Model:                           2                                         \n",
       "Covariance Type:            nonrobust                                         \n",
       "====================================================================================================\n",
       "                                       coef    std err          t      P>|t|      [0.025      0.975]\n",
       "----------------------------------------------------------------------------------------------------\n",
       "Intercept                            3.6472      0.047     78.409      0.000       3.554       3.741\n",
       "np.log(temperature)                 -1.6391      0.117    -14.030      0.000      -1.874      -1.405\n",
       "np.power(np.log(temperature), 2)    -0.2885      0.348     -0.829      0.411      -0.987       0.410\n",
       "==============================================================================\n",
       "Omnibus:                        5.527   Durbin-Watson:                   1.396\n",
       "Prob(Omnibus):                  0.063   Jarque-Bera (JB):                4.464\n",
       "Skew:                          -0.618   Prob(JB):                        0.107\n",
       "Kurtosis:                       3.649   Cond. No.                         10.8\n",
       "==============================================================================\n",
       "\n",
       "Warnings:\n",
       "[1] Standard Errors assume that the covariance matrix of the errors is correctly specified.\n",
       "\"\"\""
      ]
     },
     "execution_count": 130,
     "metadata": {},
     "output_type": "execute_result"
    }
   ],
   "source": [
    "model = sm.OLS(Y, X).fit()\n",
    "Yhat = model.predict(Z)\n",
    "plot_fit(Y, Yhat)\n",
    "model.summary()"
   ]
  },
  {
   "cell_type": "markdown",
   "metadata": {},
   "source": [
    "## general fix: orthogonal polynomials"
   ]
  },
  {
   "cell_type": "code",
   "execution_count": 89,
   "metadata": {},
   "outputs": [],
   "source": [
    "def ortho_poly_fit(x, degree = 1):\n",
    "    n = degree + 1\n",
    "    x = np.asarray(x).flatten()\n",
    "    if(degree >= len(np.unique(x))):\n",
    "            stop(\"'degree' must be less than number of unique points\")\n",
    "    xbar = np.mean(x)\n",
    "    x = x - xbar\n",
    "    X = np.fliplr(np.vander(x, n))\n",
    "    q,r = np.linalg.qr(X)\n",
    "\n",
    "    z = np.diag(np.diag(r))\n",
    "    raw = np.dot(q, z)\n",
    "\n",
    "    norm2 = np.sum(raw**2, axis=0)\n",
    "    alpha = (np.sum((raw**2)*np.reshape(x,(-1,1)), axis=0)/norm2 + xbar)[:degree]\n",
    "    Z = raw / np.sqrt(norm2)\n",
    "    return Z, norm2, alpha\n",
    "\n",
    "\"\"\"Use this function to transform test dataset to orthogonalized coordinates\"\"\"\n",
    "def ortho_poly_predict(x, alpha, norm2, degree = 1):\n",
    "    x = np.asarray(x).flatten()\n",
    "    n = degree + 1\n",
    "    Z = np.empty((len(x), n))\n",
    "    Z[:,0] = 1\n",
    "    if degree > 0:\n",
    "        Z[:, 1] = x - alpha[0]\n",
    "    if degree > 1:\n",
    "      for i in np.arange(1,degree):\n",
    "          Z[:, i+1] = (x - alpha[i]) * Z[:, i] - (norm2[i] / norm2[i-1]) * Z[:, i-1]\n",
    "    Z /= np.sqrt(norm2)\n",
    "    return Z"
   ]
  },
  {
   "cell_type": "code",
   "execution_count": 137,
   "metadata": {},
   "outputs": [],
   "source": [
    "# create orthogonal polynomial features\n",
    "Z, norm2, alpha = ortho_poly_fit(np.log(usage['temperature']), degree=2)\n",
    "Y = np.log(usage['usage'])"
   ]
  },
  {
   "cell_type": "code",
   "execution_count": 138,
   "metadata": {},
   "outputs": [
    {
     "data": {
      "text/plain": [
       "array([[ 1.00000000e+00, -2.01059227e-02, -1.43648744e-02],\n",
       "       [-2.01059227e-02,  1.00000000e+00, -3.73741278e-17],\n",
       "       [-1.43648744e-02, -3.73741278e-17,  1.00000000e+00]])"
      ]
     },
     "execution_count": 138,
     "metadata": {},
     "output_type": "execute_result"
    }
   ],
   "source": [
    "# check correlations - all off-diagonal correlations are very close to 0!\n",
    "np.corrcoef(Z.T)"
   ]
  },
  {
   "cell_type": "code",
   "execution_count": 139,
   "metadata": {},
   "outputs": [
    {
     "data": {
      "text/plain": [
       "0    1.0\n",
       "1    1.0\n",
       "2    1.0\n",
       "dtype: float64"
      ]
     },
     "execution_count": 139,
     "metadata": {},
     "output_type": "execute_result"
    }
   ],
   "source": [
    "# check that VIFs are 1\n",
    "pd.Series([variance_inflation_factor(Z, i) \n",
    "               for i in range(Z.shape[1])])"
   ]
  },
  {
   "cell_type": "code",
   "execution_count": 140,
   "metadata": {},
   "outputs": [
    {
     "data": {
      "image/png": "[encoded data removed]",
      "text/plain": [
       "<Figure size 432x288 with 1 Axes>"
      ]
     },
     "metadata": {
      "needs_background": "light"
     },
     "output_type": "display_data"
    },
    {
     "data": {
      "text/html": [
       "<table class=\"simpletable\">\n",
       "<caption>OLS Regression Results</caption>\n",
       "<tr>\n",
       "  <th>Dep. Variable:</th>          <td>usage</td>      <th>  R-squared:         </th> <td>   0.814</td>\n",
       "</tr>\n",
       "<tr>\n",
       "  <th>Model:</th>                   <td>OLS</td>       <th>  Adj. R-squared:    </th> <td>   0.807</td>\n",
       "</tr>\n",
       "<tr>\n",
       "  <th>Method:</th>             <td>Least Squares</td>  <th>  F-statistic:       </th> <td>   113.6</td>\n",
       "</tr>\n",
       "<tr>\n",
       "  <th>Date:</th>             <td>Thu, 23 Apr 2020</td> <th>  Prob (F-statistic):</th> <td>1.06e-19</td>\n",
       "</tr>\n",
       "<tr>\n",
       "  <th>Time:</th>                 <td>10:26:41</td>     <th>  Log-Likelihood:    </th> <td>  1.3644</td>\n",
       "</tr>\n",
       "<tr>\n",
       "  <th>No. Observations:</th>      <td>    55</td>      <th>  AIC:               </th> <td>   3.271</td>\n",
       "</tr>\n",
       "<tr>\n",
       "  <th>Df Residuals:</th>          <td>    52</td>      <th>  BIC:               </th> <td>   9.293</td>\n",
       "</tr>\n",
       "<tr>\n",
       "  <th>Df Model:</th>              <td>     2</td>      <th>                     </th>     <td> </td>   \n",
       "</tr>\n",
       "<tr>\n",
       "  <th>Covariance Type:</th>      <td>nonrobust</td>    <th>                     </th>     <td> </td>   \n",
       "</tr>\n",
       "</table>\n",
       "<table class=\"simpletable\">\n",
       "<tr>\n",
       "   <td></td>     <th>coef</th>     <th>std err</th>      <th>t</th>      <th>P>|t|</th>  <th>[0.025</th>    <th>0.975]</th>  \n",
       "</tr>\n",
       "<tr>\n",
       "  <th>x1</th> <td>   26.8452</td> <td>    0.243</td> <td>  110.585</td> <td> 0.000</td> <td>   26.358</td> <td>   27.332</td>\n",
       "</tr>\n",
       "<tr>\n",
       "  <th>x2</th> <td>   -3.6528</td> <td>    0.243</td> <td>  -15.047</td> <td> 0.000</td> <td>   -4.140</td> <td>   -3.166</td>\n",
       "</tr>\n",
       "<tr>\n",
       "  <th>x3</th> <td>   -0.2011</td> <td>    0.243</td> <td>   -0.829</td> <td> 0.411</td> <td>   -0.688</td> <td>    0.286</td>\n",
       "</tr>\n",
       "</table>\n",
       "<table class=\"simpletable\">\n",
       "<tr>\n",
       "  <th>Omnibus:</th>       <td> 5.527</td> <th>  Durbin-Watson:     </th> <td>   1.396</td>\n",
       "</tr>\n",
       "<tr>\n",
       "  <th>Prob(Omnibus):</th> <td> 0.063</td> <th>  Jarque-Bera (JB):  </th> <td>   4.464</td>\n",
       "</tr>\n",
       "<tr>\n",
       "  <th>Skew:</th>          <td>-0.618</td> <th>  Prob(JB):          </th> <td>   0.107</td>\n",
       "</tr>\n",
       "<tr>\n",
       "  <th>Kurtosis:</th>      <td> 3.649</td> <th>  Cond. No.          </th> <td>    1.00</td>\n",
       "</tr>\n",
       "</table><br/><br/>Warnings:<br/>[1] Standard Errors assume that the covariance matrix of the errors is correctly specified."
      ],
      "text/plain": [
       "<class 'statsmodels.iolib.summary.Summary'>\n",
       "\"\"\"\n",
       "                            OLS Regression Results                            \n",
       "==============================================================================\n",
       "Dep. Variable:                  usage   R-squared:                       0.814\n",
       "Model:                            OLS   Adj. R-squared:                  0.807\n",
       "Method:                 Least Squares   F-statistic:                     113.6\n",
       "Date:                Thu, 23 Apr 2020   Prob (F-statistic):           1.06e-19\n",
       "Time:                        10:26:41   Log-Likelihood:                 1.3644\n",
       "No. Observations:                  55   AIC:                             3.271\n",
       "Df Residuals:                      52   BIC:                             9.293\n",
       "Df Model:                           2                                         \n",
       "Covariance Type:            nonrobust                                         \n",
       "==============================================================================\n",
       "                 coef    std err          t      P>|t|      [0.025      0.975]\n",
       "------------------------------------------------------------------------------\n",
       "x1            26.8452      0.243    110.585      0.000      26.358      27.332\n",
       "x2            -3.6528      0.243    -15.047      0.000      -4.140      -3.166\n",
       "x3            -0.2011      0.243     -0.829      0.411      -0.688       0.286\n",
       "==============================================================================\n",
       "Omnibus:                        5.527   Durbin-Watson:                   1.396\n",
       "Prob(Omnibus):                  0.063   Jarque-Bera (JB):                4.464\n",
       "Skew:                          -0.618   Prob(JB):                        0.107\n",
       "Kurtosis:                       3.649   Cond. No.                         1.00\n",
       "==============================================================================\n",
       "\n",
       "Warnings:\n",
       "[1] Standard Errors assume that the covariance matrix of the errors is correctly specified.\n",
       "\"\"\""
      ]
     },
     "execution_count": 140,
     "metadata": {},
     "output_type": "execute_result"
    }
   ],
   "source": [
    "# assess model quality \n",
    "# note R^2 is the same as with original covariates, but std errors are equalized \n",
    "# p values for intercept and linear term are now highly statistically significant\n",
    "\n",
    "model = sm.OLS(Y, Z).fit()\n",
    "Yhat = model.predict(Z)\n",
    "plot_fit(Y, Yhat)\n",
    "model.summary()"
   ]
  },
  {
   "cell_type": "code",
   "execution_count": 141,
   "metadata": {},
   "outputs": [
    {
     "data": {
      "text/plain": [
       "-2.7755575615628914e-17"
      ]
     },
     "execution_count": 141,
     "metadata": {},
     "output_type": "execute_result"
    }
   ],
   "source": [
    "# check orthogonality\n",
    "np.dot(Z[:,1], Z[:,2])"
   ]
  },
  {
   "cell_type": "code",
   "execution_count": 142,
   "metadata": {},
   "outputs": [
    {
     "data": {
      "text/plain": [
       "<matplotlib.legend.Legend at 0x1c1d86d048>"
      ]
     },
     "execution_count": 142,
     "metadata": {},
     "output_type": "execute_result"
    },
    {
     "data": {
      "image/png": "[encoded data removed]",
      "text/plain": [
       "<Figure size 432x288 with 1 Axes>"
      ]
     },
     "metadata": {
      "needs_background": "light"
     },
     "output_type": "display_data"
    }
   ],
   "source": [
    "# indeed, the features are orthogonal!\n",
    "logtemp = np.log(usage['temperature'])\n",
    "plt.scatter(logtemp, Z[:,1], label=\"1st degree poly\")\n",
    "plt.scatter(logtemp, Z[:,2], label=\"2nd degree poly\")\n",
    "plt.xlabel(\"log(temperature)\")\n",
    "plt.legend()"
   ]
  },
  {
   "cell_type": "markdown",
   "metadata": {},
   "source": [
    "# Predictions"
   ]
  },
  {
   "cell_type": "code",
   "execution_count": 143,
   "metadata": {},
   "outputs": [],
   "source": [
    "usage = usage.sort_values('temperature')\n",
    "Y, X = dmatrices('usage ~ 1 + temperature + np.power(temperature, 2)', data=usage, return_type='dataframe')\n",
    "model = sm.OLS(Y, X).fit()"
   ]
  },
  {
   "cell_type": "code",
   "execution_count": 146,
   "metadata": {},
   "outputs": [
    {
     "data": {
      "text/html": [
       "<div>\n",
       "<style scoped>\n",
       "    .dataframe tbody tr th:only-of-type {\n",
       "        vertical-align: middle;\n",
       "    }\n",
       "\n",
       "    .dataframe tbody tr th {\n",
       "        vertical-align: top;\n",
       "    }\n",
       "\n",
       "    .dataframe thead th {\n",
       "        text-align: right;\n",
       "    }\n",
       "</style>\n",
       "<table border=\"1\" class=\"dataframe\">\n",
       "  <thead>\n",
       "    <tr style=\"text-align: right;\">\n",
       "      <th></th>\n",
       "      <th>mean</th>\n",
       "      <th>mean_se</th>\n",
       "      <th>mean_ci_lower</th>\n",
       "      <th>mean_ci_upper</th>\n",
       "      <th>obs_ci_lower</th>\n",
       "      <th>obs_ci_upper</th>\n",
       "    </tr>\n",
       "  </thead>\n",
       "  <tbody>\n",
       "    <tr>\n",
       "      <th>53</th>\n",
       "      <td>103.045721</td>\n",
       "      <td>4.904832</td>\n",
       "      <td>89.931508</td>\n",
       "      <td>116.159935</td>\n",
       "      <td>74.283707</td>\n",
       "      <td>131.807735</td>\n",
       "    </tr>\n",
       "    <tr>\n",
       "      <th>4</th>\n",
       "      <td>96.837973</td>\n",
       "      <td>4.230563</td>\n",
       "      <td>85.526574</td>\n",
       "      <td>108.149372</td>\n",
       "      <td>68.851930</td>\n",
       "      <td>124.824016</td>\n",
       "    </tr>\n",
       "    <tr>\n",
       "      <th>42</th>\n",
       "      <td>79.689852</td>\n",
       "      <td>2.639513</td>\n",
       "      <td>72.632498</td>\n",
       "      <td>86.747207</td>\n",
       "      <td>53.136564</td>\n",
       "      <td>106.243140</td>\n",
       "    </tr>\n",
       "    <tr>\n",
       "      <th>54</th>\n",
       "      <td>79.689852</td>\n",
       "      <td>2.639513</td>\n",
       "      <td>72.632498</td>\n",
       "      <td>86.747207</td>\n",
       "      <td>53.136564</td>\n",
       "      <td>106.243140</td>\n",
       "    </tr>\n",
       "    <tr>\n",
       "      <th>41</th>\n",
       "      <td>74.465520</td>\n",
       "      <td>2.277803</td>\n",
       "      <td>68.375282</td>\n",
       "      <td>80.555758</td>\n",
       "      <td>48.152751</td>\n",
       "      <td>100.778290</td>\n",
       "    </tr>\n",
       "    <tr>\n",
       "      <th>29</th>\n",
       "      <td>74.465520</td>\n",
       "      <td>2.277803</td>\n",
       "      <td>68.375282</td>\n",
       "      <td>80.555758</td>\n",
       "      <td>48.152751</td>\n",
       "      <td>100.778290</td>\n",
       "    </tr>\n",
       "    <tr>\n",
       "      <th>17</th>\n",
       "      <td>71.945550</td>\n",
       "      <td>2.133371</td>\n",
       "      <td>66.241484</td>\n",
       "      <td>77.649615</td>\n",
       "      <td>45.719471</td>\n",
       "      <td>98.171629</td>\n",
       "    </tr>\n",
       "    <tr>\n",
       "      <th>52</th>\n",
       "      <td>71.945550</td>\n",
       "      <td>2.133371</td>\n",
       "      <td>66.241484</td>\n",
       "      <td>77.649615</td>\n",
       "      <td>45.719471</td>\n",
       "      <td>98.171629</td>\n",
       "    </tr>\n",
       "    <tr>\n",
       "      <th>40</th>\n",
       "      <td>69.487042</td>\n",
       "      <td>2.014142</td>\n",
       "      <td>64.101763</td>\n",
       "      <td>74.872322</td>\n",
       "      <td>43.328447</td>\n",
       "      <td>95.645637</td>\n",
       "    </tr>\n",
       "    <tr>\n",
       "      <th>30</th>\n",
       "      <td>67.089999</td>\n",
       "      <td>1.920153</td>\n",
       "      <td>61.956020</td>\n",
       "      <td>72.223977</td>\n",
       "      <td>40.981981</td>\n",
       "      <td>93.198016</td>\n",
       "    </tr>\n",
       "    <tr>\n",
       "      <th>6</th>\n",
       "      <td>64.754419</td>\n",
       "      <td>1.850688</td>\n",
       "      <td>59.806171</td>\n",
       "      <td>69.702666</td>\n",
       "      <td>38.682288</td>\n",
       "      <td>90.826549</td>\n",
       "    </tr>\n",
       "    <tr>\n",
       "      <th>28</th>\n",
       "      <td>64.754419</td>\n",
       "      <td>1.850688</td>\n",
       "      <td>59.806171</td>\n",
       "      <td>69.702666</td>\n",
       "      <td>38.682288</td>\n",
       "      <td>90.826549</td>\n",
       "    </tr>\n",
       "    <tr>\n",
       "      <th>43</th>\n",
       "      <td>62.480302</td>\n",
       "      <td>1.804180</td>\n",
       "      <td>57.656405</td>\n",
       "      <td>67.304199</td>\n",
       "      <td>36.431486</td>\n",
       "      <td>88.529118</td>\n",
       "    </tr>\n",
       "    <tr>\n",
       "      <th>31</th>\n",
       "      <td>62.480302</td>\n",
       "      <td>1.804180</td>\n",
       "      <td>57.656405</td>\n",
       "      <td>67.304199</td>\n",
       "      <td>36.431486</td>\n",
       "      <td>88.529118</td>\n",
       "    </tr>\n",
       "    <tr>\n",
       "      <th>16</th>\n",
       "      <td>58.116459</td>\n",
       "      <td>1.769885</td>\n",
       "      <td>53.384258</td>\n",
       "      <td>62.848661</td>\n",
       "      <td>32.084468</td>\n",
       "      <td>84.148451</td>\n",
       "    </tr>\n",
       "    <tr>\n",
       "      <th>5</th>\n",
       "      <td>58.116459</td>\n",
       "      <td>1.769885</td>\n",
       "      <td>53.384258</td>\n",
       "      <td>62.848661</td>\n",
       "      <td>32.084468</td>\n",
       "      <td>84.148451</td>\n",
       "    </tr>\n",
       "    <tr>\n",
       "      <th>18</th>\n",
       "      <td>58.116459</td>\n",
       "      <td>1.769885</td>\n",
       "      <td>53.384258</td>\n",
       "      <td>62.848661</td>\n",
       "      <td>32.084468</td>\n",
       "      <td>84.148451</td>\n",
       "    </tr>\n",
       "    <tr>\n",
       "      <th>19</th>\n",
       "      <td>56.026733</td>\n",
       "      <td>1.775717</td>\n",
       "      <td>51.278938</td>\n",
       "      <td>60.774529</td>\n",
       "      <td>29.991903</td>\n",
       "      <td>82.061564</td>\n",
       "    </tr>\n",
       "    <tr>\n",
       "      <th>3</th>\n",
       "      <td>53.998471</td>\n",
       "      <td>1.792302</td>\n",
       "      <td>49.206332</td>\n",
       "      <td>58.790610</td>\n",
       "      <td>27.955517</td>\n",
       "      <td>80.041425</td>\n",
       "    </tr>\n",
       "    <tr>\n",
       "      <th>39</th>\n",
       "      <td>50.126336</td>\n",
       "      <td>1.844934</td>\n",
       "      <td>45.193473</td>\n",
       "      <td>55.059199</td>\n",
       "      <td>24.057121</td>\n",
       "      <td>76.195552</td>\n",
       "    </tr>\n",
       "    <tr>\n",
       "      <th>7</th>\n",
       "      <td>48.282464</td>\n",
       "      <td>1.875460</td>\n",
       "      <td>43.267983</td>\n",
       "      <td>53.296946</td>\n",
       "      <td>22.197682</td>\n",
       "      <td>74.367247</td>\n",
       "    </tr>\n",
       "    <tr>\n",
       "      <th>27</th>\n",
       "      <td>46.500056</td>\n",
       "      <td>1.905791</td>\n",
       "      <td>41.404480</td>\n",
       "      <td>51.595632</td>\n",
       "      <td>20.399563</td>\n",
       "      <td>72.600549</td>\n",
       "    </tr>\n",
       "    <tr>\n",
       "      <th>51</th>\n",
       "      <td>44.779111</td>\n",
       "      <td>1.934168</td>\n",
       "      <td>39.607660</td>\n",
       "      <td>49.950562</td>\n",
       "      <td>18.663699</td>\n",
       "      <td>70.894523</td>\n",
       "    </tr>\n",
       "    <tr>\n",
       "      <th>15</th>\n",
       "      <td>43.119630</td>\n",
       "      <td>1.959192</td>\n",
       "      <td>37.881272</td>\n",
       "      <td>48.357987</td>\n",
       "      <td>16.990886</td>\n",
       "      <td>69.248373</td>\n",
       "    </tr>\n",
       "    <tr>\n",
       "      <th>32</th>\n",
       "      <td>39.985057</td>\n",
       "      <td>1.995087</td>\n",
       "      <td>34.650727</td>\n",
       "      <td>45.319388</td>\n",
       "      <td>13.836904</td>\n",
       "      <td>66.133211</td>\n",
       "    </tr>\n",
       "    <tr>\n",
       "      <th>38</th>\n",
       "      <td>35.744176</td>\n",
       "      <td>2.004699</td>\n",
       "      <td>30.384145</td>\n",
       "      <td>41.104206</td>\n",
       "      <td>9.590767</td>\n",
       "      <td>61.897584</td>\n",
       "    </tr>\n",
       "    <tr>\n",
       "      <th>8</th>\n",
       "      <td>35.744176</td>\n",
       "      <td>2.004699</td>\n",
       "      <td>30.384145</td>\n",
       "      <td>41.104206</td>\n",
       "      <td>9.590767</td>\n",
       "      <td>61.897584</td>\n",
       "    </tr>\n",
       "    <tr>\n",
       "      <th>50</th>\n",
       "      <td>35.744176</td>\n",
       "      <td>2.004699</td>\n",
       "      <td>30.384145</td>\n",
       "      <td>41.104206</td>\n",
       "      <td>9.590767</td>\n",
       "      <td>61.897584</td>\n",
       "    </tr>\n",
       "    <tr>\n",
       "      <th>44</th>\n",
       "      <td>34.453475</td>\n",
       "      <td>1.995219</td>\n",
       "      <td>29.118791</td>\n",
       "      <td>39.788159</td>\n",
       "      <td>8.305250</td>\n",
       "      <td>60.601701</td>\n",
       "    </tr>\n",
       "    <tr>\n",
       "      <th>26</th>\n",
       "      <td>33.224239</td>\n",
       "      <td>1.979593</td>\n",
       "      <td>27.931333</td>\n",
       "      <td>38.517144</td>\n",
       "      <td>7.084504</td>\n",
       "      <td>59.363973</td>\n",
       "    </tr>\n",
       "    <tr>\n",
       "      <th>20</th>\n",
       "      <td>33.224239</td>\n",
       "      <td>1.979593</td>\n",
       "      <td>27.931333</td>\n",
       "      <td>38.517144</td>\n",
       "      <td>7.084504</td>\n",
       "      <td>59.363973</td>\n",
       "    </tr>\n",
       "    <tr>\n",
       "      <th>2</th>\n",
       "      <td>32.056465</td>\n",
       "      <td>1.958240</td>\n",
       "      <td>26.820652</td>\n",
       "      <td>37.292278</td>\n",
       "      <td>5.928232</td>\n",
       "      <td>58.184699</td>\n",
       "    </tr>\n",
       "    <tr>\n",
       "      <th>9</th>\n",
       "      <td>28.921927</td>\n",
       "      <td>1.867568</td>\n",
       "      <td>23.928548</td>\n",
       "      <td>33.915305</td>\n",
       "      <td>2.841193</td>\n",
       "      <td>55.002661</td>\n",
       "    </tr>\n",
       "    <tr>\n",
       "      <th>33</th>\n",
       "      <td>28.921927</td>\n",
       "      <td>1.867568</td>\n",
       "      <td>23.928548</td>\n",
       "      <td>33.915305</td>\n",
       "      <td>2.841193</td>\n",
       "      <td>55.002661</td>\n",
       "    </tr>\n",
       "    <tr>\n",
       "      <th>14</th>\n",
       "      <td>28.000008</td>\n",
       "      <td>1.832501</td>\n",
       "      <td>23.100388</td>\n",
       "      <td>32.899628</td>\n",
       "      <td>1.937062</td>\n",
       "      <td>54.062953</td>\n",
       "    </tr>\n",
       "    <tr>\n",
       "      <th>45</th>\n",
       "      <td>25.603032</td>\n",
       "      <td>1.740064</td>\n",
       "      <td>20.950565</td>\n",
       "      <td>30.255498</td>\n",
       "      <td>-0.414584</td>\n",
       "      <td>51.620647</td>\n",
       "    </tr>\n",
       "    <tr>\n",
       "      <th>49</th>\n",
       "      <td>24.926967</td>\n",
       "      <td>1.722859</td>\n",
       "      <td>20.320500</td>\n",
       "      <td>29.533433</td>\n",
       "      <td>-1.082462</td>\n",
       "      <td>50.936395</td>\n",
       "    </tr>\n",
       "    <tr>\n",
       "      <th>37</th>\n",
       "      <td>24.312365</td>\n",
       "      <td>1.718093</td>\n",
       "      <td>19.718641</td>\n",
       "      <td>28.906089</td>\n",
       "      <td>-1.694810</td>\n",
       "      <td>50.319540</td>\n",
       "    </tr>\n",
       "    <tr>\n",
       "      <th>25</th>\n",
       "      <td>24.312365</td>\n",
       "      <td>1.718093</td>\n",
       "      <td>19.718641</td>\n",
       "      <td>28.906089</td>\n",
       "      <td>-1.694810</td>\n",
       "      <td>50.319540</td>\n",
       "    </tr>\n",
       "    <tr>\n",
       "      <th>13</th>\n",
       "      <td>24.312365</td>\n",
       "      <td>1.718093</td>\n",
       "      <td>19.718641</td>\n",
       "      <td>28.906089</td>\n",
       "      <td>-1.694810</td>\n",
       "      <td>50.319540</td>\n",
       "    </tr>\n",
       "    <tr>\n",
       "      <th>1</th>\n",
       "      <td>23.759227</td>\n",
       "      <td>1.729420</td>\n",
       "      <td>19.135220</td>\n",
       "      <td>28.383234</td>\n",
       "      <td>-2.253314</td>\n",
       "      <td>49.771768</td>\n",
       "    </tr>\n",
       "    <tr>\n",
       "      <th>21</th>\n",
       "      <td>22.837342</td>\n",
       "      <td>1.813673</td>\n",
       "      <td>17.988064</td>\n",
       "      <td>27.686619</td>\n",
       "      <td>-3.216187</td>\n",
       "      <td>48.890870</td>\n",
       "    </tr>\n",
       "    <tr>\n",
       "      <th>34</th>\n",
       "      <td>22.468594</td>\n",
       "      <td>1.891675</td>\n",
       "      <td>17.410759</td>\n",
       "      <td>27.526429</td>\n",
       "      <td>-3.624557</td>\n",
       "      <td>48.561746</td>\n",
       "    </tr>\n",
       "    <tr>\n",
       "      <th>36</th>\n",
       "      <td>22.161310</td>\n",
       "      <td>1.995499</td>\n",
       "      <td>16.825877</td>\n",
       "      <td>27.496744</td>\n",
       "      <td>-3.987068</td>\n",
       "      <td>48.309689</td>\n",
       "    </tr>\n",
       "    <tr>\n",
       "      <th>10</th>\n",
       "      <td>22.161310</td>\n",
       "      <td>1.995499</td>\n",
       "      <td>16.825877</td>\n",
       "      <td>27.496744</td>\n",
       "      <td>-3.987068</td>\n",
       "      <td>48.309689</td>\n",
       "    </tr>\n",
       "    <tr>\n",
       "      <th>46</th>\n",
       "      <td>21.915490</td>\n",
       "      <td>2.125429</td>\n",
       "      <td>16.232658</td>\n",
       "      <td>27.598322</td>\n",
       "      <td>-4.305979</td>\n",
       "      <td>48.136959</td>\n",
       "    </tr>\n",
       "    <tr>\n",
       "      <th>22</th>\n",
       "      <td>21.731133</td>\n",
       "      <td>2.281014</td>\n",
       "      <td>15.632308</td>\n",
       "      <td>27.829958</td>\n",
       "      <td>-4.583625</td>\n",
       "      <td>48.045892</td>\n",
       "    </tr>\n",
       "    <tr>\n",
       "      <th>35</th>\n",
       "      <td>21.731133</td>\n",
       "      <td>2.281014</td>\n",
       "      <td>15.632308</td>\n",
       "      <td>27.829958</td>\n",
       "      <td>-4.583625</td>\n",
       "      <td>48.045892</td>\n",
       "    </tr>\n",
       "    <tr>\n",
       "      <th>0</th>\n",
       "      <td>21.731133</td>\n",
       "      <td>2.281014</td>\n",
       "      <td>15.632308</td>\n",
       "      <td>27.829958</td>\n",
       "      <td>-4.583625</td>\n",
       "      <td>48.045892</td>\n",
       "    </tr>\n",
       "    <tr>\n",
       "      <th>12</th>\n",
       "      <td>21.608240</td>\n",
       "      <td>2.461311</td>\n",
       "      <td>15.027351</td>\n",
       "      <td>28.189129</td>\n",
       "      <td>-4.822404</td>\n",
       "      <td>48.038884</td>\n",
       "    </tr>\n",
       "    <tr>\n",
       "      <th>24</th>\n",
       "      <td>21.608240</td>\n",
       "      <td>2.461311</td>\n",
       "      <td>15.027351</td>\n",
       "      <td>28.189129</td>\n",
       "      <td>-4.822404</td>\n",
       "      <td>48.038884</td>\n",
       "    </tr>\n",
       "    <tr>\n",
       "      <th>48</th>\n",
       "      <td>21.546810</td>\n",
       "      <td>2.665113</td>\n",
       "      <td>14.421009</td>\n",
       "      <td>28.672611</td>\n",
       "      <td>-5.024752</td>\n",
       "      <td>48.118372</td>\n",
       "    </tr>\n",
       "    <tr>\n",
       "      <th>11</th>\n",
       "      <td>21.546810</td>\n",
       "      <td>2.665113</td>\n",
       "      <td>14.421009</td>\n",
       "      <td>28.672611</td>\n",
       "      <td>-5.024752</td>\n",
       "      <td>48.118372</td>\n",
       "    </tr>\n",
       "    <tr>\n",
       "      <th>23</th>\n",
       "      <td>21.608341</td>\n",
       "      <td>3.138134</td>\n",
       "      <td>13.217807</td>\n",
       "      <td>29.998875</td>\n",
       "      <td>-5.329957</td>\n",
       "      <td>48.546640</td>\n",
       "    </tr>\n",
       "    <tr>\n",
       "      <th>47</th>\n",
       "      <td>21.915726</td>\n",
       "      <td>3.690631</td>\n",
       "      <td>12.047962</td>\n",
       "      <td>31.783491</td>\n",
       "      <td>-5.518625</td>\n",
       "      <td>49.350078</td>\n",
       "    </tr>\n",
       "  </tbody>\n",
       "</table>\n",
       "</div>"
      ],
      "text/plain": [
       "          mean   mean_se  mean_ci_lower  mean_ci_upper  obs_ci_lower  \\\n",
       "53  103.045721  4.904832      89.931508     116.159935     74.283707   \n",
       "4    96.837973  4.230563      85.526574     108.149372     68.851930   \n",
       "42   79.689852  2.639513      72.632498      86.747207     53.136564   \n",
       "54   79.689852  2.639513      72.632498      86.747207     53.136564   \n",
       "41   74.465520  2.277803      68.375282      80.555758     48.152751   \n",
       "29   74.465520  2.277803      68.375282      80.555758     48.152751   \n",
       "17   71.945550  2.133371      66.241484      77.649615     45.719471   \n",
       "52   71.945550  2.133371      66.241484      77.649615     45.719471   \n",
       "40   69.487042  2.014142      64.101763      74.872322     43.328447   \n",
       "30   67.089999  1.920153      61.956020      72.223977     40.981981   \n",
       "6    64.754419  1.850688      59.806171      69.702666     38.682288   \n",
       "28   64.754419  1.850688      59.806171      69.702666     38.682288   \n",
       "43   62.480302  1.804180      57.656405      67.304199     36.431486   \n",
       "31   62.480302  1.804180      57.656405      67.304199     36.431486   \n",
       "16   58.116459  1.769885      53.384258      62.848661     32.084468   \n",
       "5    58.116459  1.769885      53.384258      62.848661     32.084468   \n",
       "18   58.116459  1.769885      53.384258      62.848661     32.084468   \n",
       "19   56.026733  1.775717      51.278938      60.774529     29.991903   \n",
       "3    53.998471  1.792302      49.206332      58.790610     27.955517   \n",
       "39   50.126336  1.844934      45.193473      55.059199     24.057121   \n",
       "7    48.282464  1.875460      43.267983      53.296946     22.197682   \n",
       "27   46.500056  1.905791      41.404480      51.595632     20.399563   \n",
       "51   44.779111  1.934168      39.607660      49.950562     18.663699   \n",
       "15   43.119630  1.959192      37.881272      48.357987     16.990886   \n",
       "32   39.985057  1.995087      34.650727      45.319388     13.836904   \n",
       "38   35.744176  2.004699      30.384145      41.104206      9.590767   \n",
       "8    35.744176  2.004699      30.384145      41.104206      9.590767   \n",
       "50   35.744176  2.004699      30.384145      41.104206      9.590767   \n",
       "44   34.453475  1.995219      29.118791      39.788159      8.305250   \n",
       "26   33.224239  1.979593      27.931333      38.517144      7.084504   \n",
       "20   33.224239  1.979593      27.931333      38.517144      7.084504   \n",
       "2    32.056465  1.958240      26.820652      37.292278      5.928232   \n",
       "9    28.921927  1.867568      23.928548      33.915305      2.841193   \n",
       "33   28.921927  1.867568      23.928548      33.915305      2.841193   \n",
       "14   28.000008  1.832501      23.100388      32.899628      1.937062   \n",
       "45   25.603032  1.740064      20.950565      30.255498     -0.414584   \n",
       "49   24.926967  1.722859      20.320500      29.533433     -1.082462   \n",
       "37   24.312365  1.718093      19.718641      28.906089     -1.694810   \n",
       "25   24.312365  1.718093      19.718641      28.906089     -1.694810   \n",
       "13   24.312365  1.718093      19.718641      28.906089     -1.694810   \n",
       "1    23.759227  1.729420      19.135220      28.383234     -2.253314   \n",
       "21   22.837342  1.813673      17.988064      27.686619     -3.216187   \n",
       "34   22.468594  1.891675      17.410759      27.526429     -3.624557   \n",
       "36   22.161310  1.995499      16.825877      27.496744     -3.987068   \n",
       "10   22.161310  1.995499      16.825877      27.496744     -3.987068   \n",
       "46   21.915490  2.125429      16.232658      27.598322     -4.305979   \n",
       "22   21.731133  2.281014      15.632308      27.829958     -4.583625   \n",
       "35   21.731133  2.281014      15.632308      27.829958     -4.583625   \n",
       "0    21.731133  2.281014      15.632308      27.829958     -4.583625   \n",
       "12   21.608240  2.461311      15.027351      28.189129     -4.822404   \n",
       "24   21.608240  2.461311      15.027351      28.189129     -4.822404   \n",
       "48   21.546810  2.665113      14.421009      28.672611     -5.024752   \n",
       "11   21.546810  2.665113      14.421009      28.672611     -5.024752   \n",
       "23   21.608341  3.138134      13.217807      29.998875     -5.329957   \n",
       "47   21.915726  3.690631      12.047962      31.783491     -5.518625   \n",
       "\n",
       "    obs_ci_upper  \n",
       "53    131.807735  \n",
       "4     124.824016  \n",
       "42    106.243140  \n",
       "54    106.243140  \n",
       "41    100.778290  \n",
       "29    100.778290  \n",
       "17     98.171629  \n",
       "52     98.171629  \n",
       "40     95.645637  \n",
       "30     93.198016  \n",
       "6      90.826549  \n",
       "28     90.826549  \n",
       "43     88.529118  \n",
       "31     88.529118  \n",
       "16     84.148451  \n",
       "5      84.148451  \n",
       "18     84.148451  \n",
       "19     82.061564  \n",
       "3      80.041425  \n",
       "39     76.195552  \n",
       "7      74.367247  \n",
       "27     72.600549  \n",
       "51     70.894523  \n",
       "15     69.248373  \n",
       "32     66.133211  \n",
       "38     61.897584  \n",
       "8      61.897584  \n",
       "50     61.897584  \n",
       "44     60.601701  \n",
       "26     59.363973  \n",
       "20     59.363973  \n",
       "2      58.184699  \n",
       "9      55.002661  \n",
       "33     55.002661  \n",
       "14     54.062953  \n",
       "45     51.620647  \n",
       "49     50.936395  \n",
       "37     50.319540  \n",
       "25     50.319540  \n",
       "13     50.319540  \n",
       "1      49.771768  \n",
       "21     48.890870  \n",
       "34     48.561746  \n",
       "36     48.309689  \n",
       "10     48.309689  \n",
       "46     48.136959  \n",
       "22     48.045892  \n",
       "35     48.045892  \n",
       "0      48.045892  \n",
       "12     48.038884  \n",
       "24     48.038884  \n",
       "48     48.118372  \n",
       "11     48.118372  \n",
       "23     48.546640  \n",
       "47     49.350078  "
      ]
     },
     "execution_count": 146,
     "metadata": {},
     "output_type": "execute_result"
    }
   ],
   "source": [
    "predictions = model.get_prediction(X)\n",
    "predictions.summary_frame(alpha=0.01) # alpha=0.05 -> 95% confidence interval"
   ]
  },
  {
   "cell_type": "code",
   "execution_count": 150,
   "metadata": {},
   "outputs": [
    {
     "data": {
      "text/plain": [
       "<matplotlib.legend.Legend at 0x1c1d0c8eb8>"
      ]
     },
     "execution_count": 150,
     "metadata": {},
     "output_type": "execute_result"
    },
    {
     "data": {
      "image/png": "[encoded data removed]",
      "text/plain": [
       "<Figure size 432x288 with 1 Axes>"
      ]
     },
     "metadata": {
      "needs_background": "light"
     },
     "output_type": "display_data"
    }
   ],
   "source": [
    "# plot confidence intervals \n",
    "CI = predictions.conf_int(alpha=.05)\n",
    "p = usage.plot.scatter('temperature', 'usage', color='red', label='data')\n",
    "p.plot(usage['temperature'], CI[:,0], color='blue', label=\"lower CI\")\n",
    "p.plot(usage['temperature'], CI[:,1], color='green', label='upper CI')\n",
    "p.legend()"
   ]
  },
  {
   "cell_type": "code",
   "execution_count": 151,
   "metadata": {},
   "outputs": [],
   "source": [
    "def prediction_interval(predictions, alpha=.05):\n",
    "    emean = predictions.predicted_mean\n",
    "    sigma = np.sqrt(predictions.var_resid)\n",
    "    n = len(emean)\n",
    "    PI = np.zeros((n,2))\n",
    "    PI[:,0] = emean + norm.ppf(alpha/2)*sigma\n",
    "    PI[:,1] = emean + norm.ppf(1-alpha/2)*sigma\n",
    "    return PI"
   ]
  },
  {
   "cell_type": "code",
   "execution_count": 153,
   "metadata": {},
   "outputs": [
    {
     "data": {
      "text/plain": [
       "<matplotlib.legend.Legend at 0x1c1e2193c8>"
      ]
     },
     "execution_count": 153,
     "metadata": {},
     "output_type": "execute_result"
    },
    {
     "data": {
      "image/png": "[encoded data removed]",
      "text/plain": [
       "<Figure size 432x288 with 1 Axes>"
      ]
     },
     "metadata": {
      "needs_background": "light"
     },
     "output_type": "display_data"
    }
   ],
   "source": [
    "# plot prediction intervals \n",
    "PI = prediction_interval(predictions, alpha = .05)\n",
    "p = usage.plot.scatter('temperature', 'usage', color='red', label='data')\n",
    "p.plot(usage['temperature'], PI[:,0], color='blue', label=\"lower PI\")\n",
    "p.plot(usage['temperature'], PI[:,1], color='green', label='upper PI')\n",
    "p.legend()"
   ]
  },
  {
   "cell_type": "markdown",
   "metadata": {},
   "source": [
    "# Log transformations"
   ]
  },
  {
   "cell_type": "code",
   "execution_count": 154,
   "metadata": {},
   "outputs": [
    {
     "data": {
      "text/plain": [
       "<matplotlib.collections.PathCollection at 0x1c1eaf5f98>"
      ]
     },
     "execution_count": 154,
     "metadata": {},
     "output_type": "execute_result"
    },
    {
     "data": {
      "image/png": "[encoded data removed]",
      "text/plain": [
       "<Figure size 432x288 with 1 Axes>"
      ]
     },
     "metadata": {
      "needs_background": "light"
     },
     "output_type": "display_data"
    }
   ],
   "source": [
    "np.random.seed(0)\n",
    "n = 60\n",
    "x = 4*np.random.rand(n)\n",
    "y = np.exp(x + .5*np.random.randn(n))\n",
    "plt.scatter(x,y)"
   ]
  },
  {
   "cell_type": "code",
   "execution_count": 155,
   "metadata": {},
   "outputs": [],
   "source": [
    "idx = np.argsort(x)\n",
    "x = x[idx]\n",
    "y = y[idx]"
   ]
  },
  {
   "cell_type": "code",
   "execution_count": 156,
   "metadata": {},
   "outputs": [
    {
     "data": {
      "text/plain": [
       "[<matplotlib.lines.Line2D at 0x1c1ec25390>]"
      ]
     },
     "execution_count": 156,
     "metadata": {},
     "output_type": "execute_result"
    },
    {
     "data": {
      "image/png": "[encoded data removed]",
      "text/plain": [
       "<Figure size 432x288 with 1 Axes>"
      ]
     },
     "metadata": {
      "needs_background": "light"
     },
     "output_type": "display_data"
    }
   ],
   "source": [
    "# use linear model - bad fit!\n",
    "model = sm.OLS(y,x).fit()\n",
    "predictions = model.get_prediction(x)\n",
    "yhat = predictions.predicted_mean\n",
    "PI = prediction_interval(predictions)\n",
    "plt.scatter(x,y)\n",
    "plt.plot(x,yhat,color='red')\n",
    "plt.plot(x,PI[:,0],color='blue')\n",
    "plt.plot(x,PI[:,1],color='blue')"
   ]
  },
  {
   "cell_type": "code",
   "execution_count": 157,
   "metadata": {},
   "outputs": [
    {
     "data": {
      "text/plain": [
       "[<matplotlib.lines.Line2D at 0x1c1f417748>]"
      ]
     },
     "execution_count": 157,
     "metadata": {},
     "output_type": "execute_result"
    },
    {
     "data": {
      "image/png": "[encoded data removed]",
      "text/plain": [
       "<Figure size 432x288 with 1 Axes>"
      ]
     },
     "metadata": {
      "needs_background": "light"
     },
     "output_type": "display_data"
    }
   ],
   "source": [
    "# use linear model with log transform\n",
    "model = sm.OLS(np.log(y),x).fit()\n",
    "predictions = model.get_prediction(x)\n",
    "yhat = np.exp(predictions.predicted_mean)\n",
    "PI = np.exp(prediction_interval(predictions))\n",
    "plt.scatter(x,y)\n",
    "plt.plot(x,yhat,color='red')\n",
    "plt.plot(x,PI[:,0],color='blue')\n",
    "plt.plot(x,PI[:,1],color='blue')"
   ]
  },
  {
   "cell_type": "code",
   "execution_count": null,
   "metadata": {},
   "outputs": [],
   "source": []
  }
 ],
 "metadata": {
  "kernelspec": {
   "display_name": "Python 3",
   "language": "python",
   "name": "python3"
  },
  "language_info": {
   "codemirror_mode": {
    "name": "ipython",
    "version": 3
   },
   "file_extension": ".py",
   "mimetype": "text/x-python",
   "name": "python",
   "nbconvert_exporter": "python",
   "pygments_lexer": "ipython3",
   "version": "3.7.1"
  }
 },
 "nbformat": 4,
 "nbformat_minor": 2
}
