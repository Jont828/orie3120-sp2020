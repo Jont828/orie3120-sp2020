{
 "cells": [
  {
   "cell_type": "code",
   "execution_count": 1,
   "metadata": {},
   "outputs": [],
   "source": [
    "# math \n",
    "import numpy as np\n",
    "\n",
    "# normal cdf\n",
    "from scipy.stats import norm\n",
    "\n",
    "# dataframes\n",
    "import pandas as pd\n",
    "\n",
    "# plotting\n",
    "import matplotlib.pyplot as plt\n",
    "import seaborn\n",
    "\n",
    "# linear regression\n",
    "import statsmodels.api as sm\n",
    "from statsmodels.stats.outliers_influence import variance_inflation_factor\n",
    "\n",
    "# for choosing covariates to include in model\n",
    "from patsy import dmatrices "
   ]
  },
  {
   "cell_type": "code",
   "execution_count": 2,
   "metadata": {},
   "outputs": [
    {
     "data": {
      "text/html": [
       "<div>\n",
       "<style scoped>\n",
       "    .dataframe tbody tr th:only-of-type {\n",
       "        vertical-align: middle;\n",
       "    }\n",
       "\n",
       "    .dataframe tbody tr th {\n",
       "        vertical-align: top;\n",
       "    }\n",
       "\n",
       "    .dataframe thead th {\n",
       "        text-align: right;\n",
       "    }\n",
       "</style>\n",
       "<table border=\"1\" class=\"dataframe\">\n",
       "  <thead>\n",
       "    <tr style=\"text-align: right;\">\n",
       "      <th></th>\n",
       "      <th>month</th>\n",
       "      <th>year</th>\n",
       "      <th>usage</th>\n",
       "      <th>temperature</th>\n",
       "    </tr>\n",
       "  </thead>\n",
       "  <tbody>\n",
       "    <tr>\n",
       "      <th>0</th>\n",
       "      <td>8</td>\n",
       "      <td>1989</td>\n",
       "      <td>24.828</td>\n",
       "      <td>73</td>\n",
       "    </tr>\n",
       "    <tr>\n",
       "      <th>1</th>\n",
       "      <td>9</td>\n",
       "      <td>1989</td>\n",
       "      <td>24.688</td>\n",
       "      <td>67</td>\n",
       "    </tr>\n",
       "    <tr>\n",
       "      <th>2</th>\n",
       "      <td>10</td>\n",
       "      <td>1989</td>\n",
       "      <td>19.310</td>\n",
       "      <td>57</td>\n",
       "    </tr>\n",
       "    <tr>\n",
       "      <th>3</th>\n",
       "      <td>11</td>\n",
       "      <td>1989</td>\n",
       "      <td>59.706</td>\n",
       "      <td>43</td>\n",
       "    </tr>\n",
       "    <tr>\n",
       "      <th>4</th>\n",
       "      <td>12</td>\n",
       "      <td>1989</td>\n",
       "      <td>99.667</td>\n",
       "      <td>26</td>\n",
       "    </tr>\n",
       "  </tbody>\n",
       "</table>\n",
       "</div>"
      ],
      "text/plain": [
       "   month  year   usage  temperature\n",
       "0      8  1989  24.828           73\n",
       "1      9  1989  24.688           67\n",
       "2     10  1989  19.310           57\n",
       "3     11  1989  59.706           43\n",
       "4     12  1989  99.667           26"
      ]
     },
     "execution_count": 2,
     "metadata": {},
     "output_type": "execute_result"
    }
   ],
   "source": [
    "usage = pd.read_csv('elec_usage.txt')\n",
    "usage.head()"
   ]
  },
  {
   "cell_type": "code",
   "execution_count": 3,
   "metadata": {},
   "outputs": [],
   "source": [
    "Y, X = dmatrices('usage ~ 1 + temperature + np.power(temperature, 2)', data=usage, return_type='dataframe')\n",
    "model = sm.OLS(Y, X).fit()"
   ]
  },
  {
   "cell_type": "code",
   "execution_count": 4,
   "metadata": {},
   "outputs": [],
   "source": [
    "def plot_fit(Y, Yhat):\n",
    "    plt.scatter(Y, Yhat,  color='black')\n",
    "    plt.xlabel(\"true outcome Y\")\n",
    "    plt.ylabel(\"predicted outcome Yhat\")\n",
    "\n",
    "    plt.show()\n",
    "    \n",
    "def assess_model_quality(data, formula):\n",
    "    Y, X = dmatrices(formula, data=data, return_type='dataframe')\n",
    "    model = sm.OLS(Y, X).fit()\n",
    "    Yhat = model.predict(X)\n",
    "    plot_fit(Y, Yhat)\n",
    "    return model "
   ]
  },
  {
   "cell_type": "code",
   "execution_count": 5,
   "metadata": {},
   "outputs": [
    {
     "data": {
      "image/png": "[encoded data removed]",
      "text/plain": [
       "<Figure size 432x288 with 1 Axes>"
      ]
     },
     "metadata": {
      "needs_background": "light"
     },
     "output_type": "display_data"
    },
    {
     "data": {
      "text/html": [
       "<table class=\"simpletable\">\n",
       "<caption>OLS Regression Results</caption>\n",
       "<tr>\n",
       "  <th>Dep. Variable:</th>      <td>np.log(usage)</td>  <th>  R-squared:         </th> <td>   0.811</td>\n",
       "</tr>\n",
       "<tr>\n",
       "  <th>Model:</th>                   <td>OLS</td>       <th>  Adj. R-squared:    </th> <td>   0.808</td>\n",
       "</tr>\n",
       "<tr>\n",
       "  <th>Method:</th>             <td>Least Squares</td>  <th>  F-statistic:       </th> <td>   227.8</td>\n",
       "</tr>\n",
       "<tr>\n",
       "  <th>Date:</th>             <td>Tue, 21 Apr 2020</td> <th>  Prob (F-statistic):</th> <td>7.82e-21</td>\n",
       "</tr>\n",
       "<tr>\n",
       "  <th>Time:</th>                 <td>09:20:27</td>     <th>  Log-Likelihood:    </th> <td>  1.0037</td>\n",
       "</tr>\n",
       "<tr>\n",
       "  <th>No. Observations:</th>      <td>    55</td>      <th>  AIC:               </th> <td>   1.993</td>\n",
       "</tr>\n",
       "<tr>\n",
       "  <th>Df Residuals:</th>          <td>    53</td>      <th>  BIC:               </th> <td>   6.007</td>\n",
       "</tr>\n",
       "<tr>\n",
       "  <th>Df Model:</th>              <td>     1</td>      <th>                     </th>     <td> </td>   \n",
       "</tr>\n",
       "<tr>\n",
       "  <th>Covariance Type:</th>      <td>nonrobust</td>    <th>                     </th>     <td> </td>   \n",
       "</tr>\n",
       "</table>\n",
       "<table class=\"simpletable\">\n",
       "<tr>\n",
       "           <td></td>              <th>coef</th>     <th>std err</th>      <th>t</th>      <th>P>|t|</th>  <th>[0.025</th>    <th>0.975]</th>  \n",
       "</tr>\n",
       "<tr>\n",
       "  <th>Intercept</th>           <td>    9.9203</td> <td>    0.419</td> <td>   23.691</td> <td> 0.000</td> <td>    9.080</td> <td>   10.760</td>\n",
       "</tr>\n",
       "<tr>\n",
       "  <th>np.log(temperature)</th> <td>   -1.5989</td> <td>    0.106</td> <td>  -15.092</td> <td> 0.000</td> <td>   -1.811</td> <td>   -1.386</td>\n",
       "</tr>\n",
       "</table>\n",
       "<table class=\"simpletable\">\n",
       "<tr>\n",
       "  <th>Omnibus:</th>       <td> 4.773</td> <th>  Durbin-Watson:     </th> <td>   1.402</td>\n",
       "</tr>\n",
       "<tr>\n",
       "  <th>Prob(Omnibus):</th> <td> 0.092</td> <th>  Jarque-Bera (JB):  </th> <td>   3.709</td>\n",
       "</tr>\n",
       "<tr>\n",
       "  <th>Skew:</th>          <td>-0.551</td> <th>  Prob(JB):          </th> <td>   0.157</td>\n",
       "</tr>\n",
       "<tr>\n",
       "  <th>Kurtosis:</th>      <td> 3.636</td> <th>  Cond. No.          </th> <td>    53.9</td>\n",
       "</tr>\n",
       "</table><br/><br/>Warnings:<br/>[1] Standard Errors assume that the covariance matrix of the errors is correctly specified."
      ],
      "text/plain": [
       "<class 'statsmodels.iolib.summary.Summary'>\n",
       "\"\"\"\n",
       "                            OLS Regression Results                            \n",
       "==============================================================================\n",
       "Dep. Variable:          np.log(usage)   R-squared:                       0.811\n",
       "Model:                            OLS   Adj. R-squared:                  0.808\n",
       "Method:                 Least Squares   F-statistic:                     227.8\n",
       "Date:                Tue, 21 Apr 2020   Prob (F-statistic):           7.82e-21\n",
       "Time:                        09:20:27   Log-Likelihood:                 1.0037\n",
       "No. Observations:                  55   AIC:                             1.993\n",
       "Df Residuals:                      53   BIC:                             6.007\n",
       "Df Model:                           1                                         \n",
       "Covariance Type:            nonrobust                                         \n",
       "=======================================================================================\n",
       "                          coef    std err          t      P>|t|      [0.025      0.975]\n",
       "---------------------------------------------------------------------------------------\n",
       "Intercept               9.9203      0.419     23.691      0.000       9.080      10.760\n",
       "np.log(temperature)    -1.5989      0.106    -15.092      0.000      -1.811      -1.386\n",
       "==============================================================================\n",
       "Omnibus:                        4.773   Durbin-Watson:                   1.402\n",
       "Prob(Omnibus):                  0.092   Jarque-Bera (JB):                3.709\n",
       "Skew:                          -0.551   Prob(JB):                        0.157\n",
       "Kurtosis:                       3.636   Cond. No.                         53.9\n",
       "==============================================================================\n",
       "\n",
       "Warnings:\n",
       "[1] Standard Errors assume that the covariance matrix of the errors is correctly specified.\n",
       "\"\"\""
      ]
     },
     "execution_count": 5,
     "metadata": {},
     "output_type": "execute_result"
    }
   ],
   "source": [
    "# try a linear model to predict log usage from log temperature\n",
    "linear = assess_model_quality(usage, 'np.log(usage) ~ np.log(temperature)')\n",
    "linear.summary()"
   ]
  },
  {
   "cell_type": "code",
   "execution_count": 6,
   "metadata": {},
   "outputs": [
    {
     "data": {
      "text/plain": [
       "Text(0, 0.5, 'residual')"
      ]
     },
     "execution_count": 6,
     "metadata": {},
     "output_type": "execute_result"
    },
    {
     "data": {
      "image/png": "[encoded data removed]",
      "text/plain": [
       "<Figure size 432x288 with 1 Axes>"
      ]
     },
     "metadata": {
      "needs_background": "light"
     },
     "output_type": "display_data"
    }
   ],
   "source": [
    "# is there any signal left in the residuals?\n",
    "resid = model.resid\n",
    "plt.scatter(np.log(usage['temperature']), model.resid)\n",
    "plt.xlabel(\"log(temperature)\")\n",
    "plt.ylabel(\"residual\")"
   ]
  },
  {
   "cell_type": "code",
   "execution_count": 7,
   "metadata": {},
   "outputs": [
    {
     "data": {
      "image/png": "[encoded data removed]",
      "text/plain": [
       "<Figure size 432x288 with 1 Axes>"
      ]
     },
     "metadata": {
      "needs_background": "light"
     },
     "output_type": "display_data"
    },
    {
     "data": {
      "text/html": [
       "<table class=\"simpletable\">\n",
       "<caption>OLS Regression Results</caption>\n",
       "<tr>\n",
       "  <th>Dep. Variable:</th>      <td>np.log(usage)</td>  <th>  R-squared:         </th> <td>   0.814</td>\n",
       "</tr>\n",
       "<tr>\n",
       "  <th>Model:</th>                   <td>OLS</td>       <th>  Adj. R-squared:    </th> <td>   0.807</td>\n",
       "</tr>\n",
       "<tr>\n",
       "  <th>Method:</th>             <td>Least Squares</td>  <th>  F-statistic:       </th> <td>   113.6</td>\n",
       "</tr>\n",
       "<tr>\n",
       "  <th>Date:</th>             <td>Tue, 21 Apr 2020</td> <th>  Prob (F-statistic):</th> <td>1.06e-19</td>\n",
       "</tr>\n",
       "<tr>\n",
       "  <th>Time:</th>                 <td>09:20:28</td>     <th>  Log-Likelihood:    </th> <td>  1.3644</td>\n",
       "</tr>\n",
       "<tr>\n",
       "  <th>No. Observations:</th>      <td>    55</td>      <th>  AIC:               </th> <td>   3.271</td>\n",
       "</tr>\n",
       "<tr>\n",
       "  <th>Df Residuals:</th>          <td>    52</td>      <th>  BIC:               </th> <td>   9.293</td>\n",
       "</tr>\n",
       "<tr>\n",
       "  <th>Df Model:</th>              <td>     2</td>      <th>                     </th>     <td> </td>   \n",
       "</tr>\n",
       "<tr>\n",
       "  <th>Covariance Type:</th>      <td>nonrobust</td>    <th>                     </th>     <td> </td>   \n",
       "</tr>\n",
       "</table>\n",
       "<table class=\"simpletable\">\n",
       "<tr>\n",
       "                  <td></td>                    <th>coef</th>     <th>std err</th>      <th>t</th>      <th>P>|t|</th>  <th>[0.025</th>    <th>0.975]</th>  \n",
       "</tr>\n",
       "<tr>\n",
       "  <th>Intercept</th>                        <td>    5.6258</td> <td>    5.200</td> <td>    1.082</td> <td> 0.284</td> <td>   -4.809</td> <td>   16.061</td>\n",
       "</tr>\n",
       "<tr>\n",
       "  <th>np.log(temperature)</th>              <td>    0.6349</td> <td>    2.698</td> <td>    0.235</td> <td> 0.815</td> <td>   -4.779</td> <td>    6.049</td>\n",
       "</tr>\n",
       "<tr>\n",
       "  <th>np.power(np.log(temperature), 2)</th> <td>   -0.2885</td> <td>    0.348</td> <td>   -0.829</td> <td> 0.411</td> <td>   -0.987</td> <td>    0.410</td>\n",
       "</tr>\n",
       "</table>\n",
       "<table class=\"simpletable\">\n",
       "<tr>\n",
       "  <th>Omnibus:</th>       <td> 5.527</td> <th>  Durbin-Watson:     </th> <td>   1.396</td>\n",
       "</tr>\n",
       "<tr>\n",
       "  <th>Prob(Omnibus):</th> <td> 0.063</td> <th>  Jarque-Bera (JB):  </th> <td>   4.464</td>\n",
       "</tr>\n",
       "<tr>\n",
       "  <th>Skew:</th>          <td>-0.618</td> <th>  Prob(JB):          </th> <td>   0.107</td>\n",
       "</tr>\n",
       "<tr>\n",
       "  <th>Kurtosis:</th>      <td> 3.649</td> <th>  Cond. No.          </th> <td>2.93e+03</td>\n",
       "</tr>\n",
       "</table><br/><br/>Warnings:<br/>[1] Standard Errors assume that the covariance matrix of the errors is correctly specified.<br/>[2] The condition number is large, 2.93e+03. This might indicate that there are<br/>strong multicollinearity or other numerical problems."
      ],
      "text/plain": [
       "<class 'statsmodels.iolib.summary.Summary'>\n",
       "\"\"\"\n",
       "                            OLS Regression Results                            \n",
       "==============================================================================\n",
       "Dep. Variable:          np.log(usage)   R-squared:                       0.814\n",
       "Model:                            OLS   Adj. R-squared:                  0.807\n",
       "Method:                 Least Squares   F-statistic:                     113.6\n",
       "Date:                Tue, 21 Apr 2020   Prob (F-statistic):           1.06e-19\n",
       "Time:                        09:20:28   Log-Likelihood:                 1.3644\n",
       "No. Observations:                  55   AIC:                             3.271\n",
       "Df Residuals:                      52   BIC:                             9.293\n",
       "Df Model:                           2                                         \n",
       "Covariance Type:            nonrobust                                         \n",
       "====================================================================================================\n",
       "                                       coef    std err          t      P>|t|      [0.025      0.975]\n",
       "----------------------------------------------------------------------------------------------------\n",
       "Intercept                            5.6258      5.200      1.082      0.284      -4.809      16.061\n",
       "np.log(temperature)                  0.6349      2.698      0.235      0.815      -4.779       6.049\n",
       "np.power(np.log(temperature), 2)    -0.2885      0.348     -0.829      0.411      -0.987       0.410\n",
       "==============================================================================\n",
       "Omnibus:                        5.527   Durbin-Watson:                   1.396\n",
       "Prob(Omnibus):                  0.063   Jarque-Bera (JB):                4.464\n",
       "Skew:                          -0.618   Prob(JB):                        0.107\n",
       "Kurtosis:                       3.649   Cond. No.                     2.93e+03\n",
       "==============================================================================\n",
       "\n",
       "Warnings:\n",
       "[1] Standard Errors assume that the covariance matrix of the errors is correctly specified.\n",
       "[2] The condition number is large, 2.93e+03. This might indicate that there are\n",
       "strong multicollinearity or other numerical problems.\n",
       "\"\"\""
      ]
     },
     "execution_count": 7,
     "metadata": {},
     "output_type": "execute_result"
    }
   ],
   "source": [
    "# let's try adding a quadratic term \n",
    "# notice we get a warning that design matrix is ill-conditioned\n",
    "quad = assess_model_quality(usage, 'np.log(usage) ~ np.log(temperature) + np.power(np.log(temperature), 2)')\n",
    "quad.summary()"
   ]
  },
  {
   "cell_type": "code",
   "execution_count": 8,
   "metadata": {},
   "outputs": [
    {
     "data": {
      "text/plain": [
       "Intercept                           25237.650598\n",
       "np.log(temperature)                   644.758755\n",
       "np.power(np.log(temperature), 2)      644.758755\n",
       "dtype: float64"
      ]
     },
     "execution_count": 8,
     "metadata": {},
     "output_type": "execute_result"
    }
   ],
   "source": [
    "# VIF for quadratic model\n",
    "\n",
    "Y, X = dmatrices('np.log(usage) ~ np.log(temperature) + np.power(np.log(temperature), 2)', data=usage, return_type='dataframe')\n",
    "\n",
    "pd.Series([variance_inflation_factor(X.values, i) \n",
    "               for i in range(X.shape[1])], \n",
    "              index=X.columns)"
   ]
  },
  {
   "cell_type": "code",
   "execution_count": 9,
   "metadata": {},
   "outputs": [
    {
     "data": {
      "text/plain": [
       "<matplotlib.axes._subplots.AxesSubplot at 0x1c1bbf7a20>"
      ]
     },
     "execution_count": 9,
     "metadata": {},
     "output_type": "execute_result"
    },
    {
     "data": {
      "image/png": "[encoded data removed]",
      "text/plain": [
       "<Figure size 432x288 with 1 Axes>"
      ]
     },
     "metadata": {
      "needs_background": "light"
     },
     "output_type": "display_data"
    }
   ],
   "source": [
    "# the problem: collinearity\n",
    "X.plot('np.log(temperature)', 'np.power(np.log(temperature), 2)')"
   ]
  },
  {
   "cell_type": "markdown",
   "metadata": {},
   "source": [
    "## specific fix: use centered covariates"
   ]
  },
  {
   "cell_type": "code",
   "execution_count": 10,
   "metadata": {},
   "outputs": [],
   "source": [
    "# instate the quadratic model \n",
    "Y, X = dmatrices('np.log(usage) ~ np.log(temperature) + np.power(np.log(temperature), 2)', data=usage)"
   ]
  },
  {
   "cell_type": "code",
   "execution_count": 11,
   "metadata": {},
   "outputs": [],
   "source": [
    "# center the data \n",
    "X[:,1] = X[:,1] - np.mean(X[:,1])\n",
    "X[:,2] = np.power(X[:,1],2)"
   ]
  },
  {
   "cell_type": "code",
   "execution_count": 12,
   "metadata": {},
   "outputs": [
    {
     "data": {
      "text/plain": [
       "0    2.019335\n",
       "1    1.208873\n",
       "2    1.208873\n",
       "dtype: float64"
      ]
     },
     "execution_count": 12,
     "metadata": {},
     "output_type": "execute_result"
    }
   ],
   "source": [
    "# check VIFs after centering data: not too bad!\n",
    "pd.Series([variance_inflation_factor(X, i) \n",
    "               for i in range(X.shape[1])])"
   ]
  },
  {
   "cell_type": "code",
   "execution_count": 13,
   "metadata": {},
   "outputs": [
    {
     "data": {
      "text/plain": [
       "Text(0, 0.5, 'np.power(np.log(temperature), 2)')"
      ]
     },
     "execution_count": 13,
     "metadata": {},
     "output_type": "execute_result"
    },
    {
     "data": {
      "image/png": "[encoded data removed]",
      "text/plain": [
       "<Figure size 432x288 with 1 Axes>"
      ]
     },
     "metadata": {
      "needs_background": "light"
     },
     "output_type": "display_data"
    }
   ],
   "source": [
    "# no longer collinear\n",
    "plt.scatter(X[:,1], X[:,2])\n",
    "plt.xlabel(\"np.log(temperature)\")\n",
    "plt.ylabel(\"np.power(np.log(temperature), 2)\")"
   ]
  },
  {
   "cell_type": "markdown",
   "metadata": {},
   "source": [
    "## general fix: orthogonal polynomials"
   ]
  },
  {
   "cell_type": "code",
   "execution_count": 14,
   "metadata": {},
   "outputs": [],
   "source": [
    "def ortho_poly_fit(x, degree = 1):\n",
    "    n = degree + 1\n",
    "    x = np.asarray(x).flatten()\n",
    "    if(degree >= len(np.unique(x))):\n",
    "            stop(\"'degree' must be less than number of unique points\")\n",
    "    xbar = np.mean(x)\n",
    "    x = x - xbar\n",
    "    X = np.fliplr(np.vander(x, n))\n",
    "    q,r = np.linalg.qr(X)\n",
    "\n",
    "    z = np.diag(np.diag(r))\n",
    "    raw = np.dot(q, z)\n",
    "\n",
    "    norm2 = np.sum(raw**2, axis=0)\n",
    "    alpha = (np.sum((raw**2)*np.reshape(x,(-1,1)), axis=0)/norm2 + xbar)[:degree]\n",
    "    Z = raw / np.sqrt(norm2)\n",
    "    return Z, norm2, alpha\n",
    "\n",
    "\"\"\"Use this function to transform test dataset to orthogonalized coordinates\"\"\"\n",
    "def ortho_poly_predict(x, alpha, norm2, degree = 1):\n",
    "    x = np.asarray(x).flatten()\n",
    "    n = degree + 1\n",
    "    Z = np.empty((len(x), n))\n",
    "    Z[:,0] = 1\n",
    "    if degree > 0:\n",
    "        Z[:, 1] = x - alpha[0]\n",
    "    if degree > 1:\n",
    "      for i in np.arange(1,degree):\n",
    "          Z[:, i+1] = (x - alpha[i]) * Z[:, i] - (norm2[i] / norm2[i-1]) * Z[:, i-1]\n",
    "    Z /= np.sqrt(norm2)\n",
    "    return Z"
   ]
  },
  {
   "cell_type": "code",
   "execution_count": 15,
   "metadata": {},
   "outputs": [],
   "source": [
    "# create orthogonal polynomial features\n",
    "Z, norm2, alpha = ortho_poly_fit(np.log(usage['temperature']), degree=2)\n",
    "Y = np.log(usage['usage'])"
   ]
  },
  {
   "cell_type": "code",
   "execution_count": 16,
   "metadata": {},
   "outputs": [
    {
     "data": {
      "text/plain": [
       "0    1.0\n",
       "1    1.0\n",
       "2    1.0\n",
       "dtype: float64"
      ]
     },
     "execution_count": 16,
     "metadata": {},
     "output_type": "execute_result"
    }
   ],
   "source": [
    "# check that VIFs are 1\n",
    "pd.Series([variance_inflation_factor(Z, i) \n",
    "               for i in range(Z.shape[1])])"
   ]
  },
  {
   "cell_type": "code",
   "execution_count": 17,
   "metadata": {},
   "outputs": [
    {
     "data": {
      "image/png": "[encoded data removed]",
      "text/plain": [
       "<Figure size 432x288 with 1 Axes>"
      ]
     },
     "metadata": {
      "needs_background": "light"
     },
     "output_type": "display_data"
    },
    {
     "data": {
      "text/html": [
       "<table class=\"simpletable\">\n",
       "<caption>OLS Regression Results</caption>\n",
       "<tr>\n",
       "  <th>Dep. Variable:</th>          <td>usage</td>      <th>  R-squared:         </th> <td>   0.814</td>\n",
       "</tr>\n",
       "<tr>\n",
       "  <th>Model:</th>                   <td>OLS</td>       <th>  Adj. R-squared:    </th> <td>   0.807</td>\n",
       "</tr>\n",
       "<tr>\n",
       "  <th>Method:</th>             <td>Least Squares</td>  <th>  F-statistic:       </th> <td>   113.6</td>\n",
       "</tr>\n",
       "<tr>\n",
       "  <th>Date:</th>             <td>Tue, 21 Apr 2020</td> <th>  Prob (F-statistic):</th> <td>1.06e-19</td>\n",
       "</tr>\n",
       "<tr>\n",
       "  <th>Time:</th>                 <td>09:20:28</td>     <th>  Log-Likelihood:    </th> <td>  1.3644</td>\n",
       "</tr>\n",
       "<tr>\n",
       "  <th>No. Observations:</th>      <td>    55</td>      <th>  AIC:               </th> <td>   3.271</td>\n",
       "</tr>\n",
       "<tr>\n",
       "  <th>Df Residuals:</th>          <td>    52</td>      <th>  BIC:               </th> <td>   9.293</td>\n",
       "</tr>\n",
       "<tr>\n",
       "  <th>Df Model:</th>              <td>     2</td>      <th>                     </th>     <td> </td>   \n",
       "</tr>\n",
       "<tr>\n",
       "  <th>Covariance Type:</th>      <td>nonrobust</td>    <th>                     </th>     <td> </td>   \n",
       "</tr>\n",
       "</table>\n",
       "<table class=\"simpletable\">\n",
       "<tr>\n",
       "   <td></td>     <th>coef</th>     <th>std err</th>      <th>t</th>      <th>P>|t|</th>  <th>[0.025</th>    <th>0.975]</th>  \n",
       "</tr>\n",
       "<tr>\n",
       "  <th>x1</th> <td>   26.8452</td> <td>    0.243</td> <td>  110.585</td> <td> 0.000</td> <td>   26.358</td> <td>   27.332</td>\n",
       "</tr>\n",
       "<tr>\n",
       "  <th>x2</th> <td>   -3.6528</td> <td>    0.243</td> <td>  -15.047</td> <td> 0.000</td> <td>   -4.140</td> <td>   -3.166</td>\n",
       "</tr>\n",
       "<tr>\n",
       "  <th>x3</th> <td>   -0.2011</td> <td>    0.243</td> <td>   -0.829</td> <td> 0.411</td> <td>   -0.688</td> <td>    0.286</td>\n",
       "</tr>\n",
       "</table>\n",
       "<table class=\"simpletable\">\n",
       "<tr>\n",
       "  <th>Omnibus:</th>       <td> 5.527</td> <th>  Durbin-Watson:     </th> <td>   1.396</td>\n",
       "</tr>\n",
       "<tr>\n",
       "  <th>Prob(Omnibus):</th> <td> 0.063</td> <th>  Jarque-Bera (JB):  </th> <td>   4.464</td>\n",
       "</tr>\n",
       "<tr>\n",
       "  <th>Skew:</th>          <td>-0.618</td> <th>  Prob(JB):          </th> <td>   0.107</td>\n",
       "</tr>\n",
       "<tr>\n",
       "  <th>Kurtosis:</th>      <td> 3.649</td> <th>  Cond. No.          </th> <td>    1.00</td>\n",
       "</tr>\n",
       "</table><br/><br/>Warnings:<br/>[1] Standard Errors assume that the covariance matrix of the errors is correctly specified."
      ],
      "text/plain": [
       "<class 'statsmodels.iolib.summary.Summary'>\n",
       "\"\"\"\n",
       "                            OLS Regression Results                            \n",
       "==============================================================================\n",
       "Dep. Variable:                  usage   R-squared:                       0.814\n",
       "Model:                            OLS   Adj. R-squared:                  0.807\n",
       "Method:                 Least Squares   F-statistic:                     113.6\n",
       "Date:                Tue, 21 Apr 2020   Prob (F-statistic):           1.06e-19\n",
       "Time:                        09:20:28   Log-Likelihood:                 1.3644\n",
       "No. Observations:                  55   AIC:                             3.271\n",
       "Df Residuals:                      52   BIC:                             9.293\n",
       "Df Model:                           2                                         \n",
       "Covariance Type:            nonrobust                                         \n",
       "==============================================================================\n",
       "                 coef    std err          t      P>|t|      [0.025      0.975]\n",
       "------------------------------------------------------------------------------\n",
       "x1            26.8452      0.243    110.585      0.000      26.358      27.332\n",
       "x2            -3.6528      0.243    -15.047      0.000      -4.140      -3.166\n",
       "x3            -0.2011      0.243     -0.829      0.411      -0.688       0.286\n",
       "==============================================================================\n",
       "Omnibus:                        5.527   Durbin-Watson:                   1.396\n",
       "Prob(Omnibus):                  0.063   Jarque-Bera (JB):                4.464\n",
       "Skew:                          -0.618   Prob(JB):                        0.107\n",
       "Kurtosis:                       3.649   Cond. No.                         1.00\n",
       "==============================================================================\n",
       "\n",
       "Warnings:\n",
       "[1] Standard Errors assume that the covariance matrix of the errors is correctly specified.\n",
       "\"\"\""
      ]
     },
     "execution_count": 17,
     "metadata": {},
     "output_type": "execute_result"
    }
   ],
   "source": [
    "# assess model quality \n",
    "# note R^2 is the same as with original covariates, but std errors are equalized \n",
    "# p values for intercept and linear term are now highly statistically significant\n",
    "\n",
    "model = sm.OLS(Y, Z).fit()\n",
    "Yhat = model.predict(Z)\n",
    "plot_fit(Y, Yhat)\n",
    "model.summary()"
   ]
  },
  {
   "cell_type": "code",
   "execution_count": 18,
   "metadata": {},
   "outputs": [
    {
     "data": {
      "text/plain": [
       "-2.7755575615628914e-17"
      ]
     },
     "execution_count": 18,
     "metadata": {},
     "output_type": "execute_result"
    }
   ],
   "source": [
    "# check orthogonality\n",
    "np.dot(Z[:,1], Z[:,2])"
   ]
  },
  {
   "cell_type": "code",
   "execution_count": 19,
   "metadata": {},
   "outputs": [
    {
     "data": {
      "text/plain": [
       "<matplotlib.legend.Legend at 0x1c1bebb438>"
      ]
     },
     "execution_count": 19,
     "metadata": {},
     "output_type": "execute_result"
    },
    {
     "data": {
      "image/png": "[encoded data removed]",
      "text/plain": [
       "<Figure size 432x288 with 1 Axes>"
      ]
     },
     "metadata": {
      "needs_background": "light"
     },
     "output_type": "display_data"
    }
   ],
   "source": [
    "logtemp = np.log(usage['temperature'])\n",
    "plt.scatter(logtemp, Z[:,1], label=\"1st degree poly\")\n",
    "plt.scatter(logtemp, Z[:,2], label=\"2nd degree poly\")\n",
    "plt.xlabel(\"log(temperature)\")\n",
    "plt.legend()"
   ]
  },
  {
   "cell_type": "markdown",
   "metadata": {},
   "source": [
    "# Predictions"
   ]
  },
  {
   "cell_type": "code",
   "execution_count": 20,
   "metadata": {},
   "outputs": [],
   "source": [
    "usage = usage.sort_values('temperature')\n",
    "Y, X = dmatrices('usage ~ 1 + temperature + np.power(temperature, 2)', data=usage, return_type='dataframe')\n",
    "model = sm.OLS(Y, X).fit()"
   ]
  },
  {
   "cell_type": "code",
   "execution_count": 21,
   "metadata": {},
   "outputs": [
    {
     "data": {
      "text/html": [
       "<div>\n",
       "<style scoped>\n",
       "    .dataframe tbody tr th:only-of-type {\n",
       "        vertical-align: middle;\n",
       "    }\n",
       "\n",
       "    .dataframe tbody tr th {\n",
       "        vertical-align: top;\n",
       "    }\n",
       "\n",
       "    .dataframe thead th {\n",
       "        text-align: right;\n",
       "    }\n",
       "</style>\n",
       "<table border=\"1\" class=\"dataframe\">\n",
       "  <thead>\n",
       "    <tr style=\"text-align: right;\">\n",
       "      <th></th>\n",
       "      <th>mean</th>\n",
       "      <th>mean_se</th>\n",
       "      <th>mean_ci_lower</th>\n",
       "      <th>mean_ci_upper</th>\n",
       "      <th>obs_ci_lower</th>\n",
       "      <th>obs_ci_upper</th>\n",
       "    </tr>\n",
       "  </thead>\n",
       "  <tbody>\n",
       "    <tr>\n",
       "      <th>53</th>\n",
       "      <td>103.045721</td>\n",
       "      <td>4.904832</td>\n",
       "      <td>93.203456</td>\n",
       "      <td>112.887986</td>\n",
       "      <td>81.459725</td>\n",
       "      <td>124.631717</td>\n",
       "    </tr>\n",
       "    <tr>\n",
       "      <th>4</th>\n",
       "      <td>96.837973</td>\n",
       "      <td>4.230563</td>\n",
       "      <td>88.348727</td>\n",
       "      <td>105.327219</td>\n",
       "      <td>75.834346</td>\n",
       "      <td>117.841600</td>\n",
       "    </tr>\n",
       "    <tr>\n",
       "      <th>42</th>\n",
       "      <td>79.689852</td>\n",
       "      <td>2.639513</td>\n",
       "      <td>74.393282</td>\n",
       "      <td>84.986423</td>\n",
       "      <td>59.761513</td>\n",
       "      <td>99.618192</td>\n",
       "    </tr>\n",
       "    <tr>\n",
       "      <th>54</th>\n",
       "      <td>79.689852</td>\n",
       "      <td>2.639513</td>\n",
       "      <td>74.393282</td>\n",
       "      <td>84.986423</td>\n",
       "      <td>59.761513</td>\n",
       "      <td>99.618192</td>\n",
       "    </tr>\n",
       "    <tr>\n",
       "      <th>41</th>\n",
       "      <td>74.465520</td>\n",
       "      <td>2.277803</td>\n",
       "      <td>69.894775</td>\n",
       "      <td>79.036266</td>\n",
       "      <td>54.717691</td>\n",
       "      <td>94.213350</td>\n",
       "    </tr>\n",
       "    <tr>\n",
       "      <th>29</th>\n",
       "      <td>74.465520</td>\n",
       "      <td>2.277803</td>\n",
       "      <td>69.894775</td>\n",
       "      <td>79.036266</td>\n",
       "      <td>54.717691</td>\n",
       "      <td>94.213350</td>\n",
       "    </tr>\n",
       "    <tr>\n",
       "      <th>17</th>\n",
       "      <td>71.945550</td>\n",
       "      <td>2.133371</td>\n",
       "      <td>67.664628</td>\n",
       "      <td>76.226472</td>\n",
       "      <td>52.262782</td>\n",
       "      <td>91.628317</td>\n",
       "    </tr>\n",
       "    <tr>\n",
       "      <th>52</th>\n",
       "      <td>71.945550</td>\n",
       "      <td>2.133371</td>\n",
       "      <td>67.664628</td>\n",
       "      <td>76.226472</td>\n",
       "      <td>52.262782</td>\n",
       "      <td>91.628317</td>\n",
       "    </tr>\n",
       "    <tr>\n",
       "      <th>40</th>\n",
       "      <td>69.487042</td>\n",
       "      <td>2.014142</td>\n",
       "      <td>65.445370</td>\n",
       "      <td>73.528715</td>\n",
       "      <td>49.854922</td>\n",
       "      <td>89.119163</td>\n",
       "    </tr>\n",
       "    <tr>\n",
       "      <th>30</th>\n",
       "      <td>67.089999</td>\n",
       "      <td>1.920153</td>\n",
       "      <td>63.236929</td>\n",
       "      <td>70.943068</td>\n",
       "      <td>47.495837</td>\n",
       "      <td>86.684161</td>\n",
       "    </tr>\n",
       "    <tr>\n",
       "      <th>6</th>\n",
       "      <td>64.754419</td>\n",
       "      <td>1.850688</td>\n",
       "      <td>61.040741</td>\n",
       "      <td>68.468096</td>\n",
       "      <td>45.187190</td>\n",
       "      <td>84.321648</td>\n",
       "    </tr>\n",
       "    <tr>\n",
       "      <th>28</th>\n",
       "      <td>64.754419</td>\n",
       "      <td>1.850688</td>\n",
       "      <td>61.040741</td>\n",
       "      <td>68.468096</td>\n",
       "      <td>45.187190</td>\n",
       "      <td>84.321648</td>\n",
       "    </tr>\n",
       "    <tr>\n",
       "      <th>43</th>\n",
       "      <td>62.480302</td>\n",
       "      <td>1.804180</td>\n",
       "      <td>58.859950</td>\n",
       "      <td>66.100654</td>\n",
       "      <td>42.930571</td>\n",
       "      <td>82.030033</td>\n",
       "    </tr>\n",
       "    <tr>\n",
       "      <th>31</th>\n",
       "      <td>62.480302</td>\n",
       "      <td>1.804180</td>\n",
       "      <td>58.859950</td>\n",
       "      <td>66.100654</td>\n",
       "      <td>42.930571</td>\n",
       "      <td>82.030033</td>\n",
       "    </tr>\n",
       "    <tr>\n",
       "      <th>16</th>\n",
       "      <td>58.116459</td>\n",
       "      <td>1.769885</td>\n",
       "      <td>54.564925</td>\n",
       "      <td>61.667994</td>\n",
       "      <td>38.579355</td>\n",
       "      <td>77.653564</td>\n",
       "    </tr>\n",
       "    <tr>\n",
       "      <th>5</th>\n",
       "      <td>58.116459</td>\n",
       "      <td>1.769885</td>\n",
       "      <td>54.564925</td>\n",
       "      <td>61.667994</td>\n",
       "      <td>38.579355</td>\n",
       "      <td>77.653564</td>\n",
       "    </tr>\n",
       "    <tr>\n",
       "      <th>18</th>\n",
       "      <td>58.116459</td>\n",
       "      <td>1.769885</td>\n",
       "      <td>54.564925</td>\n",
       "      <td>61.667994</td>\n",
       "      <td>38.579355</td>\n",
       "      <td>77.653564</td>\n",
       "    </tr>\n",
       "    <tr>\n",
       "      <th>19</th>\n",
       "      <td>56.026733</td>\n",
       "      <td>1.775717</td>\n",
       "      <td>52.463496</td>\n",
       "      <td>59.589971</td>\n",
       "      <td>36.487498</td>\n",
       "      <td>75.565968</td>\n",
       "    </tr>\n",
       "    <tr>\n",
       "      <th>3</th>\n",
       "      <td>53.998471</td>\n",
       "      <td>1.792302</td>\n",
       "      <td>50.401953</td>\n",
       "      <td>57.594989</td>\n",
       "      <td>34.453139</td>\n",
       "      <td>73.543802</td>\n",
       "    </tr>\n",
       "    <tr>\n",
       "      <th>39</th>\n",
       "      <td>50.126336</td>\n",
       "      <td>1.844934</td>\n",
       "      <td>46.424205</td>\n",
       "      <td>53.828468</td>\n",
       "      <td>30.561295</td>\n",
       "      <td>69.691377</td>\n",
       "    </tr>\n",
       "    <tr>\n",
       "      <th>7</th>\n",
       "      <td>48.282464</td>\n",
       "      <td>1.875460</td>\n",
       "      <td>44.519078</td>\n",
       "      <td>52.045851</td>\n",
       "      <td>28.705740</td>\n",
       "      <td>67.859188</td>\n",
       "    </tr>\n",
       "    <tr>\n",
       "      <th>27</th>\n",
       "      <td>46.500056</td>\n",
       "      <td>1.905791</td>\n",
       "      <td>42.675807</td>\n",
       "      <td>50.324304</td>\n",
       "      <td>26.911541</td>\n",
       "      <td>66.088571</td>\n",
       "    </tr>\n",
       "    <tr>\n",
       "      <th>51</th>\n",
       "      <td>44.779111</td>\n",
       "      <td>1.934168</td>\n",
       "      <td>40.897918</td>\n",
       "      <td>48.660304</td>\n",
       "      <td>25.179399</td>\n",
       "      <td>64.378823</td>\n",
       "    </tr>\n",
       "    <tr>\n",
       "      <th>15</th>\n",
       "      <td>43.119630</td>\n",
       "      <td>1.959192</td>\n",
       "      <td>39.188224</td>\n",
       "      <td>47.051036</td>\n",
       "      <td>23.509913</td>\n",
       "      <td>62.729347</td>\n",
       "    </tr>\n",
       "    <tr>\n",
       "      <th>32</th>\n",
       "      <td>39.985057</td>\n",
       "      <td>1.995087</td>\n",
       "      <td>35.981623</td>\n",
       "      <td>43.988492</td>\n",
       "      <td>20.360773</td>\n",
       "      <td>59.609342</td>\n",
       "    </tr>\n",
       "    <tr>\n",
       "      <th>38</th>\n",
       "      <td>35.744176</td>\n",
       "      <td>2.004699</td>\n",
       "      <td>31.721453</td>\n",
       "      <td>39.766898</td>\n",
       "      <td>16.115947</td>\n",
       "      <td>55.372404</td>\n",
       "    </tr>\n",
       "    <tr>\n",
       "      <th>8</th>\n",
       "      <td>35.744176</td>\n",
       "      <td>2.004699</td>\n",
       "      <td>31.721453</td>\n",
       "      <td>39.766898</td>\n",
       "      <td>16.115947</td>\n",
       "      <td>55.372404</td>\n",
       "    </tr>\n",
       "    <tr>\n",
       "      <th>50</th>\n",
       "      <td>35.744176</td>\n",
       "      <td>2.004699</td>\n",
       "      <td>31.721453</td>\n",
       "      <td>39.766898</td>\n",
       "      <td>16.115947</td>\n",
       "      <td>55.372404</td>\n",
       "    </tr>\n",
       "    <tr>\n",
       "      <th>44</th>\n",
       "      <td>34.453475</td>\n",
       "      <td>1.995219</td>\n",
       "      <td>30.449775</td>\n",
       "      <td>38.457175</td>\n",
       "      <td>14.829137</td>\n",
       "      <td>54.077814</td>\n",
       "    </tr>\n",
       "    <tr>\n",
       "      <th>26</th>\n",
       "      <td>33.224239</td>\n",
       "      <td>1.979593</td>\n",
       "      <td>29.251894</td>\n",
       "      <td>37.196583</td>\n",
       "      <td>13.606273</td>\n",
       "      <td>52.842204</td>\n",
       "    </tr>\n",
       "    <tr>\n",
       "      <th>20</th>\n",
       "      <td>33.224239</td>\n",
       "      <td>1.979593</td>\n",
       "      <td>29.251894</td>\n",
       "      <td>37.196583</td>\n",
       "      <td>13.606273</td>\n",
       "      <td>52.842204</td>\n",
       "    </tr>\n",
       "    <tr>\n",
       "      <th>2</th>\n",
       "      <td>32.056465</td>\n",
       "      <td>1.958240</td>\n",
       "      <td>28.126969</td>\n",
       "      <td>35.985962</td>\n",
       "      <td>12.447131</td>\n",
       "      <td>51.665800</td>\n",
       "    </tr>\n",
       "    <tr>\n",
       "      <th>9</th>\n",
       "      <td>28.921927</td>\n",
       "      <td>1.867568</td>\n",
       "      <td>25.174378</td>\n",
       "      <td>32.669476</td>\n",
       "      <td>9.348241</td>\n",
       "      <td>48.495612</td>\n",
       "    </tr>\n",
       "    <tr>\n",
       "      <th>33</th>\n",
       "      <td>28.921927</td>\n",
       "      <td>1.867568</td>\n",
       "      <td>25.174378</td>\n",
       "      <td>32.669476</td>\n",
       "      <td>9.348241</td>\n",
       "      <td>48.495612</td>\n",
       "    </tr>\n",
       "    <tr>\n",
       "      <th>14</th>\n",
       "      <td>28.000008</td>\n",
       "      <td>1.832501</td>\n",
       "      <td>24.322825</td>\n",
       "      <td>31.677191</td>\n",
       "      <td>8.439672</td>\n",
       "      <td>47.560343</td>\n",
       "    </tr>\n",
       "    <tr>\n",
       "      <th>45</th>\n",
       "      <td>25.603032</td>\n",
       "      <td>1.740064</td>\n",
       "      <td>22.111338</td>\n",
       "      <td>29.094725</td>\n",
       "      <td>6.076717</td>\n",
       "      <td>45.129346</td>\n",
       "    </tr>\n",
       "    <tr>\n",
       "      <th>49</th>\n",
       "      <td>24.926967</td>\n",
       "      <td>1.722859</td>\n",
       "      <td>21.469797</td>\n",
       "      <td>28.384136</td>\n",
       "      <td>5.406796</td>\n",
       "      <td>44.447137</td>\n",
       "    </tr>\n",
       "    <tr>\n",
       "      <th>37</th>\n",
       "      <td>24.312365</td>\n",
       "      <td>1.718093</td>\n",
       "      <td>20.864758</td>\n",
       "      <td>27.759972</td>\n",
       "      <td>4.793886</td>\n",
       "      <td>43.830844</td>\n",
       "    </tr>\n",
       "    <tr>\n",
       "      <th>25</th>\n",
       "      <td>24.312365</td>\n",
       "      <td>1.718093</td>\n",
       "      <td>20.864758</td>\n",
       "      <td>27.759972</td>\n",
       "      <td>4.793886</td>\n",
       "      <td>43.830844</td>\n",
       "    </tr>\n",
       "    <tr>\n",
       "      <th>13</th>\n",
       "      <td>24.312365</td>\n",
       "      <td>1.718093</td>\n",
       "      <td>20.864758</td>\n",
       "      <td>27.759972</td>\n",
       "      <td>4.793886</td>\n",
       "      <td>43.830844</td>\n",
       "    </tr>\n",
       "    <tr>\n",
       "      <th>1</th>\n",
       "      <td>23.759227</td>\n",
       "      <td>1.729420</td>\n",
       "      <td>20.288893</td>\n",
       "      <td>27.229561</td>\n",
       "      <td>4.236721</td>\n",
       "      <td>43.281734</td>\n",
       "    </tr>\n",
       "    <tr>\n",
       "      <th>21</th>\n",
       "      <td>22.837342</td>\n",
       "      <td>1.813673</td>\n",
       "      <td>19.197941</td>\n",
       "      <td>26.476742</td>\n",
       "      <td>3.284074</td>\n",
       "      <td>42.390610</td>\n",
       "    </tr>\n",
       "    <tr>\n",
       "      <th>34</th>\n",
       "      <td>22.468594</td>\n",
       "      <td>1.891675</td>\n",
       "      <td>18.672671</td>\n",
       "      <td>26.264518</td>\n",
       "      <td>2.885589</td>\n",
       "      <td>42.051599</td>\n",
       "    </tr>\n",
       "    <tr>\n",
       "      <th>36</th>\n",
       "      <td>22.161310</td>\n",
       "      <td>1.995499</td>\n",
       "      <td>18.157048</td>\n",
       "      <td>26.165573</td>\n",
       "      <td>2.536857</td>\n",
       "      <td>41.785764</td>\n",
       "    </tr>\n",
       "    <tr>\n",
       "      <th>10</th>\n",
       "      <td>22.161310</td>\n",
       "      <td>1.995499</td>\n",
       "      <td>18.157048</td>\n",
       "      <td>26.165573</td>\n",
       "      <td>2.536857</td>\n",
       "      <td>41.785764</td>\n",
       "    </tr>\n",
       "    <tr>\n",
       "      <th>46</th>\n",
       "      <td>21.915490</td>\n",
       "      <td>2.125429</td>\n",
       "      <td>17.650504</td>\n",
       "      <td>26.180476</td>\n",
       "      <td>2.236182</td>\n",
       "      <td>41.594798</td>\n",
       "    </tr>\n",
       "    <tr>\n",
       "      <th>22</th>\n",
       "      <td>21.731133</td>\n",
       "      <td>2.281014</td>\n",
       "      <td>17.153943</td>\n",
       "      <td>26.308324</td>\n",
       "      <td>1.981811</td>\n",
       "      <td>41.480455</td>\n",
       "    </tr>\n",
       "    <tr>\n",
       "      <th>35</th>\n",
       "      <td>21.731133</td>\n",
       "      <td>2.281014</td>\n",
       "      <td>17.153943</td>\n",
       "      <td>26.308324</td>\n",
       "      <td>1.981811</td>\n",
       "      <td>41.480455</td>\n",
       "    </tr>\n",
       "    <tr>\n",
       "      <th>0</th>\n",
       "      <td>21.731133</td>\n",
       "      <td>2.281014</td>\n",
       "      <td>17.153943</td>\n",
       "      <td>26.308324</td>\n",
       "      <td>1.981811</td>\n",
       "      <td>41.480455</td>\n",
       "    </tr>\n",
       "    <tr>\n",
       "      <th>12</th>\n",
       "      <td>21.608240</td>\n",
       "      <td>2.461311</td>\n",
       "      <td>16.669259</td>\n",
       "      <td>26.547221</td>\n",
       "      <td>1.771946</td>\n",
       "      <td>41.444534</td>\n",
       "    </tr>\n",
       "    <tr>\n",
       "      <th>24</th>\n",
       "      <td>21.608240</td>\n",
       "      <td>2.461311</td>\n",
       "      <td>16.669259</td>\n",
       "      <td>26.547221</td>\n",
       "      <td>1.771946</td>\n",
       "      <td>41.444534</td>\n",
       "    </tr>\n",
       "    <tr>\n",
       "      <th>48</th>\n",
       "      <td>21.546810</td>\n",
       "      <td>2.665113</td>\n",
       "      <td>16.198871</td>\n",
       "      <td>26.894750</td>\n",
       "      <td>1.604757</td>\n",
       "      <td>41.488864</td>\n",
       "    </tr>\n",
       "    <tr>\n",
       "      <th>11</th>\n",
       "      <td>21.546810</td>\n",
       "      <td>2.665113</td>\n",
       "      <td>16.198871</td>\n",
       "      <td>26.894750</td>\n",
       "      <td>1.604757</td>\n",
       "      <td>41.488864</td>\n",
       "    </tr>\n",
       "    <tr>\n",
       "      <th>23</th>\n",
       "      <td>21.608341</td>\n",
       "      <td>3.138134</td>\n",
       "      <td>15.311215</td>\n",
       "      <td>27.905468</td>\n",
       "      <td>1.391051</td>\n",
       "      <td>41.825632</td>\n",
       "    </tr>\n",
       "    <tr>\n",
       "      <th>47</th>\n",
       "      <td>21.915726</td>\n",
       "      <td>3.690631</td>\n",
       "      <td>14.509933</td>\n",
       "      <td>29.321519</td>\n",
       "      <td>1.326146</td>\n",
       "      <td>42.505307</td>\n",
       "    </tr>\n",
       "  </tbody>\n",
       "</table>\n",
       "</div>"
      ],
      "text/plain": [
       "          mean   mean_se  mean_ci_lower  mean_ci_upper  obs_ci_lower  \\\n",
       "53  103.045721  4.904832      93.203456     112.887986     81.459725   \n",
       "4    96.837973  4.230563      88.348727     105.327219     75.834346   \n",
       "42   79.689852  2.639513      74.393282      84.986423     59.761513   \n",
       "54   79.689852  2.639513      74.393282      84.986423     59.761513   \n",
       "41   74.465520  2.277803      69.894775      79.036266     54.717691   \n",
       "29   74.465520  2.277803      69.894775      79.036266     54.717691   \n",
       "17   71.945550  2.133371      67.664628      76.226472     52.262782   \n",
       "52   71.945550  2.133371      67.664628      76.226472     52.262782   \n",
       "40   69.487042  2.014142      65.445370      73.528715     49.854922   \n",
       "30   67.089999  1.920153      63.236929      70.943068     47.495837   \n",
       "6    64.754419  1.850688      61.040741      68.468096     45.187190   \n",
       "28   64.754419  1.850688      61.040741      68.468096     45.187190   \n",
       "43   62.480302  1.804180      58.859950      66.100654     42.930571   \n",
       "31   62.480302  1.804180      58.859950      66.100654     42.930571   \n",
       "16   58.116459  1.769885      54.564925      61.667994     38.579355   \n",
       "5    58.116459  1.769885      54.564925      61.667994     38.579355   \n",
       "18   58.116459  1.769885      54.564925      61.667994     38.579355   \n",
       "19   56.026733  1.775717      52.463496      59.589971     36.487498   \n",
       "3    53.998471  1.792302      50.401953      57.594989     34.453139   \n",
       "39   50.126336  1.844934      46.424205      53.828468     30.561295   \n",
       "7    48.282464  1.875460      44.519078      52.045851     28.705740   \n",
       "27   46.500056  1.905791      42.675807      50.324304     26.911541   \n",
       "51   44.779111  1.934168      40.897918      48.660304     25.179399   \n",
       "15   43.119630  1.959192      39.188224      47.051036     23.509913   \n",
       "32   39.985057  1.995087      35.981623      43.988492     20.360773   \n",
       "38   35.744176  2.004699      31.721453      39.766898     16.115947   \n",
       "8    35.744176  2.004699      31.721453      39.766898     16.115947   \n",
       "50   35.744176  2.004699      31.721453      39.766898     16.115947   \n",
       "44   34.453475  1.995219      30.449775      38.457175     14.829137   \n",
       "26   33.224239  1.979593      29.251894      37.196583     13.606273   \n",
       "20   33.224239  1.979593      29.251894      37.196583     13.606273   \n",
       "2    32.056465  1.958240      28.126969      35.985962     12.447131   \n",
       "9    28.921927  1.867568      25.174378      32.669476      9.348241   \n",
       "33   28.921927  1.867568      25.174378      32.669476      9.348241   \n",
       "14   28.000008  1.832501      24.322825      31.677191      8.439672   \n",
       "45   25.603032  1.740064      22.111338      29.094725      6.076717   \n",
       "49   24.926967  1.722859      21.469797      28.384136      5.406796   \n",
       "37   24.312365  1.718093      20.864758      27.759972      4.793886   \n",
       "25   24.312365  1.718093      20.864758      27.759972      4.793886   \n",
       "13   24.312365  1.718093      20.864758      27.759972      4.793886   \n",
       "1    23.759227  1.729420      20.288893      27.229561      4.236721   \n",
       "21   22.837342  1.813673      19.197941      26.476742      3.284074   \n",
       "34   22.468594  1.891675      18.672671      26.264518      2.885589   \n",
       "36   22.161310  1.995499      18.157048      26.165573      2.536857   \n",
       "10   22.161310  1.995499      18.157048      26.165573      2.536857   \n",
       "46   21.915490  2.125429      17.650504      26.180476      2.236182   \n",
       "22   21.731133  2.281014      17.153943      26.308324      1.981811   \n",
       "35   21.731133  2.281014      17.153943      26.308324      1.981811   \n",
       "0    21.731133  2.281014      17.153943      26.308324      1.981811   \n",
       "12   21.608240  2.461311      16.669259      26.547221      1.771946   \n",
       "24   21.608240  2.461311      16.669259      26.547221      1.771946   \n",
       "48   21.546810  2.665113      16.198871      26.894750      1.604757   \n",
       "11   21.546810  2.665113      16.198871      26.894750      1.604757   \n",
       "23   21.608341  3.138134      15.311215      27.905468      1.391051   \n",
       "47   21.915726  3.690631      14.509933      29.321519      1.326146   \n",
       "\n",
       "    obs_ci_upper  \n",
       "53    124.631717  \n",
       "4     117.841600  \n",
       "42     99.618192  \n",
       "54     99.618192  \n",
       "41     94.213350  \n",
       "29     94.213350  \n",
       "17     91.628317  \n",
       "52     91.628317  \n",
       "40     89.119163  \n",
       "30     86.684161  \n",
       "6      84.321648  \n",
       "28     84.321648  \n",
       "43     82.030033  \n",
       "31     82.030033  \n",
       "16     77.653564  \n",
       "5      77.653564  \n",
       "18     77.653564  \n",
       "19     75.565968  \n",
       "3      73.543802  \n",
       "39     69.691377  \n",
       "7      67.859188  \n",
       "27     66.088571  \n",
       "51     64.378823  \n",
       "15     62.729347  \n",
       "32     59.609342  \n",
       "38     55.372404  \n",
       "8      55.372404  \n",
       "50     55.372404  \n",
       "44     54.077814  \n",
       "26     52.842204  \n",
       "20     52.842204  \n",
       "2      51.665800  \n",
       "9      48.495612  \n",
       "33     48.495612  \n",
       "14     47.560343  \n",
       "45     45.129346  \n",
       "49     44.447137  \n",
       "37     43.830844  \n",
       "25     43.830844  \n",
       "13     43.830844  \n",
       "1      43.281734  \n",
       "21     42.390610  \n",
       "34     42.051599  \n",
       "36     41.785764  \n",
       "10     41.785764  \n",
       "46     41.594798  \n",
       "22     41.480455  \n",
       "35     41.480455  \n",
       "0      41.480455  \n",
       "12     41.444534  \n",
       "24     41.444534  \n",
       "48     41.488864  \n",
       "11     41.488864  \n",
       "23     41.825632  \n",
       "47     42.505307  "
      ]
     },
     "execution_count": 21,
     "metadata": {},
     "output_type": "execute_result"
    }
   ],
   "source": [
    "predictions = model.get_prediction(X)\n",
    "predictions.summary_frame(alpha=0.05) # alpha=0.05 -> 95% confidence interval"
   ]
  },
  {
   "cell_type": "code",
   "execution_count": 22,
   "metadata": {},
   "outputs": [
    {
     "data": {
      "text/plain": [
       "<matplotlib.legend.Legend at 0x1c1b983550>"
      ]
     },
     "execution_count": 22,
     "metadata": {},
     "output_type": "execute_result"
    },
    {
     "data": {
      "image/png": "[encoded data removed]",
      "text/plain": [
       "<Figure size 432x288 with 1 Axes>"
      ]
     },
     "metadata": {
      "needs_background": "light"
     },
     "output_type": "display_data"
    }
   ],
   "source": [
    "# plot confidence intervals \n",
    "CI = predictions.conf_int(alpha=.05)\n",
    "p = usage.plot.scatter('temperature', 'usage', color='red', label='data')\n",
    "p.plot(usage['temperature'], CI[:,0], color='blue', label=\"lower CI\")\n",
    "p.plot(usage['temperature'], CI[:,1], color='green', label='upper CI')\n",
    "p.legend()"
   ]
  },
  {
   "cell_type": "code",
   "execution_count": 23,
   "metadata": {},
   "outputs": [],
   "source": [
    "def prediction_interval(predictions, alpha=.05):\n",
    "    emean = predictions.predicted_mean\n",
    "    sigma = np.sqrt(predictions.var_resid)\n",
    "    n = len(emean)\n",
    "    PI = np.zeros((n,2))\n",
    "    PI[:,0] = emean + norm.ppf(alpha/2)*sigma\n",
    "    PI[:,1] = emean + norm.ppf(1-alpha/2)*sigma\n",
    "    return PI"
   ]
  },
  {
   "cell_type": "code",
   "execution_count": 24,
   "metadata": {},
   "outputs": [
    {
     "data": {
      "text/plain": [
       "<matplotlib.legend.Legend at 0x1c1bbaa5c0>"
      ]
     },
     "execution_count": 24,
     "metadata": {},
     "output_type": "execute_result"
    },
    {
     "data": {
      "image/png": "[encoded data removed]",
      "text/plain": [
       "<Figure size 432x288 with 1 Axes>"
      ]
     },
     "metadata": {
      "needs_background": "light"
     },
     "output_type": "display_data"
    }
   ],
   "source": [
    "# plot prediction intervals \n",
    "PI = prediction_interval(predictions, alpha = .1)\n",
    "p = usage.plot.scatter('temperature', 'usage', color='red', label='data')\n",
    "p.plot(usage['temperature'], PI[:,0], color='blue', label=\"lower PI\")\n",
    "p.plot(usage['temperature'], PI[:,1], color='green', label='upper PI')\n",
    "p.legend()"
   ]
  },
  {
   "cell_type": "markdown",
   "metadata": {},
   "source": [
    "# Log transformations"
   ]
  },
  {
   "cell_type": "code",
   "execution_count": 36,
   "metadata": {},
   "outputs": [
    {
     "data": {
      "text/plain": [
       "<matplotlib.collections.PathCollection at 0x1c1df467b8>"
      ]
     },
     "execution_count": 36,
     "metadata": {},
     "output_type": "execute_result"
    },
    {
     "data": {
      "image/png": "[encoded data removed]",
      "text/plain": [
       "<Figure size 432x288 with 1 Axes>"
      ]
     },
     "metadata": {
      "needs_background": "light"
     },
     "output_type": "display_data"
    }
   ],
   "source": [
    "np.random.seed(0)\n",
    "n = 60\n",
    "x = 4*np.random.rand(n)\n",
    "y = np.exp(x + .5*np.random.randn(n))\n",
    "plt.scatter(x,y)"
   ]
  },
  {
   "cell_type": "code",
   "execution_count": 49,
   "metadata": {},
   "outputs": [
    {
     "data": {
      "text/plain": [
       "array([ 2.26887769,  0.47987694,  2.07346559,  1.45187715,  1.15908017,\n",
       "        2.44214707,  1.96259686,  4.09039048,  1.14799228,  5.03819894,\n",
       "        1.2826719 ,  2.3321259 ,  5.57314632,  1.89541726,  1.60905577,\n",
       "        3.76282291,  3.44334413,  5.23746585,  3.86667704,  5.40179028,\n",
       "        5.36839018, 10.58407328,  5.95128675,  2.9462304 ,  7.8258515 ,\n",
       "       11.19668544, 16.88987119,  6.90065974,  6.92960698,  4.89990903,\n",
       "        5.74035316,  6.45984358,  4.50691981, 25.08731727,  8.63350821,\n",
       "       20.85873231, 10.78087326, 30.52318554,  9.18231214, 16.40756301,\n",
       "       11.08534329, 17.20586063, 20.81841773, 25.90684086, 18.07739518,\n",
       "       21.20440015, 34.72111493, 14.28168321, 12.2399329 , 16.95681687,\n",
       "       26.07887794, 35.22903181, 33.31545125, 41.19545571, 17.10285232,\n",
       "       25.52391876, 32.76139485, 34.38051554, 72.16958163, 27.61206605])"
      ]
     },
     "execution_count": 49,
     "metadata": {},
     "output_type": "execute_result"
    }
   ],
   "source": [
    "idx = np.argsort(x)\n",
    "x = x[idx]\n",
    "y = y[idx]"
   ]
  },
  {
   "cell_type": "code",
   "execution_count": 53,
   "metadata": {},
   "outputs": [
    {
     "data": {
      "text/plain": [
       "[<matplotlib.lines.Line2D at 0x1c1dcefdd8>]"
      ]
     },
     "execution_count": 53,
     "metadata": {},
     "output_type": "execute_result"
    },
    {
     "data": {
      "image/png": "[encoded data removed]",
      "text/plain": [
       "<Figure size 432x288 with 1 Axes>"
      ]
     },
     "metadata": {
      "needs_background": "light"
     },
     "output_type": "display_data"
    }
   ],
   "source": [
    "# use linear model - bad fit!\n",
    "model = sm.OLS(y,x).fit()\n",
    "predictions = model.get_prediction(x)\n",
    "yhat = predictions.predicted_mean\n",
    "PI = prediction_interval(predictions)\n",
    "plt.scatter(x,y)\n",
    "plt.plot(x,yhat,color='red')\n",
    "plt.plot(x,PI[:,0],color='blue')\n",
    "plt.plot(x,PI[:,1],color='blue')"
   ]
  },
  {
   "cell_type": "code",
   "execution_count": 52,
   "metadata": {},
   "outputs": [
    {
     "data": {
      "text/plain": [
       "[<matplotlib.lines.Line2D at 0x1c1f205438>]"
      ]
     },
     "execution_count": 52,
     "metadata": {},
     "output_type": "execute_result"
    },
    {
     "data": {
      "image/png": "[encoded data removed]",
      "text/plain": [
       "<Figure size 432x288 with 1 Axes>"
      ]
     },
     "metadata": {
      "needs_background": "light"
     },
     "output_type": "display_data"
    }
   ],
   "source": [
    "# use linear model with log transform\n",
    "model = sm.OLS(np.log(y),x).fit()\n",
    "predictions = model.get_prediction(x)\n",
    "yhat = np.exp(predictions.predicted_mean)\n",
    "PI = np.exp(prediction_interval(predictions))\n",
    "plt.scatter(x,y)\n",
    "plt.plot(x,yhat,color='red')\n",
    "plt.plot(x,PI[:,0],color='blue')\n",
    "plt.plot(x,PI[:,1],color='blue')"
   ]
  }
 ],
 "metadata": {
  "kernelspec": {
   "display_name": "Python 3",
   "language": "python",
   "name": "python3"
  },
  "language_info": {
   "codemirror_mode": {
    "name": "ipython",
    "version": 3
   },
   "file_extension": ".py",
   "mimetype": "text/x-python",
   "name": "python",
   "nbconvert_exporter": "python",
   "pygments_lexer": "ipython3",
   "version": "3.7.1"
  }
 },
 "nbformat": 4,
 "nbformat_minor": 2
}
